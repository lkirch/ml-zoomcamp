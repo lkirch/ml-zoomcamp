{
 "cells": [
  {
   "cell_type": "markdown",
   "metadata": {},
   "source": [
    "<h2>The Great Resignation, A Classification Problem</h2>"
   ]
  },
  {
   "cell_type": "markdown",
   "metadata": {},
   "source": [
    "With all of the talk of the Great Resignation in the news these days due to COVID-19 and general job dissatisfaction, I decided to examine whether a person quits their job or not. (For more details see the [reference articles](#reference))"
   ]
  },
  {
   "cell_type": "markdown",
   "metadata": {},
   "source": [
    "<img src=\"images/i-quit.jpeg\" alt=\"I Quit!\" style=\"width: 600px;\"/>"
   ]
  },
  {
   "cell_type": "markdown",
   "metadata": {},
   "source": [
    "Not having enough time to conduct my own study for data gathering (<i>we only have 2 weeks for the project</i>), I decided to use some already available data made possible by <a href=\"https://github.com/VincentTatan/PythonAnalytics/blob/master/Youtube/dataset/HR_comma_sep.csv\">Vincent Tatan</a> (<i>thank you!</i>).  "
   ]
  },
  {
   "cell_type": "markdown",
   "metadata": {},
   "source": [
    "<h3>Data</h3>\n",
    "The data set can be found at <a href=\"https://github.com/VincentTatan/PythonAnalytics/blob/master/Youtube/dataset/HR_comma_sep.csv\">https://github.com/VincentTatan/PythonAnalytics/blob/master/Youtube/dataset/HR_comma_sep.csv</a>\n",
    "\n",
    "Fields include:\n",
    "* employee satisfaction level\n",
    "* last evaluation\n",
    "* number of projects\n",
    "* average montly hours\n",
    "* time spent at the company \n",
    "* if there was a work accident\n",
    "* was there promotion within the last 5 years\n",
    "* job category\n",
    "* salary (grouped by low, medium, or high)   \n",
    "* whether or not the person quit their job"
   ]
  },
  {
   "cell_type": "markdown",
   "metadata": {},
   "source": [
    "<h3>Models</h3>\n",
    "Given the binary nature of someone either quitting or not, we will use the following classification models to test our theory of whether or not someone will quit, given the above fields:\n",
    "\n",
    "* Naive Bayes\n",
    "* Logistic Regression\n",
    "* Decision Trees\n",
    "* Random Forest\n",
    "* SVM\n",
    "* XGBoost"
   ]
  },
  {
   "cell_type": "markdown",
   "metadata": {},
   "source": [
    "<h3>Metrics</h3>\n",
    "Also given the binary nature and the tendency for the majority of the samples to be imbalanced towards people not quitting, we will use <a href=\"https://scikit-learn.org/stable/modules/generated/sklearn.metrics.roc_auc_score.html\">Area Under the Receiver Operating Characteristic Curve (ROC AUC)</a> from prediction scores, rather than accuracy as our evaluation metric."
   ]
  },
  {
   "cell_type": "code",
   "execution_count": 1,
   "metadata": {},
   "outputs": [],
   "source": [
    "import sys\n",
    "!{sys.executable} -m pip install -r requirements.txt -qqq "
   ]
  },
  {
   "cell_type": "code",
   "execution_count": 2,
   "metadata": {},
   "outputs": [],
   "source": [
    "import warnings\n",
    "warnings.filterwarnings(\"ignore\")\n",
    "\n",
    "import pandas as pd\n",
    "import numpy as np\n",
    "\n",
    "#!pip install -U scikit-learn\n",
    "#!pip install -U imbalanced-learn\n",
    "#!pip install xgboost\n",
    "#!pip install --upgrade matplotlib\n",
    "#!pip install pipreqs\n",
    "\n",
    "from collections import Counter\n",
    "\n",
    "from sklearn.model_selection import train_test_split, cross_val_score, RepeatedStratifiedKFold, GridSearchCV\n",
    "from sklearn.feature_extraction import DictVectorizer\n",
    "from sklearn.feature_selection import RFE\n",
    "from sklearn.naive_bayes import GaussianNB\n",
    "from sklearn.linear_model import LogisticRegression\n",
    "from sklearn.tree import DecisionTreeClassifier, export_text\n",
    "from sklearn.ensemble import RandomForestClassifier\n",
    "from sklearn import svm\n",
    "\n",
    "from sklearn.metrics import accuracy_score, balanced_accuracy_score, precision_score, recall_score\n",
    "from sklearn.metrics import f1_score, confusion_matrix, roc_auc_score, roc_curve, auc\n",
    "from sklearn.metrics import confusion_matrix, classification_report, mutual_info_score\n",
    "\n",
    "import xgboost as xgb\n",
    "\n",
    "import pickle\n",
    "\n",
    "from imblearn.over_sampling import SMOTE\n",
    "\n",
    "import seaborn as sns\n",
    "import matplotlib.pyplot as plt\n",
    "\n",
    "%matplotlib inline"
   ]
  },
  {
   "cell_type": "code",
   "execution_count": 3,
   "metadata": {},
   "outputs": [
    {
     "data": {
      "text/plain": [
       "'1.0.1'"
      ]
     },
     "execution_count": 3,
     "metadata": {},
     "output_type": "execute_result"
    }
   ],
   "source": [
    "import sklearn\n",
    "sklearn.__version__"
   ]
  },
  {
   "cell_type": "code",
   "execution_count": 4,
   "metadata": {},
   "outputs": [],
   "source": [
    "pd.set_option('display.max_rows', None)\n",
    "pd.set_option('display.max_columns', None)"
   ]
  },
  {
   "cell_type": "markdown",
   "metadata": {},
   "source": [
    "<h3>Let's explore the data</h3>"
   ]
  },
  {
   "cell_type": "markdown",
   "metadata": {},
   "source": [
    "Our dataset has 14,999 records with 9 independent variables and our dependent variable, whether or not someone quit."
   ]
  },
  {
   "cell_type": "code",
   "execution_count": 5,
   "metadata": {},
   "outputs": [],
   "source": [
    "df_cols = ['satisfaction_level','last_eval','num_projects','avg_monthly_hrs','time_spent_at_company',\n",
    "           'work_accident','quit','promotion_last_5_yrs','job_category','salary_group']"
   ]
  },
  {
   "cell_type": "code",
   "execution_count": 6,
   "metadata": {},
   "outputs": [
    {
     "name": "stdout",
     "output_type": "stream",
     "text": [
      "<class 'pandas.core.frame.DataFrame'>\n",
      "RangeIndex: 14999 entries, 0 to 14998\n",
      "Data columns (total 10 columns):\n",
      " #   Column                 Non-Null Count  Dtype  \n",
      "---  ------                 --------------  -----  \n",
      " 0   satisfaction_level     14999 non-null  float64\n",
      " 1   last_eval              14999 non-null  float64\n",
      " 2   num_projects           14999 non-null  int64  \n",
      " 3   avg_monthly_hrs        14999 non-null  int64  \n",
      " 4   time_spent_at_company  14999 non-null  int64  \n",
      " 5   work_accident          14999 non-null  int64  \n",
      " 6   quit                   14999 non-null  int64  \n",
      " 7   promotion_last_5_yrs   14999 non-null  int64  \n",
      " 8   job_category           14999 non-null  object \n",
      " 9   salary_group           14999 non-null  object \n",
      "dtypes: float64(2), int64(6), object(2)\n",
      "memory usage: 1.1+ MB\n"
     ]
    }
   ],
   "source": [
    "df = pd.read_csv('data/HR_comma_sep.csv', names=df_cols, skiprows=1)\n",
    "df.info()"
   ]
  },
  {
   "cell_type": "markdown",
   "metadata": {},
   "source": [
    "All the fields are set as non-null. Since there is some value in each field, no need to check for missing values, just check to see if the values make sense."
   ]
  },
  {
   "cell_type": "code",
   "execution_count": 7,
   "metadata": {},
   "outputs": [
    {
     "data": {
      "text/html": [
       "<div>\n",
       "<style scoped>\n",
       "    .dataframe tbody tr th:only-of-type {\n",
       "        vertical-align: middle;\n",
       "    }\n",
       "\n",
       "    .dataframe tbody tr th {\n",
       "        vertical-align: top;\n",
       "    }\n",
       "\n",
       "    .dataframe thead th {\n",
       "        text-align: right;\n",
       "    }\n",
       "</style>\n",
       "<table border=\"1\" class=\"dataframe\">\n",
       "  <thead>\n",
       "    <tr style=\"text-align: right;\">\n",
       "      <th></th>\n",
       "      <th>satisfaction_level</th>\n",
       "      <th>last_eval</th>\n",
       "      <th>num_projects</th>\n",
       "      <th>avg_monthly_hrs</th>\n",
       "      <th>time_spent_at_company</th>\n",
       "      <th>work_accident</th>\n",
       "      <th>quit</th>\n",
       "      <th>promotion_last_5_yrs</th>\n",
       "      <th>job_category</th>\n",
       "      <th>salary_group</th>\n",
       "    </tr>\n",
       "  </thead>\n",
       "  <tbody>\n",
       "    <tr>\n",
       "      <th>0</th>\n",
       "      <td>0.38</td>\n",
       "      <td>0.53</td>\n",
       "      <td>2</td>\n",
       "      <td>157</td>\n",
       "      <td>3</td>\n",
       "      <td>0</td>\n",
       "      <td>1</td>\n",
       "      <td>0</td>\n",
       "      <td>sales</td>\n",
       "      <td>low</td>\n",
       "    </tr>\n",
       "    <tr>\n",
       "      <th>1</th>\n",
       "      <td>0.80</td>\n",
       "      <td>0.86</td>\n",
       "      <td>5</td>\n",
       "      <td>262</td>\n",
       "      <td>6</td>\n",
       "      <td>0</td>\n",
       "      <td>1</td>\n",
       "      <td>0</td>\n",
       "      <td>sales</td>\n",
       "      <td>medium</td>\n",
       "    </tr>\n",
       "    <tr>\n",
       "      <th>2</th>\n",
       "      <td>0.11</td>\n",
       "      <td>0.88</td>\n",
       "      <td>7</td>\n",
       "      <td>272</td>\n",
       "      <td>4</td>\n",
       "      <td>0</td>\n",
       "      <td>1</td>\n",
       "      <td>0</td>\n",
       "      <td>sales</td>\n",
       "      <td>medium</td>\n",
       "    </tr>\n",
       "    <tr>\n",
       "      <th>3</th>\n",
       "      <td>0.72</td>\n",
       "      <td>0.87</td>\n",
       "      <td>5</td>\n",
       "      <td>223</td>\n",
       "      <td>5</td>\n",
       "      <td>0</td>\n",
       "      <td>1</td>\n",
       "      <td>0</td>\n",
       "      <td>sales</td>\n",
       "      <td>low</td>\n",
       "    </tr>\n",
       "    <tr>\n",
       "      <th>4</th>\n",
       "      <td>0.37</td>\n",
       "      <td>0.52</td>\n",
       "      <td>2</td>\n",
       "      <td>159</td>\n",
       "      <td>3</td>\n",
       "      <td>0</td>\n",
       "      <td>1</td>\n",
       "      <td>0</td>\n",
       "      <td>sales</td>\n",
       "      <td>low</td>\n",
       "    </tr>\n",
       "  </tbody>\n",
       "</table>\n",
       "</div>"
      ],
      "text/plain": [
       "   satisfaction_level  last_eval  num_projects  avg_monthly_hrs  \\\n",
       "0                0.38       0.53             2              157   \n",
       "1                0.80       0.86             5              262   \n",
       "2                0.11       0.88             7              272   \n",
       "3                0.72       0.87             5              223   \n",
       "4                0.37       0.52             2              159   \n",
       "\n",
       "   time_spent_at_company  work_accident  quit  promotion_last_5_yrs  \\\n",
       "0                      3              0     1                     0   \n",
       "1                      6              0     1                     0   \n",
       "2                      4              0     1                     0   \n",
       "3                      5              0     1                     0   \n",
       "4                      3              0     1                     0   \n",
       "\n",
       "  job_category salary_group  \n",
       "0        sales          low  \n",
       "1        sales       medium  \n",
       "2        sales       medium  \n",
       "3        sales          low  \n",
       "4        sales          low  "
      ]
     },
     "execution_count": 7,
     "metadata": {},
     "output_type": "execute_result"
    }
   ],
   "source": [
    "# top of the file\n",
    "df.head()"
   ]
  },
  {
   "cell_type": "code",
   "execution_count": 8,
   "metadata": {},
   "outputs": [
    {
     "data": {
      "text/html": [
       "<div>\n",
       "<style scoped>\n",
       "    .dataframe tbody tr th:only-of-type {\n",
       "        vertical-align: middle;\n",
       "    }\n",
       "\n",
       "    .dataframe tbody tr th {\n",
       "        vertical-align: top;\n",
       "    }\n",
       "\n",
       "    .dataframe thead th {\n",
       "        text-align: right;\n",
       "    }\n",
       "</style>\n",
       "<table border=\"1\" class=\"dataframe\">\n",
       "  <thead>\n",
       "    <tr style=\"text-align: right;\">\n",
       "      <th></th>\n",
       "      <th>satisfaction_level</th>\n",
       "      <th>last_eval</th>\n",
       "      <th>num_projects</th>\n",
       "      <th>avg_monthly_hrs</th>\n",
       "      <th>time_spent_at_company</th>\n",
       "      <th>work_accident</th>\n",
       "      <th>quit</th>\n",
       "      <th>promotion_last_5_yrs</th>\n",
       "      <th>job_category</th>\n",
       "      <th>salary_group</th>\n",
       "    </tr>\n",
       "  </thead>\n",
       "  <tbody>\n",
       "    <tr>\n",
       "      <th>14994</th>\n",
       "      <td>0.40</td>\n",
       "      <td>0.57</td>\n",
       "      <td>2</td>\n",
       "      <td>151</td>\n",
       "      <td>3</td>\n",
       "      <td>0</td>\n",
       "      <td>1</td>\n",
       "      <td>0</td>\n",
       "      <td>support</td>\n",
       "      <td>low</td>\n",
       "    </tr>\n",
       "    <tr>\n",
       "      <th>14995</th>\n",
       "      <td>0.37</td>\n",
       "      <td>0.48</td>\n",
       "      <td>2</td>\n",
       "      <td>160</td>\n",
       "      <td>3</td>\n",
       "      <td>0</td>\n",
       "      <td>1</td>\n",
       "      <td>0</td>\n",
       "      <td>support</td>\n",
       "      <td>low</td>\n",
       "    </tr>\n",
       "    <tr>\n",
       "      <th>14996</th>\n",
       "      <td>0.37</td>\n",
       "      <td>0.53</td>\n",
       "      <td>2</td>\n",
       "      <td>143</td>\n",
       "      <td>3</td>\n",
       "      <td>0</td>\n",
       "      <td>1</td>\n",
       "      <td>0</td>\n",
       "      <td>support</td>\n",
       "      <td>low</td>\n",
       "    </tr>\n",
       "    <tr>\n",
       "      <th>14997</th>\n",
       "      <td>0.11</td>\n",
       "      <td>0.96</td>\n",
       "      <td>6</td>\n",
       "      <td>280</td>\n",
       "      <td>4</td>\n",
       "      <td>0</td>\n",
       "      <td>1</td>\n",
       "      <td>0</td>\n",
       "      <td>support</td>\n",
       "      <td>low</td>\n",
       "    </tr>\n",
       "    <tr>\n",
       "      <th>14998</th>\n",
       "      <td>0.37</td>\n",
       "      <td>0.52</td>\n",
       "      <td>2</td>\n",
       "      <td>158</td>\n",
       "      <td>3</td>\n",
       "      <td>0</td>\n",
       "      <td>1</td>\n",
       "      <td>0</td>\n",
       "      <td>support</td>\n",
       "      <td>low</td>\n",
       "    </tr>\n",
       "  </tbody>\n",
       "</table>\n",
       "</div>"
      ],
      "text/plain": [
       "       satisfaction_level  last_eval  num_projects  avg_monthly_hrs  \\\n",
       "14994                0.40       0.57             2              151   \n",
       "14995                0.37       0.48             2              160   \n",
       "14996                0.37       0.53             2              143   \n",
       "14997                0.11       0.96             6              280   \n",
       "14998                0.37       0.52             2              158   \n",
       "\n",
       "       time_spent_at_company  work_accident  quit  promotion_last_5_yrs  \\\n",
       "14994                      3              0     1                     0   \n",
       "14995                      3              0     1                     0   \n",
       "14996                      3              0     1                     0   \n",
       "14997                      4              0     1                     0   \n",
       "14998                      3              0     1                     0   \n",
       "\n",
       "      job_category salary_group  \n",
       "14994      support          low  \n",
       "14995      support          low  \n",
       "14996      support          low  \n",
       "14997      support          low  \n",
       "14998      support          low  "
      ]
     },
     "execution_count": 8,
     "metadata": {},
     "output_type": "execute_result"
    }
   ],
   "source": [
    "# bottom of the file\n",
    "df.tail()"
   ]
  },
  {
   "cell_type": "code",
   "execution_count": 9,
   "metadata": {},
   "outputs": [
    {
     "data": {
      "text/html": [
       "<div>\n",
       "<style scoped>\n",
       "    .dataframe tbody tr th:only-of-type {\n",
       "        vertical-align: middle;\n",
       "    }\n",
       "\n",
       "    .dataframe tbody tr th {\n",
       "        vertical-align: top;\n",
       "    }\n",
       "\n",
       "    .dataframe thead th {\n",
       "        text-align: right;\n",
       "    }\n",
       "</style>\n",
       "<table border=\"1\" class=\"dataframe\">\n",
       "  <thead>\n",
       "    <tr style=\"text-align: right;\">\n",
       "      <th></th>\n",
       "      <th>satisfaction_level</th>\n",
       "      <th>last_eval</th>\n",
       "      <th>num_projects</th>\n",
       "      <th>avg_monthly_hrs</th>\n",
       "      <th>time_spent_at_company</th>\n",
       "      <th>work_accident</th>\n",
       "      <th>quit</th>\n",
       "      <th>promotion_last_5_yrs</th>\n",
       "      <th>job_category</th>\n",
       "      <th>salary_group</th>\n",
       "    </tr>\n",
       "  </thead>\n",
       "  <tbody>\n",
       "    <tr>\n",
       "      <th>7775</th>\n",
       "      <td>0.67</td>\n",
       "      <td>0.94</td>\n",
       "      <td>2</td>\n",
       "      <td>192</td>\n",
       "      <td>3</td>\n",
       "      <td>0</td>\n",
       "      <td>0</td>\n",
       "      <td>0</td>\n",
       "      <td>product_mng</td>\n",
       "      <td>low</td>\n",
       "    </tr>\n",
       "    <tr>\n",
       "      <th>2696</th>\n",
       "      <td>0.50</td>\n",
       "      <td>0.55</td>\n",
       "      <td>3</td>\n",
       "      <td>176</td>\n",
       "      <td>3</td>\n",
       "      <td>0</td>\n",
       "      <td>0</td>\n",
       "      <td>0</td>\n",
       "      <td>sales</td>\n",
       "      <td>low</td>\n",
       "    </tr>\n",
       "    <tr>\n",
       "      <th>3685</th>\n",
       "      <td>0.68</td>\n",
       "      <td>0.88</td>\n",
       "      <td>5</td>\n",
       "      <td>201</td>\n",
       "      <td>3</td>\n",
       "      <td>0</td>\n",
       "      <td>0</td>\n",
       "      <td>0</td>\n",
       "      <td>sales</td>\n",
       "      <td>medium</td>\n",
       "    </tr>\n",
       "    <tr>\n",
       "      <th>11535</th>\n",
       "      <td>0.57</td>\n",
       "      <td>0.66</td>\n",
       "      <td>3</td>\n",
       "      <td>268</td>\n",
       "      <td>3</td>\n",
       "      <td>0</td>\n",
       "      <td>0</td>\n",
       "      <td>0</td>\n",
       "      <td>sales</td>\n",
       "      <td>low</td>\n",
       "    </tr>\n",
       "    <tr>\n",
       "      <th>4774</th>\n",
       "      <td>0.41</td>\n",
       "      <td>0.59</td>\n",
       "      <td>2</td>\n",
       "      <td>182</td>\n",
       "      <td>3</td>\n",
       "      <td>0</td>\n",
       "      <td>0</td>\n",
       "      <td>0</td>\n",
       "      <td>technical</td>\n",
       "      <td>medium</td>\n",
       "    </tr>\n",
       "  </tbody>\n",
       "</table>\n",
       "</div>"
      ],
      "text/plain": [
       "       satisfaction_level  last_eval  num_projects  avg_monthly_hrs  \\\n",
       "7775                 0.67       0.94             2              192   \n",
       "2696                 0.50       0.55             3              176   \n",
       "3685                 0.68       0.88             5              201   \n",
       "11535                0.57       0.66             3              268   \n",
       "4774                 0.41       0.59             2              182   \n",
       "\n",
       "       time_spent_at_company  work_accident  quit  promotion_last_5_yrs  \\\n",
       "7775                       3              0     0                     0   \n",
       "2696                       3              0     0                     0   \n",
       "3685                       3              0     0                     0   \n",
       "11535                      3              0     0                     0   \n",
       "4774                       3              0     0                     0   \n",
       "\n",
       "      job_category salary_group  \n",
       "7775   product_mng          low  \n",
       "2696         sales          low  \n",
       "3685         sales       medium  \n",
       "11535        sales          low  \n",
       "4774     technical       medium  "
      ]
     },
     "execution_count": 9,
     "metadata": {},
     "output_type": "execute_result"
    }
   ],
   "source": [
    "# random sample\n",
    "df.sample(5)"
   ]
  },
  {
   "cell_type": "markdown",
   "metadata": {},
   "source": [
    "<h3>Split the dataset into train, validation, and test 60/20/20.</h3>"
   ]
  },
  {
   "cell_type": "code",
   "execution_count": 10,
   "metadata": {},
   "outputs": [],
   "source": [
    "df_full_train, df_test = train_test_split(df, test_size=0.2, random_state=42)\n",
    "df_train, df_val = train_test_split(df_full_train, test_size=0.25, random_state=42)\n",
    "\n",
    "df_train = df_train.reset_index(drop=True)\n",
    "df_val = df_val.reset_index(drop=True)\n",
    "df_test = df_test.reset_index(drop=True)\n",
    "\n",
    "y_train = df_train['quit']\n",
    "y_val = df_val['quit']\n",
    "y_test = df_test['quit']\n",
    "\n",
    "del df_train['quit']\n",
    "del df_val['quit']\n",
    "del df_test['quit']"
   ]
  },
  {
   "cell_type": "markdown",
   "metadata": {},
   "source": [
    "<h3>Encode the Categorical Data</h3>"
   ]
  },
  {
   "cell_type": "code",
   "execution_count": 11,
   "metadata": {},
   "outputs": [],
   "source": [
    "dv = DictVectorizer(sparse=False)\n",
    "\n",
    "train_dict = df_train.to_dict(orient='records')\n",
    "X_train = dv.fit_transform(train_dict)\n",
    "\n",
    "val_dict = df_val.to_dict(orient='records')\n",
    "X_val = dv.transform(val_dict)"
   ]
  },
  {
   "cell_type": "code",
   "execution_count": 12,
   "metadata": {},
   "outputs": [
    {
     "data": {
      "text/html": [
       "<div>\n",
       "<style scoped>\n",
       "    .dataframe tbody tr th:only-of-type {\n",
       "        vertical-align: middle;\n",
       "    }\n",
       "\n",
       "    .dataframe tbody tr th {\n",
       "        vertical-align: top;\n",
       "    }\n",
       "\n",
       "    .dataframe thead th {\n",
       "        text-align: right;\n",
       "    }\n",
       "</style>\n",
       "<table border=\"1\" class=\"dataframe\">\n",
       "  <thead>\n",
       "    <tr style=\"text-align: right;\">\n",
       "      <th></th>\n",
       "      <th>satisfaction_level</th>\n",
       "      <th>last_eval</th>\n",
       "      <th>num_projects</th>\n",
       "      <th>avg_monthly_hrs</th>\n",
       "      <th>time_spent_at_company</th>\n",
       "      <th>work_accident</th>\n",
       "      <th>promotion_last_5_yrs</th>\n",
       "    </tr>\n",
       "  </thead>\n",
       "  <tbody>\n",
       "    <tr>\n",
       "      <th>count</th>\n",
       "      <td>8999.000000</td>\n",
       "      <td>8999.000000</td>\n",
       "      <td>8999.000000</td>\n",
       "      <td>8999.000000</td>\n",
       "      <td>8999.000000</td>\n",
       "      <td>8999.000000</td>\n",
       "      <td>8999.000000</td>\n",
       "    </tr>\n",
       "    <tr>\n",
       "      <th>mean</th>\n",
       "      <td>0.611391</td>\n",
       "      <td>0.717209</td>\n",
       "      <td>3.802200</td>\n",
       "      <td>200.682409</td>\n",
       "      <td>3.510835</td>\n",
       "      <td>0.145016</td>\n",
       "      <td>0.021225</td>\n",
       "    </tr>\n",
       "    <tr>\n",
       "      <th>std</th>\n",
       "      <td>0.249332</td>\n",
       "      <td>0.171753</td>\n",
       "      <td>1.245928</td>\n",
       "      <td>49.993554</td>\n",
       "      <td>1.469203</td>\n",
       "      <td>0.352137</td>\n",
       "      <td>0.144140</td>\n",
       "    </tr>\n",
       "    <tr>\n",
       "      <th>min</th>\n",
       "      <td>0.090000</td>\n",
       "      <td>0.360000</td>\n",
       "      <td>2.000000</td>\n",
       "      <td>96.000000</td>\n",
       "      <td>2.000000</td>\n",
       "      <td>0.000000</td>\n",
       "      <td>0.000000</td>\n",
       "    </tr>\n",
       "    <tr>\n",
       "      <th>25%</th>\n",
       "      <td>0.440000</td>\n",
       "      <td>0.560000</td>\n",
       "      <td>3.000000</td>\n",
       "      <td>155.000000</td>\n",
       "      <td>3.000000</td>\n",
       "      <td>0.000000</td>\n",
       "      <td>0.000000</td>\n",
       "    </tr>\n",
       "    <tr>\n",
       "      <th>50%</th>\n",
       "      <td>0.640000</td>\n",
       "      <td>0.720000</td>\n",
       "      <td>4.000000</td>\n",
       "      <td>199.000000</td>\n",
       "      <td>3.000000</td>\n",
       "      <td>0.000000</td>\n",
       "      <td>0.000000</td>\n",
       "    </tr>\n",
       "    <tr>\n",
       "      <th>75%</th>\n",
       "      <td>0.815000</td>\n",
       "      <td>0.870000</td>\n",
       "      <td>5.000000</td>\n",
       "      <td>245.000000</td>\n",
       "      <td>4.000000</td>\n",
       "      <td>0.000000</td>\n",
       "      <td>0.000000</td>\n",
       "    </tr>\n",
       "    <tr>\n",
       "      <th>max</th>\n",
       "      <td>1.000000</td>\n",
       "      <td>1.000000</td>\n",
       "      <td>7.000000</td>\n",
       "      <td>310.000000</td>\n",
       "      <td>10.000000</td>\n",
       "      <td>1.000000</td>\n",
       "      <td>1.000000</td>\n",
       "    </tr>\n",
       "  </tbody>\n",
       "</table>\n",
       "</div>"
      ],
      "text/plain": [
       "       satisfaction_level    last_eval  num_projects  avg_monthly_hrs  \\\n",
       "count         8999.000000  8999.000000   8999.000000      8999.000000   \n",
       "mean             0.611391     0.717209      3.802200       200.682409   \n",
       "std              0.249332     0.171753      1.245928        49.993554   \n",
       "min              0.090000     0.360000      2.000000        96.000000   \n",
       "25%              0.440000     0.560000      3.000000       155.000000   \n",
       "50%              0.640000     0.720000      4.000000       199.000000   \n",
       "75%              0.815000     0.870000      5.000000       245.000000   \n",
       "max              1.000000     1.000000      7.000000       310.000000   \n",
       "\n",
       "       time_spent_at_company  work_accident  promotion_last_5_yrs  \n",
       "count            8999.000000    8999.000000           8999.000000  \n",
       "mean                3.510835       0.145016              0.021225  \n",
       "std                 1.469203       0.352137              0.144140  \n",
       "min                 2.000000       0.000000              0.000000  \n",
       "25%                 3.000000       0.000000              0.000000  \n",
       "50%                 3.000000       0.000000              0.000000  \n",
       "75%                 4.000000       0.000000              0.000000  \n",
       "max                10.000000       1.000000              1.000000  "
      ]
     },
     "execution_count": 12,
     "metadata": {},
     "output_type": "execute_result"
    }
   ],
   "source": [
    "# numeric fields\n",
    "df_train.describe()"
   ]
  },
  {
   "cell_type": "code",
   "execution_count": 13,
   "metadata": {},
   "outputs": [
    {
     "data": {
      "text/html": [
       "<div>\n",
       "<style scoped>\n",
       "    .dataframe tbody tr th:only-of-type {\n",
       "        vertical-align: middle;\n",
       "    }\n",
       "\n",
       "    .dataframe tbody tr th {\n",
       "        vertical-align: top;\n",
       "    }\n",
       "\n",
       "    .dataframe thead th {\n",
       "        text-align: right;\n",
       "    }\n",
       "</style>\n",
       "<table border=\"1\" class=\"dataframe\">\n",
       "  <thead>\n",
       "    <tr style=\"text-align: right;\">\n",
       "      <th></th>\n",
       "      <th>job_category</th>\n",
       "      <th>salary_group</th>\n",
       "    </tr>\n",
       "  </thead>\n",
       "  <tbody>\n",
       "    <tr>\n",
       "      <th>count</th>\n",
       "      <td>8999</td>\n",
       "      <td>8999</td>\n",
       "    </tr>\n",
       "    <tr>\n",
       "      <th>unique</th>\n",
       "      <td>10</td>\n",
       "      <td>3</td>\n",
       "    </tr>\n",
       "    <tr>\n",
       "      <th>top</th>\n",
       "      <td>sales</td>\n",
       "      <td>low</td>\n",
       "    </tr>\n",
       "    <tr>\n",
       "      <th>freq</th>\n",
       "      <td>2476</td>\n",
       "      <td>4379</td>\n",
       "    </tr>\n",
       "  </tbody>\n",
       "</table>\n",
       "</div>"
      ],
      "text/plain": [
       "       job_category salary_group\n",
       "count          8999         8999\n",
       "unique           10            3\n",
       "top           sales          low\n",
       "freq           2476         4379"
      ]
     },
     "execution_count": 13,
     "metadata": {},
     "output_type": "execute_result"
    }
   ],
   "source": [
    "# categorical fields\n",
    "df_train.describe(include='object')"
   ]
  },
  {
   "cell_type": "code",
   "execution_count": 14,
   "metadata": {},
   "outputs": [
    {
     "data": {
      "text/plain": [
       "sales          2476\n",
       "technical      1596\n",
       "support        1333\n",
       "IT              751\n",
       "product_mng     560\n",
       "marketing       506\n",
       "accounting      474\n",
       "RandD           462\n",
       "hr              451\n",
       "management      390\n",
       "Name: job_category, dtype: int64"
      ]
     },
     "execution_count": 14,
     "metadata": {},
     "output_type": "execute_result"
    }
   ],
   "source": [
    "df_train['job_category'].value_counts()"
   ]
  },
  {
   "cell_type": "markdown",
   "metadata": {},
   "source": [
    "The bulk of the workers are in Sales."
   ]
  },
  {
   "cell_type": "code",
   "execution_count": 15,
   "metadata": {},
   "outputs": [
    {
     "data": {
      "text/plain": [
       "low       4379\n",
       "medium    3881\n",
       "high       739\n",
       "Name: salary_group, dtype: int64"
      ]
     },
     "execution_count": 15,
     "metadata": {},
     "output_type": "execute_result"
    }
   ],
   "source": [
    "df_train['salary_group'].value_counts()"
   ]
  },
  {
   "cell_type": "markdown",
   "metadata": {},
   "source": [
    "<h4>Observations</h4>\n",
    "<ul>\n",
    "    <li>Most workers are in Sales, Technical Jobs or Support</li>\n",
    "    <li>The majority of the employees are paid in the \"low\" category.  We do not have specific details as to what salaries are in low, medium and high.</li>\n",
    "</ul>"
   ]
  },
  {
   "cell_type": "code",
   "execution_count": 16,
   "metadata": {},
   "outputs": [
    {
     "data": {
      "image/png": "[encoded data removed]",
      "text/plain": [
       "<Figure size 864x864 with 9 Axes>"
      ]
     },
     "metadata": {
      "needs_background": "light"
     },
     "output_type": "display_data"
    }
   ],
   "source": [
    "# histograms of numerical fields\n",
    "# quit - our dependent variable is binary\n",
    "# promotion in the last 5 years and work accident are also binary\n",
    "df_train.hist(figsize=(12,12), xrot=45)\n",
    "plt.show()"
   ]
  },
  {
   "cell_type": "markdown",
   "metadata": {},
   "source": [
    "<h4>Observations</h4>\n",
    "<ul>\n",
    "    <li>As we can see from the histograms, we have an imbalanced dataset (i.e., the classes are not represented equally) with regards to quitting.  So while this is great news for the company that most people kept their jobs, it is not so good for our machine learning models.</li>\n",
    "    <li>It is also imbalanced with regards to being promoted in the past 5 years or to work accidents.</li>\n",
    "</ul>"
   ]
  },
  {
   "cell_type": "code",
   "execution_count": 17,
   "metadata": {},
   "outputs": [
    {
     "data": {
      "image/png": "[encoded data removed]",
      "text/plain": [
       "<Figure size 432x288 with 1 Axes>"
      ]
     },
     "metadata": {
      "needs_background": "light"
     },
     "output_type": "display_data"
    },
    {
     "data": {
      "image/png": "[encoded data removed]",
      "text/plain": [
       "<Figure size 432x288 with 1 Axes>"
      ]
     },
     "metadata": {
      "needs_background": "light"
     },
     "output_type": "display_data"
    }
   ],
   "source": [
    "sns.set_palette(sns.color_palette(\"RdBu_r\"))\n",
    "for column in df_train.select_dtypes(include='object'):\n",
    "    ax = sns.countplot(y=column, data=df)\n",
    "    ax.set_title(column)\n",
    "    ax.set_ylabel('')\n",
    "    plt.show()"
   ]
  },
  {
   "cell_type": "code",
   "execution_count": 18,
   "metadata": {},
   "outputs": [
    {
     "data": {
      "text/html": [
       "<div>\n",
       "<style scoped>\n",
       "    .dataframe tbody tr th:only-of-type {\n",
       "        vertical-align: middle;\n",
       "    }\n",
       "\n",
       "    .dataframe tbody tr th {\n",
       "        vertical-align: top;\n",
       "    }\n",
       "\n",
       "    .dataframe thead th {\n",
       "        text-align: right;\n",
       "    }\n",
       "</style>\n",
       "<table border=\"1\" class=\"dataframe\">\n",
       "  <thead>\n",
       "    <tr style=\"text-align: right;\">\n",
       "      <th></th>\n",
       "      <th>satisfaction_level</th>\n",
       "      <th>last_eval</th>\n",
       "      <th>num_projects</th>\n",
       "      <th>avg_monthly_hrs</th>\n",
       "      <th>time_spent_at_company</th>\n",
       "      <th>work_accident</th>\n",
       "      <th>promotion_last_5_yrs</th>\n",
       "    </tr>\n",
       "    <tr>\n",
       "      <th>job_category</th>\n",
       "      <th></th>\n",
       "      <th></th>\n",
       "      <th></th>\n",
       "      <th></th>\n",
       "      <th></th>\n",
       "      <th></th>\n",
       "      <th></th>\n",
       "    </tr>\n",
       "  </thead>\n",
       "  <tbody>\n",
       "    <tr>\n",
       "      <th>IT</th>\n",
       "      <td>0.623848</td>\n",
       "      <td>0.715619</td>\n",
       "      <td>3.794940</td>\n",
       "      <td>201.070573</td>\n",
       "      <td>3.476698</td>\n",
       "      <td>0.125166</td>\n",
       "      <td>0.002663</td>\n",
       "    </tr>\n",
       "    <tr>\n",
       "      <th>RandD</th>\n",
       "      <td>0.618030</td>\n",
       "      <td>0.718506</td>\n",
       "      <td>3.865801</td>\n",
       "      <td>197.872294</td>\n",
       "      <td>3.393939</td>\n",
       "      <td>0.162338</td>\n",
       "      <td>0.038961</td>\n",
       "    </tr>\n",
       "    <tr>\n",
       "      <th>accounting</th>\n",
       "      <td>0.589494</td>\n",
       "      <td>0.720401</td>\n",
       "      <td>3.869198</td>\n",
       "      <td>202.025316</td>\n",
       "      <td>3.561181</td>\n",
       "      <td>0.118143</td>\n",
       "      <td>0.016878</td>\n",
       "    </tr>\n",
       "    <tr>\n",
       "      <th>hr</th>\n",
       "      <td>0.604324</td>\n",
       "      <td>0.711530</td>\n",
       "      <td>3.638581</td>\n",
       "      <td>196.354767</td>\n",
       "      <td>3.321508</td>\n",
       "      <td>0.121951</td>\n",
       "      <td>0.024390</td>\n",
       "    </tr>\n",
       "    <tr>\n",
       "      <th>management</th>\n",
       "      <td>0.621410</td>\n",
       "      <td>0.725385</td>\n",
       "      <td>3.905128</td>\n",
       "      <td>202.507692</td>\n",
       "      <td>4.292308</td>\n",
       "      <td>0.174359</td>\n",
       "      <td>0.094872</td>\n",
       "    </tr>\n",
       "    <tr>\n",
       "      <th>marketing</th>\n",
       "      <td>0.613043</td>\n",
       "      <td>0.712628</td>\n",
       "      <td>3.658103</td>\n",
       "      <td>196.604743</td>\n",
       "      <td>3.604743</td>\n",
       "      <td>0.144269</td>\n",
       "      <td>0.045455</td>\n",
       "    </tr>\n",
       "    <tr>\n",
       "      <th>product_mng</th>\n",
       "      <td>0.618554</td>\n",
       "      <td>0.709696</td>\n",
       "      <td>3.814286</td>\n",
       "      <td>200.771429</td>\n",
       "      <td>3.467857</td>\n",
       "      <td>0.146429</td>\n",
       "      <td>0.000000</td>\n",
       "    </tr>\n",
       "    <tr>\n",
       "      <th>sales</th>\n",
       "      <td>0.611834</td>\n",
       "      <td>0.714164</td>\n",
       "      <td>3.794023</td>\n",
       "      <td>201.236672</td>\n",
       "      <td>3.577141</td>\n",
       "      <td>0.145396</td>\n",
       "      <td>0.025848</td>\n",
       "    </tr>\n",
       "    <tr>\n",
       "      <th>support</th>\n",
       "      <td>0.617404</td>\n",
       "      <td>0.723968</td>\n",
       "      <td>3.800450</td>\n",
       "      <td>200.699175</td>\n",
       "      <td>3.399100</td>\n",
       "      <td>0.162791</td>\n",
       "      <td>0.009752</td>\n",
       "    </tr>\n",
       "    <tr>\n",
       "      <th>technical</th>\n",
       "      <td>0.600915</td>\n",
       "      <td>0.719405</td>\n",
       "      <td>3.843985</td>\n",
       "      <td>202.078947</td>\n",
       "      <td>3.384085</td>\n",
       "      <td>0.140977</td>\n",
       "      <td>0.009398</td>\n",
       "    </tr>\n",
       "  </tbody>\n",
       "</table>\n",
       "</div>"
      ],
      "text/plain": [
       "              satisfaction_level  last_eval  num_projects  avg_monthly_hrs  \\\n",
       "job_category                                                                 \n",
       "IT                      0.623848   0.715619      3.794940       201.070573   \n",
       "RandD                   0.618030   0.718506      3.865801       197.872294   \n",
       "accounting              0.589494   0.720401      3.869198       202.025316   \n",
       "hr                      0.604324   0.711530      3.638581       196.354767   \n",
       "management              0.621410   0.725385      3.905128       202.507692   \n",
       "marketing               0.613043   0.712628      3.658103       196.604743   \n",
       "product_mng             0.618554   0.709696      3.814286       200.771429   \n",
       "sales                   0.611834   0.714164      3.794023       201.236672   \n",
       "support                 0.617404   0.723968      3.800450       200.699175   \n",
       "technical               0.600915   0.719405      3.843985       202.078947   \n",
       "\n",
       "              time_spent_at_company  work_accident  promotion_last_5_yrs  \n",
       "job_category                                                              \n",
       "IT                         3.476698       0.125166              0.002663  \n",
       "RandD                      3.393939       0.162338              0.038961  \n",
       "accounting                 3.561181       0.118143              0.016878  \n",
       "hr                         3.321508       0.121951              0.024390  \n",
       "management                 4.292308       0.174359              0.094872  \n",
       "marketing                  3.604743       0.144269              0.045455  \n",
       "product_mng                3.467857       0.146429              0.000000  \n",
       "sales                      3.577141       0.145396              0.025848  \n",
       "support                    3.399100       0.162791              0.009752  \n",
       "technical                  3.384085       0.140977              0.009398  "
      ]
     },
     "metadata": {},
     "output_type": "display_data"
    },
    {
     "data": {
      "text/html": [
       "<div>\n",
       "<style scoped>\n",
       "    .dataframe tbody tr th:only-of-type {\n",
       "        vertical-align: middle;\n",
       "    }\n",
       "\n",
       "    .dataframe tbody tr th {\n",
       "        vertical-align: top;\n",
       "    }\n",
       "\n",
       "    .dataframe thead th {\n",
       "        text-align: right;\n",
       "    }\n",
       "</style>\n",
       "<table border=\"1\" class=\"dataframe\">\n",
       "  <thead>\n",
       "    <tr style=\"text-align: right;\">\n",
       "      <th></th>\n",
       "      <th>satisfaction_level</th>\n",
       "      <th>last_eval</th>\n",
       "      <th>num_projects</th>\n",
       "      <th>avg_monthly_hrs</th>\n",
       "      <th>time_spent_at_company</th>\n",
       "      <th>work_accident</th>\n",
       "      <th>promotion_last_5_yrs</th>\n",
       "    </tr>\n",
       "    <tr>\n",
       "      <th>salary_group</th>\n",
       "      <th></th>\n",
       "      <th></th>\n",
       "      <th></th>\n",
       "      <th></th>\n",
       "      <th></th>\n",
       "      <th></th>\n",
       "      <th></th>\n",
       "    </tr>\n",
       "  </thead>\n",
       "  <tbody>\n",
       "    <tr>\n",
       "      <th>high</th>\n",
       "      <td>0.653342</td>\n",
       "      <td>0.706035</td>\n",
       "      <td>3.721245</td>\n",
       "      <td>199.227334</td>\n",
       "      <td>3.684709</td>\n",
       "      <td>0.148850</td>\n",
       "      <td>0.054127</td>\n",
       "    </tr>\n",
       "    <tr>\n",
       "      <th>low</th>\n",
       "      <td>0.598822</td>\n",
       "      <td>0.718328</td>\n",
       "      <td>3.800183</td>\n",
       "      <td>200.408312</td>\n",
       "      <td>3.429093</td>\n",
       "      <td>0.144097</td>\n",
       "      <td>0.009363</td>\n",
       "    </tr>\n",
       "    <tr>\n",
       "      <th>medium</th>\n",
       "      <td>0.617586</td>\n",
       "      <td>0.718073</td>\n",
       "      <td>3.819892</td>\n",
       "      <td>201.268745</td>\n",
       "      <td>3.569956</td>\n",
       "      <td>0.145323</td>\n",
       "      <td>0.028343</td>\n",
       "    </tr>\n",
       "  </tbody>\n",
       "</table>\n",
       "</div>"
      ],
      "text/plain": [
       "              satisfaction_level  last_eval  num_projects  avg_monthly_hrs  \\\n",
       "salary_group                                                                 \n",
       "high                    0.653342   0.706035      3.721245       199.227334   \n",
       "low                     0.598822   0.718328      3.800183       200.408312   \n",
       "medium                  0.617586   0.718073      3.819892       201.268745   \n",
       "\n",
       "              time_spent_at_company  work_accident  promotion_last_5_yrs  \n",
       "salary_group                                                              \n",
       "high                       3.684709       0.148850              0.054127  \n",
       "low                        3.429093       0.144097              0.009363  \n",
       "medium                     3.569956       0.145323              0.028343  "
      ]
     },
     "metadata": {},
     "output_type": "display_data"
    }
   ],
   "source": [
    "# grouping numeric features by each categorical feature\n",
    "for column in df_train.select_dtypes(include='object'):\n",
    "    display(df_train.groupby(column).mean())"
   ]
  },
  {
   "cell_type": "code",
   "execution_count": 19,
   "metadata": {},
   "outputs": [
    {
     "data": {
      "image/png": "[encoded data removed]",
      "text/plain": [
       "<Figure size 720x576 with 2 Axes>"
      ]
     },
     "metadata": {
      "needs_background": "light"
     },
     "output_type": "display_data"
    }
   ],
   "source": [
    "plt.figure(figsize=(10,8))\n",
    "sns.heatmap(df_train.corr(), cmap='RdBu_r', annot=True)\n",
    "plt.show()"
   ]
  },
  {
   "cell_type": "code",
   "execution_count": 20,
   "metadata": {},
   "outputs": [
    {
     "data": {
      "text/html": [
       "<div>\n",
       "<style scoped>\n",
       "    .dataframe tbody tr th:only-of-type {\n",
       "        vertical-align: middle;\n",
       "    }\n",
       "\n",
       "    .dataframe tbody tr th {\n",
       "        vertical-align: top;\n",
       "    }\n",
       "\n",
       "    .dataframe thead th {\n",
       "        text-align: right;\n",
       "    }\n",
       "</style>\n",
       "<table border=\"1\" class=\"dataframe\">\n",
       "  <thead>\n",
       "    <tr style=\"text-align: right;\">\n",
       "      <th></th>\n",
       "      <th>satisfaction_level</th>\n",
       "      <th>last_eval</th>\n",
       "      <th>num_projects</th>\n",
       "      <th>avg_monthly_hrs</th>\n",
       "      <th>time_spent_at_company</th>\n",
       "      <th>work_accident</th>\n",
       "      <th>promotion_last_5_yrs</th>\n",
       "    </tr>\n",
       "  </thead>\n",
       "  <tbody>\n",
       "    <tr>\n",
       "      <th>satisfaction_level</th>\n",
       "      <td>1.000000</td>\n",
       "      <td>0.109379</td>\n",
       "      <td>-0.150737</td>\n",
       "      <td>-0.031080</td>\n",
       "      <td>-0.093836</td>\n",
       "      <td>0.063017</td>\n",
       "      <td>0.030751</td>\n",
       "    </tr>\n",
       "    <tr>\n",
       "      <th>last_eval</th>\n",
       "      <td>0.109379</td>\n",
       "      <td>1.000000</td>\n",
       "      <td>0.354329</td>\n",
       "      <td>0.352775</td>\n",
       "      <td>0.140134</td>\n",
       "      <td>-0.000914</td>\n",
       "      <td>-0.007034</td>\n",
       "    </tr>\n",
       "    <tr>\n",
       "      <th>num_projects</th>\n",
       "      <td>-0.150737</td>\n",
       "      <td>0.354329</td>\n",
       "      <td>1.000000</td>\n",
       "      <td>0.427922</td>\n",
       "      <td>0.201158</td>\n",
       "      <td>0.000286</td>\n",
       "      <td>-0.007562</td>\n",
       "    </tr>\n",
       "    <tr>\n",
       "      <th>avg_monthly_hrs</th>\n",
       "      <td>-0.031080</td>\n",
       "      <td>0.352775</td>\n",
       "      <td>0.427922</td>\n",
       "      <td>1.000000</td>\n",
       "      <td>0.136616</td>\n",
       "      <td>0.003349</td>\n",
       "      <td>-0.000406</td>\n",
       "    </tr>\n",
       "    <tr>\n",
       "      <th>time_spent_at_company</th>\n",
       "      <td>-0.093836</td>\n",
       "      <td>0.140134</td>\n",
       "      <td>0.201158</td>\n",
       "      <td>0.136616</td>\n",
       "      <td>1.000000</td>\n",
       "      <td>0.011892</td>\n",
       "      <td>0.045883</td>\n",
       "    </tr>\n",
       "    <tr>\n",
       "      <th>work_accident</th>\n",
       "      <td>0.063017</td>\n",
       "      <td>-0.000914</td>\n",
       "      <td>0.000286</td>\n",
       "      <td>0.003349</td>\n",
       "      <td>0.011892</td>\n",
       "      <td>1.000000</td>\n",
       "      <td>0.044452</td>\n",
       "    </tr>\n",
       "    <tr>\n",
       "      <th>promotion_last_5_yrs</th>\n",
       "      <td>0.030751</td>\n",
       "      <td>-0.007034</td>\n",
       "      <td>-0.007562</td>\n",
       "      <td>-0.000406</td>\n",
       "      <td>0.045883</td>\n",
       "      <td>0.044452</td>\n",
       "      <td>1.000000</td>\n",
       "    </tr>\n",
       "  </tbody>\n",
       "</table>\n",
       "</div>"
      ],
      "text/plain": [
       "                       satisfaction_level  last_eval  num_projects  \\\n",
       "satisfaction_level               1.000000   0.109379     -0.150737   \n",
       "last_eval                        0.109379   1.000000      0.354329   \n",
       "num_projects                    -0.150737   0.354329      1.000000   \n",
       "avg_monthly_hrs                 -0.031080   0.352775      0.427922   \n",
       "time_spent_at_company           -0.093836   0.140134      0.201158   \n",
       "work_accident                    0.063017  -0.000914      0.000286   \n",
       "promotion_last_5_yrs             0.030751  -0.007034     -0.007562   \n",
       "\n",
       "                       avg_monthly_hrs  time_spent_at_company  work_accident  \\\n",
       "satisfaction_level           -0.031080              -0.093836       0.063017   \n",
       "last_eval                     0.352775               0.140134      -0.000914   \n",
       "num_projects                  0.427922               0.201158       0.000286   \n",
       "avg_monthly_hrs               1.000000               0.136616       0.003349   \n",
       "time_spent_at_company         0.136616               1.000000       0.011892   \n",
       "work_accident                 0.003349               0.011892       1.000000   \n",
       "promotion_last_5_yrs         -0.000406               0.045883       0.044452   \n",
       "\n",
       "                       promotion_last_5_yrs  \n",
       "satisfaction_level                 0.030751  \n",
       "last_eval                         -0.007034  \n",
       "num_projects                      -0.007562  \n",
       "avg_monthly_hrs                   -0.000406  \n",
       "time_spent_at_company              0.045883  \n",
       "work_accident                      0.044452  \n",
       "promotion_last_5_yrs               1.000000  "
      ]
     },
     "execution_count": 20,
     "metadata": {},
     "output_type": "execute_result"
    }
   ],
   "source": [
    "df_train.corr()"
   ]
  },
  {
   "cell_type": "code",
   "execution_count": 21,
   "metadata": {},
   "outputs": [
    {
     "data": {
      "text/plain": [
       "0.0029586989333794146"
      ]
     },
     "execution_count": 21,
     "metadata": {},
     "output_type": "execute_result"
    }
   ],
   "source": [
    "mutual_info_score(df_train['job_category'], y_train)"
   ]
  },
  {
   "cell_type": "code",
   "execution_count": 22,
   "metadata": {},
   "outputs": [
    {
     "data": {
      "text/plain": [
       "0.01426984045365912"
      ]
     },
     "execution_count": 22,
     "metadata": {},
     "output_type": "execute_result"
    }
   ],
   "source": [
    "mutual_info_score(df_train['salary_group'], y_train)"
   ]
  },
  {
   "cell_type": "markdown",
   "metadata": {},
   "source": [
    "<h4>Observations</h4>\n",
    "<ul>\n",
    "    <li>It appears that none of our variables are highly correlated.</li>\n",
    "    <li>We have some slight negative correlation between job satisfaction and the number of projects, average monthly hours, and time spent at the company.  This could be people feeling less happy with their jobs when they are overworked.</li>\n",
    "    <li>We have some positive correlation between the number of projects and the last evaluation.  Same with the average monthly hours and the last evaluation, as well as, average monthly hours and the number of projects.  This could be managers giving positive evaluations to people getting more done.</li>\n",
    "    <li>The mutal information score is a univariate metric measuring the relationship between two quanitities.  By knowing one quantity, how confident you would be about knowing the target quantity.  Our mutual information scores are pretty low, indicating the job category and the salary group are pretty independent of knowing whether someone will quit.</li>\n",
    "</ul>"
   ]
  },
  {
   "cell_type": "markdown",
   "metadata": {},
   "source": [
    "<h3>Feature Engineering</h3>\n",
    "<ul>\n",
    "    <li>Because we have so few variable in this data set, I am reluctant to throw any out.</li>\n",
    "    <li>We could do either a forward or backward stepwise regression to see which features should be included/eliminated to generate the best regression model.</li>\n",
    "    <li>Many machine learning algorithms are not able to handle imbalanced datasets.  The accuracy score could be misleading.  We can either use a different metric (as mentioned earlier, we will use roc_auc_score instead of accuracy), undersample the majority class, or oversample the minority class.</li>\n",
    "    <li>Based on the resampling rules of thumb from Dr. Jason Brownlee, <a href=\"https://machinelearningmastery.com/tactics-to-combat-imbalanced-classes-in-your-machine-learning-dataset/\">we should consider over sampling when you do not have a lot of data (tens of thousands of records or less)</a>. I will try oversampling the underrepresented class (people quitting) using SMOTE.</li>\n",
    "</ul>   "
   ]
  },
  {
   "cell_type": "markdown",
   "metadata": {},
   "source": [
    "<h3>Naive Bayes Example Showing the Difference of Using an Imbalanced Dataset and Using SMOTE to Oversample the Minority Class</h3>"
   ]
  },
  {
   "cell_type": "code",
   "execution_count": 23,
   "metadata": {},
   "outputs": [
    {
     "data": {
      "image/png": "[encoded data removed]",
      "text/plain": [
       "<Figure size 432x288 with 1 Axes>"
      ]
     },
     "metadata": {
      "needs_background": "light"
     },
     "output_type": "display_data"
    }
   ],
   "source": [
    "sns.countplot(x=y_train);"
   ]
  },
  {
   "cell_type": "code",
   "execution_count": 24,
   "metadata": {},
   "outputs": [
    {
     "name": "stdout",
     "output_type": "stream",
     "text": [
      "Before oversampling training data:  Counter({0: 6810, 1: 2189})\n",
      "After oversampling training data:  Counter({0: 6810, 1: 6810})\n"
     ]
    }
   ],
   "source": [
    "# summarize class distribution\n",
    "print(\"Before oversampling training data: \", Counter(y_train))\n",
    "SMOTE = SMOTE()\n",
    "X_train_SMOTE, y_train_SMOTE = SMOTE.fit_resample(X_train, y_train)\n",
    "print(\"After oversampling training data: \", Counter(y_train_SMOTE))"
   ]
  },
  {
   "cell_type": "code",
   "execution_count": 25,
   "metadata": {},
   "outputs": [
    {
     "data": {
      "image/png": "[encoded data removed]",
      "text/plain": [
       "<Figure size 432x288 with 1 Axes>"
      ]
     },
     "metadata": {
      "needs_background": "light"
     },
     "output_type": "display_data"
    }
   ],
   "source": [
    "sns.countplot(x=y_train_SMOTE);"
   ]
  },
  {
   "cell_type": "markdown",
   "metadata": {},
   "source": [
    "<h3>Naive Bayes on the Imbalanced Dataset</h3>"
   ]
  },
  {
   "cell_type": "code",
   "execution_count": 26,
   "metadata": {},
   "outputs": [],
   "source": [
    "nb_model =  GaussianNB()\n",
    "nb_model.fit(X_train, y_train)\n",
    "nb_pred=nb_model.predict(X_val)"
   ]
  },
  {
   "cell_type": "code",
   "execution_count": 27,
   "metadata": {},
   "outputs": [
    {
     "data": {
      "text/html": [
       "<div>\n",
       "<style scoped>\n",
       "    .dataframe tbody tr th:only-of-type {\n",
       "        vertical-align: middle;\n",
       "    }\n",
       "\n",
       "    .dataframe tbody tr th {\n",
       "        vertical-align: top;\n",
       "    }\n",
       "\n",
       "    .dataframe thead th {\n",
       "        text-align: right;\n",
       "    }\n",
       "</style>\n",
       "<table border=\"1\" class=\"dataframe\">\n",
       "  <thead>\n",
       "    <tr style=\"text-align: right;\">\n",
       "      <th></th>\n",
       "      <th>Predicted Not Quitting</th>\n",
       "      <th>Predicted Quitting</th>\n",
       "    </tr>\n",
       "  </thead>\n",
       "  <tbody>\n",
       "    <tr>\n",
       "      <th>True Not Quitting</th>\n",
       "      <td>1447</td>\n",
       "      <td>877</td>\n",
       "    </tr>\n",
       "    <tr>\n",
       "      <th>True Quitting</th>\n",
       "      <td>104</td>\n",
       "      <td>572</td>\n",
       "    </tr>\n",
       "  </tbody>\n",
       "</table>\n",
       "</div>"
      ],
      "text/plain": [
       "                   Predicted Not Quitting  Predicted Quitting\n",
       "True Not Quitting                    1447                 877\n",
       "True Quitting                         104                 572"
      ]
     },
     "execution_count": 27,
     "metadata": {},
     "output_type": "execute_result"
    }
   ],
   "source": [
    "pd.DataFrame(confusion_matrix(y_val, nb_pred), \n",
    "             columns=['Predicted Not Quitting','Predicted Quitting'], \n",
    "             index=['True Not Quitting', 'True Quitting'])"
   ]
  },
  {
   "cell_type": "code",
   "execution_count": 28,
   "metadata": {},
   "outputs": [
    {
     "data": {
      "text/html": [
       "<div>\n",
       "<style scoped>\n",
       "    .dataframe tbody tr th:only-of-type {\n",
       "        vertical-align: middle;\n",
       "    }\n",
       "\n",
       "    .dataframe tbody tr th {\n",
       "        vertical-align: top;\n",
       "    }\n",
       "\n",
       "    .dataframe thead th {\n",
       "        text-align: right;\n",
       "    }\n",
       "</style>\n",
       "<table border=\"1\" class=\"dataframe\">\n",
       "  <thead>\n",
       "    <tr style=\"text-align: right;\">\n",
       "      <th></th>\n",
       "      <th>Model Name</th>\n",
       "      <th>Accuracy</th>\n",
       "      <th>Balanced Accuracy</th>\n",
       "      <th>Precision</th>\n",
       "      <th>Recall</th>\n",
       "      <th>F1</th>\n",
       "      <th>ROC AUC</th>\n",
       "    </tr>\n",
       "  </thead>\n",
       "  <tbody>\n",
       "    <tr>\n",
       "      <th>0</th>\n",
       "      <td>Naive Bayes Imbalanced Data</td>\n",
       "      <td>0.673</td>\n",
       "      <td>0.734394</td>\n",
       "      <td>0.394755</td>\n",
       "      <td>0.846154</td>\n",
       "      <td>0.538353</td>\n",
       "      <td>0.734394</td>\n",
       "    </tr>\n",
       "  </tbody>\n",
       "</table>\n",
       "</div>"
      ],
      "text/plain": [
       "                    Model Name  Accuracy  Balanced Accuracy  Precision  \\\n",
       "0  Naive Bayes Imbalanced Data     0.673           0.734394   0.394755   \n",
       "\n",
       "     Recall        F1   ROC AUC  \n",
       "0  0.846154  0.538353  0.734394  "
      ]
     },
     "execution_count": 28,
     "metadata": {},
     "output_type": "execute_result"
    }
   ],
   "source": [
    "nb_imbal_scores  = pd.DataFrame(data = [['Naive Bayes Imbalanced Data',\n",
    "                                  accuracy_score(y_val, nb_pred), \n",
    "                                  balanced_accuracy_score(y_val, nb_pred), \n",
    "                                  precision_score(y_val, nb_pred),\n",
    "                                  recall_score(y_val, nb_pred), \n",
    "                                  f1_score(y_val, nb_pred), \n",
    "                                  roc_auc_score(y_val, nb_pred)]],\n",
    "                         columns = ['Model Name','Accuracy','Balanced Accuracy','Precision','Recall','F1','ROC AUC'])\n",
    "nb_imbal_scores"
   ]
  },
  {
   "cell_type": "markdown",
   "metadata": {},
   "source": [
    "Balanced Accuracy = (Sensitivity + Specificity)"
   ]
  },
  {
   "cell_type": "markdown",
   "metadata": {},
   "source": [
    "Balanced Accuracy gives the same weight to both the majority and the minority classes."
   ]
  },
  {
   "cell_type": "markdown",
   "metadata": {},
   "source": [
    "<h3>Naive Bayes on the Balanced Dataset</h3>"
   ]
  },
  {
   "cell_type": "code",
   "execution_count": 29,
   "metadata": {},
   "outputs": [],
   "source": [
    "nb_model2 =  GaussianNB()\n",
    "nb_model2.fit(X_train_SMOTE, y_train_SMOTE)\n",
    "nb_pred_bal=nb_model2.predict(X_val)"
   ]
  },
  {
   "cell_type": "code",
   "execution_count": 30,
   "metadata": {},
   "outputs": [
    {
     "data": {
      "text/html": [
       "<div>\n",
       "<style scoped>\n",
       "    .dataframe tbody tr th:only-of-type {\n",
       "        vertical-align: middle;\n",
       "    }\n",
       "\n",
       "    .dataframe tbody tr th {\n",
       "        vertical-align: top;\n",
       "    }\n",
       "\n",
       "    .dataframe thead th {\n",
       "        text-align: right;\n",
       "    }\n",
       "</style>\n",
       "<table border=\"1\" class=\"dataframe\">\n",
       "  <thead>\n",
       "    <tr style=\"text-align: right;\">\n",
       "      <th></th>\n",
       "      <th>Predicted Not Quitting</th>\n",
       "      <th>Predicted Quitting</th>\n",
       "    </tr>\n",
       "  </thead>\n",
       "  <tbody>\n",
       "    <tr>\n",
       "      <th>True Not Quitting</th>\n",
       "      <td>929</td>\n",
       "      <td>1395</td>\n",
       "    </tr>\n",
       "    <tr>\n",
       "      <th>True Quitting</th>\n",
       "      <td>76</td>\n",
       "      <td>600</td>\n",
       "    </tr>\n",
       "  </tbody>\n",
       "</table>\n",
       "</div>"
      ],
      "text/plain": [
       "                   Predicted Not Quitting  Predicted Quitting\n",
       "True Not Quitting                     929                1395\n",
       "True Quitting                          76                 600"
      ]
     },
     "execution_count": 30,
     "metadata": {},
     "output_type": "execute_result"
    }
   ],
   "source": [
    "pd.DataFrame(confusion_matrix(y_val, nb_pred_bal), \n",
    "             columns=['Predicted Not Quitting','Predicted Quitting'], \n",
    "             index=['True Not Quitting', 'True Quitting'])"
   ]
  },
  {
   "cell_type": "code",
   "execution_count": 31,
   "metadata": {},
   "outputs": [
    {
     "data": {
      "text/html": [
       "<div>\n",
       "<style scoped>\n",
       "    .dataframe tbody tr th:only-of-type {\n",
       "        vertical-align: middle;\n",
       "    }\n",
       "\n",
       "    .dataframe tbody tr th {\n",
       "        vertical-align: top;\n",
       "    }\n",
       "\n",
       "    .dataframe thead th {\n",
       "        text-align: right;\n",
       "    }\n",
       "</style>\n",
       "<table border=\"1\" class=\"dataframe\">\n",
       "  <thead>\n",
       "    <tr style=\"text-align: right;\">\n",
       "      <th></th>\n",
       "      <th>Model Name</th>\n",
       "      <th>Accuracy</th>\n",
       "      <th>Balanced Accuracy</th>\n",
       "      <th>Precision</th>\n",
       "      <th>Recall</th>\n",
       "      <th>F1</th>\n",
       "      <th>ROC AUC</th>\n",
       "    </tr>\n",
       "  </thead>\n",
       "  <tbody>\n",
       "    <tr>\n",
       "      <th>0</th>\n",
       "      <td>Naive Bayes SMOTE</td>\n",
       "      <td>0.509667</td>\n",
       "      <td>0.643658</td>\n",
       "      <td>0.300752</td>\n",
       "      <td>0.887574</td>\n",
       "      <td>0.44927</td>\n",
       "      <td>0.643658</td>\n",
       "    </tr>\n",
       "  </tbody>\n",
       "</table>\n",
       "</div>"
      ],
      "text/plain": [
       "          Model Name  Accuracy  Balanced Accuracy  Precision    Recall  \\\n",
       "0  Naive Bayes SMOTE  0.509667           0.643658   0.300752  0.887574   \n",
       "\n",
       "        F1   ROC AUC  \n",
       "0  0.44927  0.643658  "
      ]
     },
     "execution_count": 31,
     "metadata": {},
     "output_type": "execute_result"
    }
   ],
   "source": [
    "nb_bal_scores  = pd.DataFrame(data = [['Naive Bayes SMOTE',\n",
    "                                accuracy_score(y_val, nb_pred_bal), \n",
    "                                balanced_accuracy_score(y_val, nb_pred_bal), \n",
    "                                precision_score(y_val, nb_pred_bal),\n",
    "                                recall_score(y_val, nb_pred_bal), \n",
    "                                f1_score(y_val, nb_pred_bal), \n",
    "                                roc_auc_score(y_val, nb_pred_bal)]],\n",
    "                         columns = ['Model Name','Accuracy','Balanced Accuracy','Precision','Recall','F1','ROC AUC'])\n",
    "nb_bal_scores"
   ]
  },
  {
   "cell_type": "markdown",
   "metadata": {},
   "source": [
    "<h3>Observations</h3>\n",
    "As you can see, the accuracy score is skewed higher when we do not balance the dataset."
   ]
  },
  {
   "cell_type": "markdown",
   "metadata": {},
   "source": [
    "<h3><a href=\"https://scikit-learn.org/stable/modules/generated/sklearn.linear_model.LogisticRegression.html\">Logistic Regression</a></h3>"
   ]
  },
  {
   "cell_type": "code",
   "execution_count": 32,
   "metadata": {},
   "outputs": [
    {
     "data": {
      "text/plain": [
       "LogisticRegression(solver='liblinear')"
      ]
     },
     "execution_count": 32,
     "metadata": {},
     "output_type": "execute_result"
    }
   ],
   "source": [
    "lr_model = LogisticRegression(solver='liblinear')\n",
    "lr_model.fit(X_train, y_train)"
   ]
  },
  {
   "cell_type": "code",
   "execution_count": 33,
   "metadata": {},
   "outputs": [
    {
     "name": "stdout",
     "output_type": "stream",
     "text": [
      "Logistic Regression intercept: -0.3374678062452393\n"
     ]
    }
   ],
   "source": [
    "print('Logistic Regression intercept: {0}'.format(lr_model.intercept_[0]))"
   ]
  },
  {
   "cell_type": "code",
   "execution_count": 34,
   "metadata": {},
   "outputs": [
    {
     "name": "stdout",
     "output_type": "stream",
     "text": [
      "Logistic Regression coefficients:\n",
      "[ 0.005 -0.143 -0.564  0.009  0.267 -0.339  0.084  0.059  0.067  0.048\n",
      "  0.174  0.56  -0.302 -0.937 -1.223  0.705  0.181 -4.207  0.259 -1.52 ]\n"
     ]
    }
   ],
   "source": [
    "print('Logistic Regression coefficients:')\n",
    "print(lr_model.coef_[0].round(3))"
   ]
  },
  {
   "cell_type": "code",
   "execution_count": 35,
   "metadata": {},
   "outputs": [
    {
     "data": {
      "text/plain": [
       "0.787"
      ]
     },
     "execution_count": 35,
     "metadata": {},
     "output_type": "execute_result"
    }
   ],
   "source": [
    "lr_pred = lr_model.predict_proba(X_val)[:, 1]\n",
    "lr_quit_decision = (lr_pred >= 0.5)\n",
    "(y_val == lr_quit_decision).mean()"
   ]
  },
  {
   "cell_type": "code",
   "execution_count": 36,
   "metadata": {},
   "outputs": [
    {
     "data": {
      "text/html": [
       "<div>\n",
       "<style scoped>\n",
       "    .dataframe tbody tr th:only-of-type {\n",
       "        vertical-align: middle;\n",
       "    }\n",
       "\n",
       "    .dataframe tbody tr th {\n",
       "        vertical-align: top;\n",
       "    }\n",
       "\n",
       "    .dataframe thead th {\n",
       "        text-align: right;\n",
       "    }\n",
       "</style>\n",
       "<table border=\"1\" class=\"dataframe\">\n",
       "  <thead>\n",
       "    <tr style=\"text-align: right;\">\n",
       "      <th></th>\n",
       "      <th>probability</th>\n",
       "      <th>prediction</th>\n",
       "      <th>actual</th>\n",
       "      <th>correct</th>\n",
       "    </tr>\n",
       "  </thead>\n",
       "  <tbody>\n",
       "    <tr>\n",
       "      <th>0</th>\n",
       "      <td>0.302378</td>\n",
       "      <td>0</td>\n",
       "      <td>0</td>\n",
       "      <td>True</td>\n",
       "    </tr>\n",
       "    <tr>\n",
       "      <th>1</th>\n",
       "      <td>0.068868</td>\n",
       "      <td>0</td>\n",
       "      <td>0</td>\n",
       "      <td>True</td>\n",
       "    </tr>\n",
       "    <tr>\n",
       "      <th>2</th>\n",
       "      <td>0.061906</td>\n",
       "      <td>0</td>\n",
       "      <td>0</td>\n",
       "      <td>True</td>\n",
       "    </tr>\n",
       "    <tr>\n",
       "      <th>3</th>\n",
       "      <td>0.434554</td>\n",
       "      <td>0</td>\n",
       "      <td>1</td>\n",
       "      <td>False</td>\n",
       "    </tr>\n",
       "    <tr>\n",
       "      <th>4</th>\n",
       "      <td>0.363078</td>\n",
       "      <td>0</td>\n",
       "      <td>1</td>\n",
       "      <td>False</td>\n",
       "    </tr>\n",
       "  </tbody>\n",
       "</table>\n",
       "</div>"
      ],
      "text/plain": [
       "   probability  prediction  actual  correct\n",
       "0     0.302378           0       0     True\n",
       "1     0.068868           0       0     True\n",
       "2     0.061906           0       0     True\n",
       "3     0.434554           0       1    False\n",
       "4     0.363078           0       1    False"
      ]
     },
     "execution_count": 36,
     "metadata": {},
     "output_type": "execute_result"
    }
   ],
   "source": [
    "df_lr_pred = pd.DataFrame()\n",
    "df_lr_pred['probability'] = lr_pred\n",
    "df_lr_pred['prediction'] = lr_quit_decision.astype(int)\n",
    "df_lr_pred['actual'] = y_val\n",
    "df_lr_pred['correct'] = df_lr_pred.prediction == df_lr_pred.actual\n",
    "df_lr_pred.head()"
   ]
  },
  {
   "cell_type": "code",
   "execution_count": 37,
   "metadata": {},
   "outputs": [
    {
     "data": {
      "text/html": [
       "<div>\n",
       "<style scoped>\n",
       "    .dataframe tbody tr th:only-of-type {\n",
       "        vertical-align: middle;\n",
       "    }\n",
       "\n",
       "    .dataframe tbody tr th {\n",
       "        vertical-align: top;\n",
       "    }\n",
       "\n",
       "    .dataframe thead th {\n",
       "        text-align: right;\n",
       "    }\n",
       "</style>\n",
       "<table border=\"1\" class=\"dataframe\">\n",
       "  <thead>\n",
       "    <tr style=\"text-align: right;\">\n",
       "      <th></th>\n",
       "      <th>Model Name</th>\n",
       "      <th>Accuracy</th>\n",
       "      <th>Balanced Accuracy</th>\n",
       "      <th>Precision</th>\n",
       "      <th>Recall</th>\n",
       "      <th>F1</th>\n",
       "      <th>ROC AUC</th>\n",
       "    </tr>\n",
       "  </thead>\n",
       "  <tbody>\n",
       "    <tr>\n",
       "      <th>0</th>\n",
       "      <td>Logistic Regression</td>\n",
       "      <td>0.787</td>\n",
       "      <td>0.627022</td>\n",
       "      <td>0.544365</td>\n",
       "      <td>0.335799</td>\n",
       "      <td>0.415371</td>\n",
       "      <td>0.627022</td>\n",
       "    </tr>\n",
       "  </tbody>\n",
       "</table>\n",
       "</div>"
      ],
      "text/plain": [
       "            Model Name  Accuracy  Balanced Accuracy  Precision    Recall  \\\n",
       "0  Logistic Regression     0.787           0.627022   0.544365  0.335799   \n",
       "\n",
       "         F1   ROC AUC  \n",
       "0  0.415371  0.627022  "
      ]
     },
     "execution_count": 37,
     "metadata": {},
     "output_type": "execute_result"
    }
   ],
   "source": [
    "lr_scores  = pd.DataFrame(data = [['Logistic Regression',\n",
    "                            accuracy_score(y_val, df_lr_pred['prediction']),\n",
    "                            balanced_accuracy_score(y_val, df_lr_pred['prediction']), \n",
    "                            precision_score(y_val, df_lr_pred['prediction']),\n",
    "                            recall_score(y_val, df_lr_pred['prediction']), \n",
    "                            f1_score(y_val, df_lr_pred['prediction']), \n",
    "                            roc_auc_score(y_val, df_lr_pred['prediction'])]],\n",
    "                         columns = ['Model Name','Accuracy','Balanced Accuracy','Precision','Recall','F1','ROC AUC'])\n",
    "lr_scores"
   ]
  },
  {
   "cell_type": "markdown",
   "metadata": {},
   "source": [
    "<h3><a href=\"https://scikit-learn.org/stable/modules/generated/sklearn.tree.DecisionTreeClassifier.html\">Decision Trees</a></h3>"
   ]
  },
  {
   "cell_type": "markdown",
   "metadata": {},
   "source": [
    "We will tune the decision trees a few parameters at a time."
   ]
  },
  {
   "cell_type": "code",
   "execution_count": 38,
   "metadata": {},
   "outputs": [],
   "source": [
    "dt_scores = []\n",
    "\n",
    "for depth in [4, 5, 6]:\n",
    "    for s in [1, 10, 15, 20, 100, 200, 500]:\n",
    "        dt = DecisionTreeClassifier(max_depth=depth, min_samples_leaf=s)\n",
    "        dt.fit(X_train, y_train)\n",
    "\n",
    "        y_pred = dt.predict_proba(X_val)[:, 1]\n",
    "        auc = roc_auc_score(y_val, y_pred)\n",
    "        \n",
    "        dt_scores.append((depth, s, auc))"
   ]
  },
  {
   "cell_type": "code",
   "execution_count": 39,
   "metadata": {},
   "outputs": [],
   "source": [
    "columns = ['max_depth', 'min_samples_leaf', 'auc']\n",
    "df_dt_scores = pd.DataFrame(dt_scores, columns=columns)"
   ]
  },
  {
   "cell_type": "code",
   "execution_count": 40,
   "metadata": {},
   "outputs": [
    {
     "data": {
      "text/html": [
       "<div>\n",
       "<style scoped>\n",
       "    .dataframe tbody tr th:only-of-type {\n",
       "        vertical-align: middle;\n",
       "    }\n",
       "\n",
       "    .dataframe tbody tr th {\n",
       "        vertical-align: top;\n",
       "    }\n",
       "\n",
       "    .dataframe thead th {\n",
       "        text-align: right;\n",
       "    }\n",
       "</style>\n",
       "<table border=\"1\" class=\"dataframe\">\n",
       "  <thead>\n",
       "    <tr style=\"text-align: right;\">\n",
       "      <th></th>\n",
       "      <th>max_depth</th>\n",
       "      <th>min_samples_leaf</th>\n",
       "      <th>auc</th>\n",
       "    </tr>\n",
       "  </thead>\n",
       "  <tbody>\n",
       "    <tr>\n",
       "      <th>18</th>\n",
       "      <td>6</td>\n",
       "      <td>100</td>\n",
       "      <td>0.975525</td>\n",
       "    </tr>\n",
       "    <tr>\n",
       "      <th>14</th>\n",
       "      <td>6</td>\n",
       "      <td>1</td>\n",
       "      <td>0.974925</td>\n",
       "    </tr>\n",
       "    <tr>\n",
       "      <th>16</th>\n",
       "      <td>6</td>\n",
       "      <td>15</td>\n",
       "      <td>0.973960</td>\n",
       "    </tr>\n",
       "    <tr>\n",
       "      <th>15</th>\n",
       "      <td>6</td>\n",
       "      <td>10</td>\n",
       "      <td>0.973609</td>\n",
       "    </tr>\n",
       "    <tr>\n",
       "      <th>11</th>\n",
       "      <td>5</td>\n",
       "      <td>100</td>\n",
       "      <td>0.972772</td>\n",
       "    </tr>\n",
       "    <tr>\n",
       "      <th>19</th>\n",
       "      <td>6</td>\n",
       "      <td>200</td>\n",
       "      <td>0.971611</td>\n",
       "    </tr>\n",
       "    <tr>\n",
       "      <th>17</th>\n",
       "      <td>6</td>\n",
       "      <td>20</td>\n",
       "      <td>0.971465</td>\n",
       "    </tr>\n",
       "    <tr>\n",
       "      <th>4</th>\n",
       "      <td>4</td>\n",
       "      <td>100</td>\n",
       "      <td>0.971034</td>\n",
       "    </tr>\n",
       "    <tr>\n",
       "      <th>8</th>\n",
       "      <td>5</td>\n",
       "      <td>10</td>\n",
       "      <td>0.970684</td>\n",
       "    </tr>\n",
       "    <tr>\n",
       "      <th>12</th>\n",
       "      <td>5</td>\n",
       "      <td>200</td>\n",
       "      <td>0.970050</td>\n",
       "    </tr>\n",
       "  </tbody>\n",
       "</table>\n",
       "</div>"
      ],
      "text/plain": [
       "    max_depth  min_samples_leaf       auc\n",
       "18          6               100  0.975525\n",
       "14          6                 1  0.974925\n",
       "16          6                15  0.973960\n",
       "15          6                10  0.973609\n",
       "11          5               100  0.972772\n",
       "19          6               200  0.971611\n",
       "17          6                20  0.971465\n",
       "4           4               100  0.971034\n",
       "8           5                10  0.970684\n",
       "12          5               200  0.970050"
      ]
     },
     "execution_count": 40,
     "metadata": {},
     "output_type": "execute_result"
    }
   ],
   "source": [
    "df_dt_scores.sort_values('auc', ascending=False).head(10)"
   ]
  },
  {
   "cell_type": "code",
   "execution_count": 41,
   "metadata": {},
   "outputs": [],
   "source": [
    "# this fails due to duplicates\n",
    "#df_dt_scores_pivot = df_dt_scores.pivot(index='min_samples_leaf', columns=['max_depth'], values=['auc'])\n",
    "#df_dt_scores_pivot.round(3)\n",
    "#sns.heatmap(df_scores_pivot, annot=True, fmt=\".3f\")"
   ]
  },
  {
   "cell_type": "markdown",
   "metadata": {},
   "source": [
    "Eye-balling to select the best Decision Tree model tuned on max_depth and min_samples_leaf"
   ]
  },
  {
   "cell_type": "code",
   "execution_count": 42,
   "metadata": {},
   "outputs": [
    {
     "data": {
      "text/plain": [
       "DecisionTreeClassifier(max_depth=6, min_samples_leaf=100)"
      ]
     },
     "execution_count": 42,
     "metadata": {},
     "output_type": "execute_result"
    }
   ],
   "source": [
    "dt = DecisionTreeClassifier(max_depth=6, min_samples_leaf=100)\n",
    "dt.fit(X_train, y_train)"
   ]
  },
  {
   "cell_type": "markdown",
   "metadata": {},
   "source": [
    "Here we can see how our Decision Tree splits each node."
   ]
  },
  {
   "cell_type": "code",
   "execution_count": 43,
   "metadata": {},
   "outputs": [
    {
     "name": "stdout",
     "output_type": "stream",
     "text": [
      "|--- satisfaction_level <= 0.47\n",
      "|   |--- num_projects <= 2.50\n",
      "|   |   |--- avg_monthly_hrs <= 159.50\n",
      "|   |   |   |--- satisfaction_level <= 0.38\n",
      "|   |   |   |   |--- avg_monthly_hrs <= 141.50\n",
      "|   |   |   |   |   |--- class: 1\n",
      "|   |   |   |   |--- avg_monthly_hrs >  141.50\n",
      "|   |   |   |   |   |--- class: 1\n",
      "|   |   |   |--- satisfaction_level >  0.38\n",
      "|   |   |   |   |--- avg_monthly_hrs <= 130.50\n",
      "|   |   |   |   |   |--- class: 1\n",
      "|   |   |   |   |--- avg_monthly_hrs >  130.50\n",
      "|   |   |   |   |   |--- last_eval <= 0.55\n",
      "|   |   |   |   |   |   |--- class: 1\n",
      "|   |   |   |   |   |--- last_eval >  0.55\n",
      "|   |   |   |   |   |   |--- class: 1\n",
      "|   |   |--- avg_monthly_hrs >  159.50\n",
      "|   |   |   |--- class: 0\n",
      "|   |--- num_projects >  2.50\n",
      "|   |   |--- satisfaction_level <= 0.11\n",
      "|   |   |   |--- class: 1\n",
      "|   |   |--- satisfaction_level >  0.11\n",
      "|   |   |   |--- avg_monthly_hrs <= 262.50\n",
      "|   |   |   |   |--- num_projects <= 5.50\n",
      "|   |   |   |   |   |--- time_spent_at_company <= 4.50\n",
      "|   |   |   |   |   |   |--- class: 0\n",
      "|   |   |   |   |   |--- time_spent_at_company >  4.50\n",
      "|   |   |   |   |   |   |--- class: 0\n",
      "|   |   |   |   |--- num_projects >  5.50\n",
      "|   |   |   |   |   |--- class: 0\n",
      "|   |   |   |--- avg_monthly_hrs >  262.50\n",
      "|   |   |   |   |--- class: 0\n",
      "|--- satisfaction_level >  0.47\n",
      "|   |--- time_spent_at_company <= 4.50\n",
      "|   |   |--- time_spent_at_company <= 3.50\n",
      "|   |   |   |--- num_projects <= 2.50\n",
      "|   |   |   |   |--- avg_monthly_hrs <= 196.50\n",
      "|   |   |   |   |   |--- class: 0\n",
      "|   |   |   |   |--- avg_monthly_hrs >  196.50\n",
      "|   |   |   |   |   |--- class: 0\n",
      "|   |   |   |--- num_projects >  2.50\n",
      "|   |   |   |   |--- satisfaction_level <= 0.58\n",
      "|   |   |   |   |   |--- num_projects <= 3.50\n",
      "|   |   |   |   |   |   |--- class: 0\n",
      "|   |   |   |   |   |--- num_projects >  3.50\n",
      "|   |   |   |   |   |   |--- class: 0\n",
      "|   |   |   |   |--- satisfaction_level >  0.58\n",
      "|   |   |   |   |   |--- job_category=management <= 0.50\n",
      "|   |   |   |   |   |   |--- class: 0\n",
      "|   |   |   |   |   |--- job_category=management >  0.50\n",
      "|   |   |   |   |   |   |--- class: 0\n",
      "|   |   |--- time_spent_at_company >  3.50\n",
      "|   |   |   |--- job_category=technical <= 0.50\n",
      "|   |   |   |   |--- salary_group=low <= 0.50\n",
      "|   |   |   |   |   |--- last_eval <= 0.82\n",
      "|   |   |   |   |   |   |--- class: 0\n",
      "|   |   |   |   |   |--- last_eval >  0.82\n",
      "|   |   |   |   |   |   |--- class: 0\n",
      "|   |   |   |   |--- salary_group=low >  0.50\n",
      "|   |   |   |   |   |--- avg_monthly_hrs <= 226.00\n",
      "|   |   |   |   |   |   |--- class: 0\n",
      "|   |   |   |   |   |--- avg_monthly_hrs >  226.00\n",
      "|   |   |   |   |   |   |--- class: 0\n",
      "|   |   |   |--- job_category=technical >  0.50\n",
      "|   |   |   |   |--- class: 0\n",
      "|   |--- time_spent_at_company >  4.50\n",
      "|   |   |--- last_eval <= 0.81\n",
      "|   |   |   |--- time_spent_at_company <= 6.50\n",
      "|   |   |   |   |--- last_eval <= 0.56\n",
      "|   |   |   |   |   |--- class: 0\n",
      "|   |   |   |   |--- last_eval >  0.56\n",
      "|   |   |   |   |   |--- class: 0\n",
      "|   |   |   |--- time_spent_at_company >  6.50\n",
      "|   |   |   |   |--- class: 0\n",
      "|   |   |--- last_eval >  0.81\n",
      "|   |   |   |--- avg_monthly_hrs <= 216.50\n",
      "|   |   |   |   |--- class: 0\n",
      "|   |   |   |--- avg_monthly_hrs >  216.50\n",
      "|   |   |   |   |--- satisfaction_level <= 0.75\n",
      "|   |   |   |   |   |--- class: 1\n",
      "|   |   |   |   |--- satisfaction_level >  0.75\n",
      "|   |   |   |   |   |--- time_spent_at_company <= 5.50\n",
      "|   |   |   |   |   |   |--- class: 1\n",
      "|   |   |   |   |   |--- time_spent_at_company >  5.50\n",
      "|   |   |   |   |   |   |--- class: 1\n",
      "\n"
     ]
    }
   ],
   "source": [
    "print(export_text(dt, feature_names=dv.get_feature_names()))"
   ]
  },
  {
   "cell_type": "code",
   "execution_count": 44,
   "metadata": {},
   "outputs": [
    {
     "data": {
      "text/html": [
       "<div>\n",
       "<style scoped>\n",
       "    .dataframe tbody tr th:only-of-type {\n",
       "        vertical-align: middle;\n",
       "    }\n",
       "\n",
       "    .dataframe tbody tr th {\n",
       "        vertical-align: top;\n",
       "    }\n",
       "\n",
       "    .dataframe thead th {\n",
       "        text-align: right;\n",
       "    }\n",
       "</style>\n",
       "<table border=\"1\" class=\"dataframe\">\n",
       "  <thead>\n",
       "    <tr style=\"text-align: right;\">\n",
       "      <th></th>\n",
       "      <th>Model Name</th>\n",
       "      <th>Accuracy</th>\n",
       "      <th>Balanced Accuracy</th>\n",
       "      <th>Precision</th>\n",
       "      <th>Recall</th>\n",
       "      <th>F1</th>\n",
       "      <th>ROC AUC</th>\n",
       "    </tr>\n",
       "  </thead>\n",
       "  <tbody>\n",
       "    <tr>\n",
       "      <th>0</th>\n",
       "      <td>Decision Tree</td>\n",
       "      <td>0.960333</td>\n",
       "      <td>0.934011</td>\n",
       "      <td>0.934477</td>\n",
       "      <td>0.886095</td>\n",
       "      <td>0.909643</td>\n",
       "      <td>0.934011</td>\n",
       "    </tr>\n",
       "  </tbody>\n",
       "</table>\n",
       "</div>"
      ],
      "text/plain": [
       "      Model Name  Accuracy  Balanced Accuracy  Precision    Recall        F1  \\\n",
       "0  Decision Tree  0.960333           0.934011   0.934477  0.886095  0.909643   \n",
       "\n",
       "    ROC AUC  \n",
       "0  0.934011  "
      ]
     },
     "execution_count": 44,
     "metadata": {},
     "output_type": "execute_result"
    }
   ],
   "source": [
    "dt_pred = dt.predict(X_val)\n",
    "dt_scores  = pd.DataFrame(data = [['Decision Tree',\n",
    "                            accuracy_score(y_val, dt_pred),\n",
    "                            balanced_accuracy_score(y_val, dt_pred), \n",
    "                            precision_score(y_val, dt_pred),\n",
    "                            recall_score(y_val, dt_pred), \n",
    "                            f1_score(y_val, dt_pred), \n",
    "                            roc_auc_score(y_val, dt_pred)]],\n",
    "                         columns = ['Model Name','Accuracy','Balanced Accuracy','Precision','Recall','F1','ROC AUC'])\n",
    "dt_scores"
   ]
  },
  {
   "cell_type": "markdown",
   "metadata": {},
   "source": [
    "<h3>Decision Tree Evaluated on Imbalanced Dataset using RepeatedStratifiedKFold Cross Validation</h3>"
   ]
  },
  {
   "cell_type": "markdown",
   "metadata": {},
   "source": [
    "We use cross validation to see how the model performs on unknown data. Basically, we split up our training data to use a subset and evaluate using the completmentary subset of data.  For instance, we may split it into 5 folds.  Each time training the data on 4/5ths of the training data and holding out 1/5 of the data for evaluation. We repeat this so that each of the folds is used as the test set.  Then we average the accuracy of the 5 folds."
   ]
  },
  {
   "cell_type": "markdown",
   "metadata": {},
   "source": [
    "<img src=\"images/kfold-validation-hitesh-gupta.jpg\" alt=\"KFold Validation\" style=\"width: 600px;\"/>"
   ]
  },
  {
   "cell_type": "markdown",
   "metadata": {},
   "source": [
    "Since most of the people in our dataset do not quit, we use Stratified K-fold Cross Validation so that each fold is a good representation of the complete dataset."
   ]
  },
  {
   "cell_type": "markdown",
   "metadata": {},
   "source": [
    "<img src=\"images/stratified-kfold-cv-image-by-hitesh-gupta.jpg\">"
   ]
  },
  {
   "cell_type": "markdown",
   "metadata": {},
   "source": [
    "<i>Images courtesy <a href=\"https://dockship.io/articles/6045b9c1c2c7fa59d94ed69a/a-gentle-introduction-to-cross-validation\">Hitesh Gupta</a></i>"
   ]
  },
  {
   "cell_type": "code",
   "execution_count": 45,
   "metadata": {},
   "outputs": [
    {
     "name": "stdout",
     "output_type": "stream",
     "text": [
      "Mean ROC AUC: 0.976\n"
     ]
    }
   ],
   "source": [
    "cv = RepeatedStratifiedKFold(n_splits=10, n_repeats=3, random_state=42)\n",
    "scores = cross_val_score(dt, X_train, y_train, scoring='roc_auc', cv=cv, n_jobs=-1)\n",
    "print('Mean ROC AUC: %.3f' % np.mean(scores))"
   ]
  },
  {
   "cell_type": "markdown",
   "metadata": {},
   "source": [
    "<h3><a href=\"https://scikit-learn.org/stable/modules/generated/sklearn.ensemble.RandomForestClassifier.html\">Random Forest</a></h3>"
   ]
  },
  {
   "cell_type": "markdown",
   "metadata": {},
   "source": [
    "Again we will tune the parameters a few at a time."
   ]
  },
  {
   "cell_type": "code",
   "execution_count": 46,
   "metadata": {},
   "outputs": [],
   "source": [
    "rf_scores = []\n",
    "\n",
    "for d in [5, 10, 15]:\n",
    "    for n in range(10, 201, 10):\n",
    "        rf = RandomForestClassifier(n_estimators=n,\n",
    "                                    max_depth=d,\n",
    "                                    random_state=42)\n",
    "        rf.fit(X_train, y_train)\n",
    "\n",
    "        y_pred = rf.predict_proba(X_val)[:, 1]\n",
    "        auc = roc_auc_score(y_val, y_pred)\n",
    "\n",
    "        rf_scores.append((d, n, auc))"
   ]
  },
  {
   "cell_type": "code",
   "execution_count": 47,
   "metadata": {},
   "outputs": [],
   "source": [
    "columns = ['max_depth', 'n_estimators', 'auc']\n",
    "df_rf_scores = pd.DataFrame(rf_scores, columns=columns)"
   ]
  },
  {
   "cell_type": "code",
   "execution_count": 48,
   "metadata": {},
   "outputs": [
    {
     "data": {
      "text/html": [
       "<div>\n",
       "<style scoped>\n",
       "    .dataframe tbody tr th:only-of-type {\n",
       "        vertical-align: middle;\n",
       "    }\n",
       "\n",
       "    .dataframe tbody tr th {\n",
       "        vertical-align: top;\n",
       "    }\n",
       "\n",
       "    .dataframe thead th {\n",
       "        text-align: right;\n",
       "    }\n",
       "</style>\n",
       "<table border=\"1\" class=\"dataframe\">\n",
       "  <thead>\n",
       "    <tr style=\"text-align: right;\">\n",
       "      <th></th>\n",
       "      <th>max_depth</th>\n",
       "      <th>n_estimators</th>\n",
       "      <th>auc</th>\n",
       "    </tr>\n",
       "  </thead>\n",
       "  <tbody>\n",
       "    <tr>\n",
       "      <th>42</th>\n",
       "      <td>15</td>\n",
       "      <td>30</td>\n",
       "      <td>0.987987</td>\n",
       "    </tr>\n",
       "    <tr>\n",
       "      <th>41</th>\n",
       "      <td>15</td>\n",
       "      <td>20</td>\n",
       "      <td>0.987849</td>\n",
       "    </tr>\n",
       "    <tr>\n",
       "      <th>55</th>\n",
       "      <td>15</td>\n",
       "      <td>160</td>\n",
       "      <td>0.987765</td>\n",
       "    </tr>\n",
       "    <tr>\n",
       "      <th>56</th>\n",
       "      <td>15</td>\n",
       "      <td>170</td>\n",
       "      <td>0.987677</td>\n",
       "    </tr>\n",
       "    <tr>\n",
       "      <th>57</th>\n",
       "      <td>15</td>\n",
       "      <td>180</td>\n",
       "      <td>0.987647</td>\n",
       "    </tr>\n",
       "    <tr>\n",
       "      <th>59</th>\n",
       "      <td>15</td>\n",
       "      <td>200</td>\n",
       "      <td>0.987624</td>\n",
       "    </tr>\n",
       "    <tr>\n",
       "      <th>58</th>\n",
       "      <td>15</td>\n",
       "      <td>190</td>\n",
       "      <td>0.987501</td>\n",
       "    </tr>\n",
       "    <tr>\n",
       "      <th>54</th>\n",
       "      <td>15</td>\n",
       "      <td>150</td>\n",
       "      <td>0.987433</td>\n",
       "    </tr>\n",
       "    <tr>\n",
       "      <th>43</th>\n",
       "      <td>15</td>\n",
       "      <td>40</td>\n",
       "      <td>0.987366</td>\n",
       "    </tr>\n",
       "    <tr>\n",
       "      <th>52</th>\n",
       "      <td>15</td>\n",
       "      <td>130</td>\n",
       "      <td>0.987192</td>\n",
       "    </tr>\n",
       "  </tbody>\n",
       "</table>\n",
       "</div>"
      ],
      "text/plain": [
       "    max_depth  n_estimators       auc\n",
       "42         15            30  0.987987\n",
       "41         15            20  0.987849\n",
       "55         15           160  0.987765\n",
       "56         15           170  0.987677\n",
       "57         15           180  0.987647\n",
       "59         15           200  0.987624\n",
       "58         15           190  0.987501\n",
       "54         15           150  0.987433\n",
       "43         15            40  0.987366\n",
       "52         15           130  0.987192"
      ]
     },
     "execution_count": 48,
     "metadata": {},
     "output_type": "execute_result"
    }
   ],
   "source": [
    "df_rf_scores.sort_values('auc', ascending=False).head(10)"
   ]
  },
  {
   "cell_type": "code",
   "execution_count": 49,
   "metadata": {},
   "outputs": [
    {
     "data": {
      "image/png": "[encoded data removed]",
      "text/plain": [
       "<Figure size 432x288 with 1 Axes>"
      ]
     },
     "metadata": {
      "needs_background": "light"
     },
     "output_type": "display_data"
    }
   ],
   "source": [
    "for d in [5, 10, 15]:\n",
    "    df_subset = df_rf_scores[df_rf_scores.max_depth == d]\n",
    "    \n",
    "    plt.plot(df_subset.n_estimators, df_subset.auc,\n",
    "             label='max_depth=%d' % d)\n",
    "\n",
    "plt.legend();\n",
    "plt.title('Tuning on max_depth');\n",
    "plt.xlabel('number of estimators');\n",
    "plt.ylabel('auc');"
   ]
  },
  {
   "cell_type": "markdown",
   "metadata": {},
   "source": [
    "<h3>Observations</h3>\n",
    "When tuning by max_depth and n_estimators, it looks like max_depth = 15 and the n_estimators at 30 give the best AUC."
   ]
  },
  {
   "cell_type": "code",
   "execution_count": 50,
   "metadata": {},
   "outputs": [],
   "source": [
    "max_depth=15"
   ]
  },
  {
   "cell_type": "code",
   "execution_count": 51,
   "metadata": {},
   "outputs": [],
   "source": [
    "rf_scores = []\n",
    "\n",
    "for s in [1, 3, 5, 10, 50]:\n",
    "    for n in range(10, 201, 10):\n",
    "        rf = RandomForestClassifier(n_estimators=n,\n",
    "                                    max_depth=max_depth,\n",
    "                                    min_samples_leaf=s,\n",
    "                                    random_state=42)\n",
    "        rf.fit(X_train, y_train)\n",
    "\n",
    "        y_pred = rf.predict_proba(X_val)[:, 1]\n",
    "        auc = roc_auc_score(y_val, y_pred)\n",
    "\n",
    "        rf_scores.append((s, n, auc))"
   ]
  },
  {
   "cell_type": "code",
   "execution_count": 52,
   "metadata": {},
   "outputs": [],
   "source": [
    "columns = ['min_samples_leaf', 'n_estimators', 'auc']\n",
    "df_rf_scores = pd.DataFrame(rf_scores, columns=columns)"
   ]
  },
  {
   "cell_type": "code",
   "execution_count": 53,
   "metadata": {},
   "outputs": [
    {
     "data": {
      "text/html": [
       "<div>\n",
       "<style scoped>\n",
       "    .dataframe tbody tr th:only-of-type {\n",
       "        vertical-align: middle;\n",
       "    }\n",
       "\n",
       "    .dataframe tbody tr th {\n",
       "        vertical-align: top;\n",
       "    }\n",
       "\n",
       "    .dataframe thead th {\n",
       "        text-align: right;\n",
       "    }\n",
       "</style>\n",
       "<table border=\"1\" class=\"dataframe\">\n",
       "  <thead>\n",
       "    <tr style=\"text-align: right;\">\n",
       "      <th></th>\n",
       "      <th>min_samples_leaf</th>\n",
       "      <th>n_estimators</th>\n",
       "      <th>auc</th>\n",
       "    </tr>\n",
       "  </thead>\n",
       "  <tbody>\n",
       "    <tr>\n",
       "      <th>2</th>\n",
       "      <td>1</td>\n",
       "      <td>30</td>\n",
       "      <td>0.987987</td>\n",
       "    </tr>\n",
       "    <tr>\n",
       "      <th>1</th>\n",
       "      <td>1</td>\n",
       "      <td>20</td>\n",
       "      <td>0.987849</td>\n",
       "    </tr>\n",
       "    <tr>\n",
       "      <th>15</th>\n",
       "      <td>1</td>\n",
       "      <td>160</td>\n",
       "      <td>0.987765</td>\n",
       "    </tr>\n",
       "    <tr>\n",
       "      <th>22</th>\n",
       "      <td>3</td>\n",
       "      <td>30</td>\n",
       "      <td>0.987679</td>\n",
       "    </tr>\n",
       "    <tr>\n",
       "      <th>16</th>\n",
       "      <td>1</td>\n",
       "      <td>170</td>\n",
       "      <td>0.987677</td>\n",
       "    </tr>\n",
       "    <tr>\n",
       "      <th>17</th>\n",
       "      <td>1</td>\n",
       "      <td>180</td>\n",
       "      <td>0.987647</td>\n",
       "    </tr>\n",
       "    <tr>\n",
       "      <th>19</th>\n",
       "      <td>1</td>\n",
       "      <td>200</td>\n",
       "      <td>0.987624</td>\n",
       "    </tr>\n",
       "    <tr>\n",
       "      <th>49</th>\n",
       "      <td>5</td>\n",
       "      <td>100</td>\n",
       "      <td>0.987571</td>\n",
       "    </tr>\n",
       "    <tr>\n",
       "      <th>48</th>\n",
       "      <td>5</td>\n",
       "      <td>90</td>\n",
       "      <td>0.987555</td>\n",
       "    </tr>\n",
       "    <tr>\n",
       "      <th>51</th>\n",
       "      <td>5</td>\n",
       "      <td>120</td>\n",
       "      <td>0.987501</td>\n",
       "    </tr>\n",
       "  </tbody>\n",
       "</table>\n",
       "</div>"
      ],
      "text/plain": [
       "    min_samples_leaf  n_estimators       auc\n",
       "2                  1            30  0.987987\n",
       "1                  1            20  0.987849\n",
       "15                 1           160  0.987765\n",
       "22                 3            30  0.987679\n",
       "16                 1           170  0.987677\n",
       "17                 1           180  0.987647\n",
       "19                 1           200  0.987624\n",
       "49                 5           100  0.987571\n",
       "48                 5            90  0.987555\n",
       "51                 5           120  0.987501"
      ]
     },
     "execution_count": 53,
     "metadata": {},
     "output_type": "execute_result"
    }
   ],
   "source": [
    "df_rf_scores.sort_values('auc', ascending=False).head(10)"
   ]
  },
  {
   "cell_type": "code",
   "execution_count": 54,
   "metadata": {},
   "outputs": [
    {
     "data": {
      "image/png": "[encoded data removed]",
      "text/plain": [
       "<Figure size 432x288 with 1 Axes>"
      ]
     },
     "metadata": {
      "needs_background": "light"
     },
     "output_type": "display_data"
    }
   ],
   "source": [
    "colors = ['black', 'blue', 'orange', 'red', 'grey']\n",
    "values = [1, 3, 5, 10, 50]\n",
    "\n",
    "for s, col in zip(values, colors):\n",
    "    df_subset = df_rf_scores[df_rf_scores.min_samples_leaf == s]\n",
    "    \n",
    "    plt.plot(df_subset.n_estimators, df_subset.auc,\n",
    "             color=col,\n",
    "             label='min_samples_leaf=%d' % s)\n",
    "\n",
    "plt.legend();\n",
    "plt.title('min_samples_leaf');\n",
    "plt.xlabel('n_estimators');\n",
    "plt.ylabel('auc');"
   ]
  },
  {
   "cell_type": "markdown",
   "metadata": {},
   "source": [
    "<h3>Observations</h3>\n",
    "When tuning by min_samples_leaf and n_estimators, it looks like min_samples_leaf = 1 and the n_estimators at 30 give the best AUC."
   ]
  },
  {
   "cell_type": "code",
   "execution_count": 55,
   "metadata": {},
   "outputs": [],
   "source": [
    "min_samples_leaf = 1"
   ]
  },
  {
   "cell_type": "code",
   "execution_count": 56,
   "metadata": {},
   "outputs": [],
   "source": [
    "rf_scores = []\n",
    "\n",
    "for b in [True, False]:\n",
    "    for n in range(10, 201, 10):\n",
    "        rf = RandomForestClassifier(n_estimators=n,\n",
    "                                    max_depth=max_depth,\n",
    "                                    min_samples_leaf=min_samples_leaf,\n",
    "                                    bootstrap=b,\n",
    "                                    random_state=42)\n",
    "        rf.fit(X_train, y_train)\n",
    "        y_pred = rf.predict_proba(X_val)[:, 1]\n",
    "        auc = roc_auc_score(y_val, y_pred)\n",
    "\n",
    "        rf_scores.append((b, n, auc))"
   ]
  },
  {
   "cell_type": "code",
   "execution_count": 57,
   "metadata": {},
   "outputs": [],
   "source": [
    "columns = ['bootstrap', 'n_estimators', 'auc']\n",
    "df_rf_scores = pd.DataFrame(rf_scores, columns=columns)"
   ]
  },
  {
   "cell_type": "code",
   "execution_count": 58,
   "metadata": {},
   "outputs": [
    {
     "data": {
      "image/png": "[encoded data removed]",
      "text/plain": [
       "<Figure size 432x288 with 1 Axes>"
      ]
     },
     "metadata": {
      "needs_background": "light"
     },
     "output_type": "display_data"
    }
   ],
   "source": [
    "for b in [True, False]:\n",
    "    df_subset = df_rf_scores[df_rf_scores.bootstrap == b]\n",
    "    \n",
    "    plt.plot(df_subset.n_estimators, df_subset.auc,\n",
    "             label='bootstrap=%d' % b)\n",
    "\n",
    "plt.legend();\n",
    "plt.title('Tuning by bootstrap');\n",
    "plt.xlabel('n_estimators');\n",
    "plt.ylabel('auc');"
   ]
  },
  {
   "cell_type": "code",
   "execution_count": 59,
   "metadata": {},
   "outputs": [],
   "source": [
    "n_estimators=30\n",
    "bootstrap=False"
   ]
  },
  {
   "cell_type": "markdown",
   "metadata": {},
   "source": [
    "<h3>Based on our tuning, we will use 30 estimators, no bootstrapping, max depth of 15, min sample leafs of 1</h3>"
   ]
  },
  {
   "cell_type": "code",
   "execution_count": 60,
   "metadata": {},
   "outputs": [
    {
     "data": {
      "text/plain": [
       "0.985"
      ]
     },
     "execution_count": 60,
     "metadata": {},
     "output_type": "execute_result"
    }
   ],
   "source": [
    "rf = RandomForestClassifier(n_estimators=n_estimators,\n",
    "                            max_depth=max_depth,\n",
    "                            min_samples_leaf=min_samples_leaf,\n",
    "                            bootstrap=bootstrap,\n",
    "                            random_state=42)\n",
    "rf.fit(X_train, y_train)\n",
    "rf_pred = rf.predict_proba(X_val)[:, 1]\n",
    "rf_quit_decision = (rf_pred >= 0.5)\n",
    "(y_val == rf_quit_decision).mean()"
   ]
  },
  {
   "cell_type": "code",
   "execution_count": 61,
   "metadata": {},
   "outputs": [
    {
     "data": {
      "text/html": [
       "<div>\n",
       "<style scoped>\n",
       "    .dataframe tbody tr th:only-of-type {\n",
       "        vertical-align: middle;\n",
       "    }\n",
       "\n",
       "    .dataframe tbody tr th {\n",
       "        vertical-align: top;\n",
       "    }\n",
       "\n",
       "    .dataframe thead th {\n",
       "        text-align: right;\n",
       "    }\n",
       "</style>\n",
       "<table border=\"1\" class=\"dataframe\">\n",
       "  <thead>\n",
       "    <tr style=\"text-align: right;\">\n",
       "      <th></th>\n",
       "      <th>probability</th>\n",
       "      <th>prediction</th>\n",
       "      <th>actual</th>\n",
       "      <th>correct</th>\n",
       "    </tr>\n",
       "  </thead>\n",
       "  <tbody>\n",
       "    <tr>\n",
       "      <th>0</th>\n",
       "      <td>0.044975</td>\n",
       "      <td>0</td>\n",
       "      <td>0</td>\n",
       "      <td>True</td>\n",
       "    </tr>\n",
       "    <tr>\n",
       "      <th>1</th>\n",
       "      <td>0.003337</td>\n",
       "      <td>0</td>\n",
       "      <td>0</td>\n",
       "      <td>True</td>\n",
       "    </tr>\n",
       "    <tr>\n",
       "      <th>2</th>\n",
       "      <td>0.007407</td>\n",
       "      <td>0</td>\n",
       "      <td>0</td>\n",
       "      <td>True</td>\n",
       "    </tr>\n",
       "    <tr>\n",
       "      <th>3</th>\n",
       "      <td>0.997930</td>\n",
       "      <td>1</td>\n",
       "      <td>1</td>\n",
       "      <td>True</td>\n",
       "    </tr>\n",
       "    <tr>\n",
       "      <th>4</th>\n",
       "      <td>0.929088</td>\n",
       "      <td>1</td>\n",
       "      <td>1</td>\n",
       "      <td>True</td>\n",
       "    </tr>\n",
       "  </tbody>\n",
       "</table>\n",
       "</div>"
      ],
      "text/plain": [
       "   probability  prediction  actual  correct\n",
       "0     0.044975           0       0     True\n",
       "1     0.003337           0       0     True\n",
       "2     0.007407           0       0     True\n",
       "3     0.997930           1       1     True\n",
       "4     0.929088           1       1     True"
      ]
     },
     "execution_count": 61,
     "metadata": {},
     "output_type": "execute_result"
    }
   ],
   "source": [
    "df_rf_pred = pd.DataFrame()\n",
    "df_rf_pred['probability'] = rf_pred\n",
    "df_rf_pred['prediction'] = rf_quit_decision.astype(int)\n",
    "df_rf_pred['actual'] = y_val\n",
    "df_rf_pred['correct'] = df_rf_pred.prediction == df_rf_pred.actual\n",
    "df_rf_pred.head()"
   ]
  },
  {
   "cell_type": "code",
   "execution_count": 62,
   "metadata": {},
   "outputs": [
    {
     "data": {
      "text/html": [
       "<div>\n",
       "<style scoped>\n",
       "    .dataframe tbody tr th:only-of-type {\n",
       "        vertical-align: middle;\n",
       "    }\n",
       "\n",
       "    .dataframe tbody tr th {\n",
       "        vertical-align: top;\n",
       "    }\n",
       "\n",
       "    .dataframe thead th {\n",
       "        text-align: right;\n",
       "    }\n",
       "</style>\n",
       "<table border=\"1\" class=\"dataframe\">\n",
       "  <thead>\n",
       "    <tr style=\"text-align: right;\">\n",
       "      <th></th>\n",
       "      <th>Model Name</th>\n",
       "      <th>Accuracy</th>\n",
       "      <th>Balanced Accuracy</th>\n",
       "      <th>Precision</th>\n",
       "      <th>Recall</th>\n",
       "      <th>F1</th>\n",
       "      <th>ROC AUC</th>\n",
       "    </tr>\n",
       "  </thead>\n",
       "  <tbody>\n",
       "    <tr>\n",
       "      <th>0</th>\n",
       "      <td>Random Forest</td>\n",
       "      <td>0.985</td>\n",
       "      <td>0.970387</td>\n",
       "      <td>0.989147</td>\n",
       "      <td>0.943787</td>\n",
       "      <td>0.965935</td>\n",
       "      <td>0.970387</td>\n",
       "    </tr>\n",
       "  </tbody>\n",
       "</table>\n",
       "</div>"
      ],
      "text/plain": [
       "      Model Name  Accuracy  Balanced Accuracy  Precision    Recall        F1  \\\n",
       "0  Random Forest     0.985           0.970387   0.989147  0.943787  0.965935   \n",
       "\n",
       "    ROC AUC  \n",
       "0  0.970387  "
      ]
     },
     "execution_count": 62,
     "metadata": {},
     "output_type": "execute_result"
    }
   ],
   "source": [
    "rf_scores  = pd.DataFrame(data = [['Random Forest',\n",
    "                            accuracy_score(y_val, df_rf_pred['prediction']),\n",
    "                            balanced_accuracy_score(y_val, df_rf_pred['prediction']), \n",
    "                            precision_score(y_val, df_rf_pred['prediction']),\n",
    "                            recall_score(y_val, df_rf_pred['prediction']), \n",
    "                            f1_score(y_val, df_rf_pred['prediction']), \n",
    "                            roc_auc_score(y_val, df_rf_pred['prediction'])]],\n",
    "                         columns = ['Model Name','Accuracy','Balanced Accuracy','Precision','Recall','F1','ROC AUC'])\n",
    "rf_scores"
   ]
  },
  {
   "cell_type": "markdown",
   "metadata": {},
   "source": [
    "<h3><a href=\"https://scikit-learn.org/stable/modules/generated/sklearn.svm.LinearSVC.html\">Support Vector Machines</a></h3>"
   ]
  },
  {
   "cell_type": "code",
   "execution_count": 63,
   "metadata": {},
   "outputs": [],
   "source": [
    "clf = svm.SVC(kernel='linear', random_state=42)\n",
    "clf.fit(X_train, y_train)\n",
    "svm_pred = clf.predict(X_val)"
   ]
  },
  {
   "cell_type": "code",
   "execution_count": 64,
   "metadata": {},
   "outputs": [
    {
     "data": {
      "text/html": [
       "<div>\n",
       "<style scoped>\n",
       "    .dataframe tbody tr th:only-of-type {\n",
       "        vertical-align: middle;\n",
       "    }\n",
       "\n",
       "    .dataframe tbody tr th {\n",
       "        vertical-align: top;\n",
       "    }\n",
       "\n",
       "    .dataframe thead th {\n",
       "        text-align: right;\n",
       "    }\n",
       "</style>\n",
       "<table border=\"1\" class=\"dataframe\">\n",
       "  <thead>\n",
       "    <tr style=\"text-align: right;\">\n",
       "      <th></th>\n",
       "      <th>Model Name</th>\n",
       "      <th>Accuracy</th>\n",
       "      <th>Balanced Accuracy</th>\n",
       "      <th>Precision</th>\n",
       "      <th>Recall</th>\n",
       "      <th>F1</th>\n",
       "      <th>ROC AUC</th>\n",
       "    </tr>\n",
       "  </thead>\n",
       "  <tbody>\n",
       "    <tr>\n",
       "      <th>0</th>\n",
       "      <td>SVM</td>\n",
       "      <td>0.775667</td>\n",
       "      <td>0.590335</td>\n",
       "      <td>0.504425</td>\n",
       "      <td>0.252959</td>\n",
       "      <td>0.336946</td>\n",
       "      <td>0.590335</td>\n",
       "    </tr>\n",
       "  </tbody>\n",
       "</table>\n",
       "</div>"
      ],
      "text/plain": [
       "  Model Name  Accuracy  Balanced Accuracy  Precision    Recall        F1  \\\n",
       "0        SVM  0.775667           0.590335   0.504425  0.252959  0.336946   \n",
       "\n",
       "    ROC AUC  \n",
       "0  0.590335  "
      ]
     },
     "execution_count": 64,
     "metadata": {},
     "output_type": "execute_result"
    }
   ],
   "source": [
    "svm_scores = pd.DataFrame(data= [['SVM',\n",
    "                                  accuracy_score(y_val, svm_pred),\n",
    "                                  balanced_accuracy_score(y_val, svm_pred),\n",
    "                                  precision_score(y_val, svm_pred),\n",
    "                                  recall_score(y_val, svm_pred),\n",
    "                                  f1_score(y_val, svm_pred),\n",
    "                                  roc_auc_score(y_val, svm_pred)]],\n",
    "                          columns = ['Model Name','Accuracy','Balanced Accuracy','Precision','Recall','F1','ROC AUC'])\n",
    "svm_scores"
   ]
  },
  {
   "cell_type": "markdown",
   "metadata": {},
   "source": [
    "<h3><a href=\"https://xgboost.readthedocs.io/en/latest/python/index.html\">XGBoost</a></h3>"
   ]
  },
  {
   "cell_type": "code",
   "execution_count": 65,
   "metadata": {},
   "outputs": [],
   "source": [
    "features = dv.get_feature_names()\n",
    "dtrain = xgb.DMatrix(X_train, label=y_train, feature_names=features)\n",
    "dval = xgb.DMatrix(X_val, label=y_val, feature_names=features)"
   ]
  },
  {
   "cell_type": "code",
   "execution_count": 66,
   "metadata": {},
   "outputs": [
    {
     "name": "stdout",
     "output_type": "stream",
     "text": [
      "[12:54:27] WARNING: /Users/runner/miniforge3/conda-bld/xgboost-split_1634712680264/work/src/learner.cc:1115: Starting in XGBoost 1.3.0, the default evaluation metric used with the objective 'binary:logistic' was changed from 'error' to 'logloss'. Explicitly set eval_metric if you'd like to restore the old behavior.\n"
     ]
    }
   ],
   "source": [
    "xgb_params = {\n",
    "    'eta': 0.3, \n",
    "    'max_depth': 6,\n",
    "    'min_child_weight': 1,\n",
    "    'objective': 'binary:logistic',\n",
    "    'nthread': 8,\n",
    "    'seed': 42,\n",
    "    'verbosity': 1,\n",
    "}\n",
    "\n",
    "model = xgb.train(xgb_params, dtrain, num_boost_round=10)"
   ]
  },
  {
   "cell_type": "code",
   "execution_count": 67,
   "metadata": {},
   "outputs": [],
   "source": [
    "xgb_pred = model.predict(dval)"
   ]
  },
  {
   "cell_type": "code",
   "execution_count": 68,
   "metadata": {},
   "outputs": [
    {
     "data": {
      "text/plain": [
       "array([0.1182857 , 0.02548627, 0.03275238, ..., 0.03192684, 0.9432536 ,\n",
       "       0.9684244 ], dtype=float32)"
      ]
     },
     "execution_count": 68,
     "metadata": {},
     "output_type": "execute_result"
    }
   ],
   "source": [
    "xgb_pred"
   ]
  },
  {
   "cell_type": "code",
   "execution_count": 69,
   "metadata": {},
   "outputs": [
    {
     "data": {
      "text/plain": [
       "0.9885087688030226"
      ]
     },
     "execution_count": 69,
     "metadata": {},
     "output_type": "execute_result"
    }
   ],
   "source": [
    "roc_auc_score(y_val, y_pred)"
   ]
  },
  {
   "cell_type": "code",
   "execution_count": 70,
   "metadata": {},
   "outputs": [],
   "source": [
    "watchlist = [(dtrain, 'train'), (dval, 'val')]"
   ]
  },
  {
   "cell_type": "code",
   "execution_count": 71,
   "metadata": {},
   "outputs": [],
   "source": [
    "%%capture output\n",
    "\n",
    "xgb_params = {\n",
    "    'eta': 0.3, \n",
    "    'max_depth': 6,\n",
    "    'min_child_weight': 1,\n",
    "    'objective': 'binary:logistic',\n",
    "    'eval_metric': 'auc',\n",
    "    'nthread': 8,\n",
    "    'seed': 42,\n",
    "    'verbosity': 1,\n",
    "}\n",
    "\n",
    "model = xgb.train(xgb_params, dtrain, num_boost_round=200,\n",
    "                  verbose_eval=5,\n",
    "                  evals=watchlist)"
   ]
  },
  {
   "cell_type": "code",
   "execution_count": 72,
   "metadata": {},
   "outputs": [],
   "source": [
    "s = output.stdout"
   ]
  },
  {
   "cell_type": "code",
   "execution_count": 73,
   "metadata": {},
   "outputs": [
    {
     "name": "stdout",
     "output_type": "stream",
     "text": [
      "[0]\ttrain-auc:0.97753\tval-auc:0.96909\n",
      "[5]\ttrain-auc:0.98906\tval-auc:0.98148\n",
      "[10]\ttrain-auc:0.99416\tval-auc:0.98519\n",
      "[15]\ttrain-auc:0.99609\tval-auc:0.98815\n",
      "[20]\ttrain-auc:0.99719\tval-auc:0.98918\n",
      "[25]\ttr\n"
     ]
    }
   ],
   "source": [
    "print(s[:200])"
   ]
  },
  {
   "cell_type": "code",
   "execution_count": 74,
   "metadata": {},
   "outputs": [],
   "source": [
    "def parse_xgb_output(output):\n",
    "    results = []\n",
    "\n",
    "    for line in output.stdout.strip().split('\\n'):\n",
    "        it_line, train_line, val_line = line.split('\\t')\n",
    "\n",
    "        it = int(it_line.strip('[]'))\n",
    "        train = float(train_line.split(':')[1])\n",
    "        val = float(val_line.split(':')[1])\n",
    "\n",
    "        results.append((it, train, val))\n",
    "    \n",
    "    columns = ['num_iter', 'train_auc', 'val_auc']\n",
    "    df_results = pd.DataFrame(results, columns=columns)\n",
    "    return df_results"
   ]
  },
  {
   "cell_type": "code",
   "execution_count": 75,
   "metadata": {},
   "outputs": [],
   "source": [
    "df_xgb_score = parse_xgb_output(output)"
   ]
  },
  {
   "cell_type": "code",
   "execution_count": 76,
   "metadata": {},
   "outputs": [
    {
     "data": {
      "image/png": "[encoded data removed]",
      "text/plain": [
       "<Figure size 432x288 with 1 Axes>"
      ]
     },
     "metadata": {
      "needs_background": "light"
     },
     "output_type": "display_data"
    }
   ],
   "source": [
    "plt.plot(df_xgb_score.num_iter, df_xgb_score.train_auc, label='train')\n",
    "plt.plot(df_xgb_score.num_iter, df_xgb_score.val_auc, label='val')\n",
    "plt.legend();\n",
    "plt.title('XGBoost');\n",
    "plt.xlabel('iterations');\n",
    "plt.ylabel('auc');"
   ]
  },
  {
   "cell_type": "code",
   "execution_count": 77,
   "metadata": {},
   "outputs": [
    {
     "data": {
      "text/html": [
       "<div>\n",
       "<style scoped>\n",
       "    .dataframe tbody tr th:only-of-type {\n",
       "        vertical-align: middle;\n",
       "    }\n",
       "\n",
       "    .dataframe tbody tr th {\n",
       "        vertical-align: top;\n",
       "    }\n",
       "\n",
       "    .dataframe thead th {\n",
       "        text-align: right;\n",
       "    }\n",
       "</style>\n",
       "<table border=\"1\" class=\"dataframe\">\n",
       "  <thead>\n",
       "    <tr style=\"text-align: right;\">\n",
       "      <th></th>\n",
       "      <th>num_iter</th>\n",
       "      <th>train_auc</th>\n",
       "      <th>val_auc</th>\n",
       "    </tr>\n",
       "  </thead>\n",
       "  <tbody>\n",
       "    <tr>\n",
       "      <th>10</th>\n",
       "      <td>50</td>\n",
       "      <td>0.99969</td>\n",
       "      <td>0.99084</td>\n",
       "    </tr>\n",
       "    <tr>\n",
       "      <th>8</th>\n",
       "      <td>40</td>\n",
       "      <td>0.99913</td>\n",
       "      <td>0.99075</td>\n",
       "    </tr>\n",
       "    <tr>\n",
       "      <th>6</th>\n",
       "      <td>30</td>\n",
       "      <td>0.99850</td>\n",
       "      <td>0.99059</td>\n",
       "    </tr>\n",
       "    <tr>\n",
       "      <th>9</th>\n",
       "      <td>45</td>\n",
       "      <td>0.99945</td>\n",
       "      <td>0.99042</td>\n",
       "    </tr>\n",
       "    <tr>\n",
       "      <th>11</th>\n",
       "      <td>55</td>\n",
       "      <td>0.99979</td>\n",
       "      <td>0.99029</td>\n",
       "    </tr>\n",
       "    <tr>\n",
       "      <th>7</th>\n",
       "      <td>35</td>\n",
       "      <td>0.99870</td>\n",
       "      <td>0.99026</td>\n",
       "    </tr>\n",
       "    <tr>\n",
       "      <th>12</th>\n",
       "      <td>60</td>\n",
       "      <td>0.99986</td>\n",
       "      <td>0.99014</td>\n",
       "    </tr>\n",
       "    <tr>\n",
       "      <th>5</th>\n",
       "      <td>25</td>\n",
       "      <td>0.99820</td>\n",
       "      <td>0.99011</td>\n",
       "    </tr>\n",
       "    <tr>\n",
       "      <th>14</th>\n",
       "      <td>70</td>\n",
       "      <td>0.99993</td>\n",
       "      <td>0.99003</td>\n",
       "    </tr>\n",
       "    <tr>\n",
       "      <th>13</th>\n",
       "      <td>65</td>\n",
       "      <td>0.99991</td>\n",
       "      <td>0.98991</td>\n",
       "    </tr>\n",
       "  </tbody>\n",
       "</table>\n",
       "</div>"
      ],
      "text/plain": [
       "    num_iter  train_auc  val_auc\n",
       "10        50    0.99969  0.99084\n",
       "8         40    0.99913  0.99075\n",
       "6         30    0.99850  0.99059\n",
       "9         45    0.99945  0.99042\n",
       "11        55    0.99979  0.99029\n",
       "7         35    0.99870  0.99026\n",
       "12        60    0.99986  0.99014\n",
       "5         25    0.99820  0.99011\n",
       "14        70    0.99993  0.99003\n",
       "13        65    0.99991  0.98991"
      ]
     },
     "execution_count": 77,
     "metadata": {},
     "output_type": "execute_result"
    }
   ],
   "source": [
    "df_xgb_score.sort_values('val_auc', ascending=False).head(10)"
   ]
  },
  {
   "cell_type": "markdown",
   "metadata": {},
   "source": [
    "<h3>XGBoost Parameter Tuning Using GridSearchCV</h3>"
   ]
  },
  {
   "cell_type": "markdown",
   "metadata": {},
   "source": [
    "GridSearchCV is a more automated way to try testing a lot of parameter choices for tuning.  We should run this on the full train dataset since scikit learn will be handling the cross validation internally and uses just train and test.  This will take a while to run."
   ]
  },
  {
   "cell_type": "markdown",
   "metadata": {},
   "source": [
    "<h3>Train on the full training and validation data sets</h3>"
   ]
  },
  {
   "cell_type": "code",
   "execution_count": 78,
   "metadata": {},
   "outputs": [],
   "source": [
    "df_full_train = df_full_train.reset_index(drop=True)\n",
    "y_full_train = df_full_train['quit']\n",
    "del df_full_train['quit']"
   ]
  },
  {
   "cell_type": "code",
   "execution_count": 79,
   "metadata": {},
   "outputs": [],
   "source": [
    "dicts_full_train = df_full_train.to_dict(orient='records')\n",
    "\n",
    "dv = DictVectorizer(sparse=False)\n",
    "X_full_train = dv.fit_transform(dicts_full_train)\n",
    "\n",
    "dicts_test = df_test.to_dict(orient='records')\n",
    "X_test = dv.transform(dicts_test)"
   ]
  },
  {
   "cell_type": "code",
   "execution_count": 80,
   "metadata": {},
   "outputs": [],
   "source": [
    "param_grid = {\n",
    "    \"max_depth\": [3, 4, 5, 6, 7],\n",
    "    \"learning_rate\": [0.3, 0.1, 0.01, 0.05],  \n",
    "    \"gamma\": [0, 0.25, 1],\n",
    "    \"reg_lambda\": [0, 1, 10],\n",
    "    \"scale_pos_weight\": [1, 3, 5],\n",
    "    \"subsample\": [0.8],\n",
    "    \"colsample_bytree\": [0.5],\n",
    "    \"seed\": [42],\n",
    "}"
   ]
  },
  {
   "cell_type": "code",
   "execution_count": 81,
   "metadata": {},
   "outputs": [
    {
     "name": "stdout",
     "output_type": "stream",
     "text": [
      "[13:02:15] WARNING: /Users/runner/miniforge3/conda-bld/xgboost-split_1634712680264/work/src/learner.cc:1115: Starting in XGBoost 1.3.0, the default evaluation metric used with the objective 'binary:logistic' was changed from 'error' to 'logloss'. Explicitly set eval_metric if you'd like to restore the old behavior.\n"
     ]
    }
   ],
   "source": [
    "xgb_cl = xgb.XGBClassifier(objective=\"binary:logistic\")\n",
    "grid_cv = GridSearchCV(xgb_cl, param_grid, n_jobs=-1, cv=3, scoring=\"roc_auc\")\n",
    "_ = grid_cv.fit(X_full_train, y_full_train)"
   ]
  },
  {
   "cell_type": "code",
   "execution_count": 82,
   "metadata": {},
   "outputs": [
    {
     "data": {
      "text/plain": [
       "0.9932698180958456"
      ]
     },
     "execution_count": 82,
     "metadata": {},
     "output_type": "execute_result"
    }
   ],
   "source": [
    "grid_cv.best_score_"
   ]
  },
  {
   "cell_type": "code",
   "execution_count": 83,
   "metadata": {},
   "outputs": [
    {
     "data": {
      "text/plain": [
       "{'colsample_bytree': 0.5,\n",
       " 'gamma': 1,\n",
       " 'learning_rate': 0.1,\n",
       " 'max_depth': 6,\n",
       " 'reg_lambda': 0,\n",
       " 'scale_pos_weight': 3,\n",
       " 'seed': 42,\n",
       " 'subsample': 0.8}"
      ]
     },
     "execution_count": 83,
     "metadata": {},
     "output_type": "execute_result"
    }
   ],
   "source": [
    "grid_cv.best_params_"
   ]
  },
  {
   "cell_type": "markdown",
   "metadata": {},
   "source": [
    "We will use the best parameters generated by our Grid search for our XGBoost model"
   ]
  },
  {
   "cell_type": "code",
   "execution_count": 84,
   "metadata": {},
   "outputs": [
    {
     "name": "stdout",
     "output_type": "stream",
     "text": [
      "[13:02:15] WARNING: /Users/runner/miniforge3/conda-bld/xgboost-split_1634712680264/work/src/learner.cc:1115: Starting in XGBoost 1.3.0, the default evaluation metric used with the objective 'binary:logistic' was changed from 'error' to 'logloss'. Explicitly set eval_metric if you'd like to restore the old behavior.\n"
     ]
    }
   ],
   "source": [
    "xgb_params = {'colsample_bytree': 0.5,\n",
    "              'gamma': 1,\n",
    "              'learning_rate': 0.1,\n",
    "              'objective': 'binary:logistic',\n",
    "              'max_depth': 6,\n",
    "              'reg_lambda': 0,\n",
    "              'scale_pos_weight': 3,\n",
    "              'seed': 42,\n",
    "              'subsample': 0.8,\n",
    "              'nthread': 8,\n",
    "              'verbosity': 1}\n",
    "\n",
    "xgb_model = xgb.train(xgb_params, dtrain, num_boost_round=10)\n",
    "xgb_pred = xgb_model.predict(dval)"
   ]
  },
  {
   "cell_type": "code",
   "execution_count": 85,
   "metadata": {},
   "outputs": [
    {
     "name": "stdout",
     "output_type": "stream",
     "text": [
      "[13:02:16] WARNING: /Users/runner/miniforge3/conda-bld/xgboost-split_1634712680264/work/src/learner.cc:1115: Starting in XGBoost 1.3.0, the default evaluation metric used with the objective 'binary:logistic' was changed from 'error' to 'logloss'. Explicitly set eval_metric if you'd like to restore the old behavior.\n"
     ]
    }
   ],
   "source": [
    "xgb_cl = xgb.XGBClassifier(objective=\"binary:logistic\", \n",
    "                           colsample_bytree=0.5,\n",
    "                           gamma=0,\n",
    "                           learning_rate=0.1,\n",
    "                           max_depth=6,\n",
    "                           reg_lambda=0,\n",
    "                           scale_pos_weight=3,\n",
    "                           subsample=0.8,\n",
    "                           seed=42)\n",
    "xgb_cl.fit(X_train, y_train)\n",
    "xbg_pred = model.predict(dval)\n",
    "xgb_quit_decision = (xgb_pred >= 0.5)"
   ]
  },
  {
   "cell_type": "code",
   "execution_count": 86,
   "metadata": {},
   "outputs": [
    {
     "data": {
      "text/html": [
       "<div>\n",
       "<style scoped>\n",
       "    .dataframe tbody tr th:only-of-type {\n",
       "        vertical-align: middle;\n",
       "    }\n",
       "\n",
       "    .dataframe tbody tr th {\n",
       "        vertical-align: top;\n",
       "    }\n",
       "\n",
       "    .dataframe thead th {\n",
       "        text-align: right;\n",
       "    }\n",
       "</style>\n",
       "<table border=\"1\" class=\"dataframe\">\n",
       "  <thead>\n",
       "    <tr style=\"text-align: right;\">\n",
       "      <th></th>\n",
       "      <th>probability</th>\n",
       "      <th>prediction</th>\n",
       "      <th>actual</th>\n",
       "      <th>correct</th>\n",
       "    </tr>\n",
       "  </thead>\n",
       "  <tbody>\n",
       "    <tr>\n",
       "      <th>0</th>\n",
       "      <td>0.573351</td>\n",
       "      <td>1</td>\n",
       "      <td>0</td>\n",
       "      <td>False</td>\n",
       "    </tr>\n",
       "    <tr>\n",
       "      <th>1</th>\n",
       "      <td>0.200619</td>\n",
       "      <td>0</td>\n",
       "      <td>0</td>\n",
       "      <td>True</td>\n",
       "    </tr>\n",
       "    <tr>\n",
       "      <th>2</th>\n",
       "      <td>0.390817</td>\n",
       "      <td>0</td>\n",
       "      <td>0</td>\n",
       "      <td>True</td>\n",
       "    </tr>\n",
       "    <tr>\n",
       "      <th>3</th>\n",
       "      <td>0.807441</td>\n",
       "      <td>1</td>\n",
       "      <td>1</td>\n",
       "      <td>True</td>\n",
       "    </tr>\n",
       "    <tr>\n",
       "      <th>4</th>\n",
       "      <td>0.797907</td>\n",
       "      <td>1</td>\n",
       "      <td>1</td>\n",
       "      <td>True</td>\n",
       "    </tr>\n",
       "  </tbody>\n",
       "</table>\n",
       "</div>"
      ],
      "text/plain": [
       "   probability  prediction  actual  correct\n",
       "0     0.573351           1       0    False\n",
       "1     0.200619           0       0     True\n",
       "2     0.390817           0       0     True\n",
       "3     0.807441           1       1     True\n",
       "4     0.797907           1       1     True"
      ]
     },
     "execution_count": 86,
     "metadata": {},
     "output_type": "execute_result"
    }
   ],
   "source": [
    "df_xgb_pred = pd.DataFrame()\n",
    "df_xgb_pred['probability'] = xgb_pred\n",
    "df_xgb_pred['prediction'] = xgb_quit_decision.astype(int)\n",
    "df_xgb_pred['actual'] = y_val\n",
    "df_xgb_pred['correct'] = df_xgb_pred.prediction == df_xgb_pred.actual\n",
    "df_xgb_pred.head()"
   ]
  },
  {
   "cell_type": "code",
   "execution_count": 87,
   "metadata": {},
   "outputs": [
    {
     "data": {
      "text/html": [
       "<div>\n",
       "<style scoped>\n",
       "    .dataframe tbody tr th:only-of-type {\n",
       "        vertical-align: middle;\n",
       "    }\n",
       "\n",
       "    .dataframe tbody tr th {\n",
       "        vertical-align: top;\n",
       "    }\n",
       "\n",
       "    .dataframe thead th {\n",
       "        text-align: right;\n",
       "    }\n",
       "</style>\n",
       "<table border=\"1\" class=\"dataframe\">\n",
       "  <thead>\n",
       "    <tr style=\"text-align: right;\">\n",
       "      <th></th>\n",
       "      <th>Model Name</th>\n",
       "      <th>Accuracy</th>\n",
       "      <th>Balanced Accuracy</th>\n",
       "      <th>Precision</th>\n",
       "      <th>Recall</th>\n",
       "      <th>F1</th>\n",
       "      <th>ROC AUC</th>\n",
       "    </tr>\n",
       "  </thead>\n",
       "  <tbody>\n",
       "    <tr>\n",
       "      <th>0</th>\n",
       "      <td>XGBoost</td>\n",
       "      <td>0.969333</td>\n",
       "      <td>0.948737</td>\n",
       "      <td>0.950617</td>\n",
       "      <td>0.911243</td>\n",
       "      <td>0.930514</td>\n",
       "      <td>0.948737</td>\n",
       "    </tr>\n",
       "  </tbody>\n",
       "</table>\n",
       "</div>"
      ],
      "text/plain": [
       "  Model Name  Accuracy  Balanced Accuracy  Precision    Recall        F1  \\\n",
       "0    XGBoost  0.969333           0.948737   0.950617  0.911243  0.930514   \n",
       "\n",
       "    ROC AUC  \n",
       "0  0.948737  "
      ]
     },
     "execution_count": 87,
     "metadata": {},
     "output_type": "execute_result"
    }
   ],
   "source": [
    "xgb_scores  = pd.DataFrame(data = [['XGBoost',\n",
    "                            accuracy_score(y_val, df_xgb_pred['prediction']),\n",
    "                            balanced_accuracy_score(y_val, df_xgb_pred['prediction']), \n",
    "                            precision_score(y_val, df_xgb_pred['prediction']),\n",
    "                            recall_score(y_val, df_xgb_pred['prediction']), \n",
    "                            f1_score(y_val, df_xgb_pred['prediction']), \n",
    "                            roc_auc_score(y_val, df_xgb_pred['prediction'])]],\n",
    "                         columns = ['Model Name','Accuracy','Balanced Accuracy','Precision','Recall','F1','ROC AUC'])\n",
    "xgb_scores"
   ]
  },
  {
   "cell_type": "markdown",
   "metadata": {},
   "source": [
    "<h3>Selecting a Model</h3>"
   ]
  },
  {
   "cell_type": "code",
   "execution_count": 88,
   "metadata": {},
   "outputs": [
    {
     "data": {
      "text/html": [
       "<div>\n",
       "<style scoped>\n",
       "    .dataframe tbody tr th:only-of-type {\n",
       "        vertical-align: middle;\n",
       "    }\n",
       "\n",
       "    .dataframe tbody tr th {\n",
       "        vertical-align: top;\n",
       "    }\n",
       "\n",
       "    .dataframe thead th {\n",
       "        text-align: right;\n",
       "    }\n",
       "</style>\n",
       "<table border=\"1\" class=\"dataframe\">\n",
       "  <thead>\n",
       "    <tr style=\"text-align: right;\">\n",
       "      <th></th>\n",
       "      <th>Model Name</th>\n",
       "      <th>Accuracy</th>\n",
       "      <th>Balanced Accuracy</th>\n",
       "      <th>Precision</th>\n",
       "      <th>Recall</th>\n",
       "      <th>F1</th>\n",
       "      <th>ROC AUC</th>\n",
       "    </tr>\n",
       "  </thead>\n",
       "  <tbody>\n",
       "    <tr>\n",
       "      <th>0</th>\n",
       "      <td>Random Forest</td>\n",
       "      <td>0.985000</td>\n",
       "      <td>0.970387</td>\n",
       "      <td>0.989147</td>\n",
       "      <td>0.943787</td>\n",
       "      <td>0.965935</td>\n",
       "      <td>0.970387</td>\n",
       "    </tr>\n",
       "    <tr>\n",
       "      <th>0</th>\n",
       "      <td>XGBoost</td>\n",
       "      <td>0.969333</td>\n",
       "      <td>0.948737</td>\n",
       "      <td>0.950617</td>\n",
       "      <td>0.911243</td>\n",
       "      <td>0.930514</td>\n",
       "      <td>0.948737</td>\n",
       "    </tr>\n",
       "    <tr>\n",
       "      <th>0</th>\n",
       "      <td>Naive Bayes Imbalanced Data</td>\n",
       "      <td>0.673000</td>\n",
       "      <td>0.734394</td>\n",
       "      <td>0.394755</td>\n",
       "      <td>0.846154</td>\n",
       "      <td>0.538353</td>\n",
       "      <td>0.734394</td>\n",
       "    </tr>\n",
       "    <tr>\n",
       "      <th>0</th>\n",
       "      <td>Naive Bayes SMOTE</td>\n",
       "      <td>0.509667</td>\n",
       "      <td>0.643658</td>\n",
       "      <td>0.300752</td>\n",
       "      <td>0.887574</td>\n",
       "      <td>0.449270</td>\n",
       "      <td>0.643658</td>\n",
       "    </tr>\n",
       "    <tr>\n",
       "      <th>0</th>\n",
       "      <td>Logistic Regression</td>\n",
       "      <td>0.787000</td>\n",
       "      <td>0.627022</td>\n",
       "      <td>0.544365</td>\n",
       "      <td>0.335799</td>\n",
       "      <td>0.415371</td>\n",
       "      <td>0.627022</td>\n",
       "    </tr>\n",
       "    <tr>\n",
       "      <th>0</th>\n",
       "      <td>SVM</td>\n",
       "      <td>0.775667</td>\n",
       "      <td>0.590335</td>\n",
       "      <td>0.504425</td>\n",
       "      <td>0.252959</td>\n",
       "      <td>0.336946</td>\n",
       "      <td>0.590335</td>\n",
       "    </tr>\n",
       "  </tbody>\n",
       "</table>\n",
       "</div>"
      ],
      "text/plain": [
       "                    Model Name  Accuracy  Balanced Accuracy  Precision  \\\n",
       "0                Random Forest  0.985000           0.970387   0.989147   \n",
       "0                      XGBoost  0.969333           0.948737   0.950617   \n",
       "0  Naive Bayes Imbalanced Data  0.673000           0.734394   0.394755   \n",
       "0            Naive Bayes SMOTE  0.509667           0.643658   0.300752   \n",
       "0          Logistic Regression  0.787000           0.627022   0.544365   \n",
       "0                          SVM  0.775667           0.590335   0.504425   \n",
       "\n",
       "     Recall        F1   ROC AUC  \n",
       "0  0.943787  0.965935  0.970387  \n",
       "0  0.911243  0.930514  0.948737  \n",
       "0  0.846154  0.538353  0.734394  \n",
       "0  0.887574  0.449270  0.643658  \n",
       "0  0.335799  0.415371  0.627022  \n",
       "0  0.252959  0.336946  0.590335  "
      ]
     },
     "execution_count": 88,
     "metadata": {},
     "output_type": "execute_result"
    }
   ],
   "source": [
    "model_scores = pd.concat([nb_imbal_scores, nb_bal_scores, lr_scores, rf_scores, svm_scores, xgb_scores])\n",
    "model_scores.sort_values('ROC AUC', ascending=False)"
   ]
  },
  {
   "cell_type": "markdown",
   "metadata": {},
   "source": [
    "Based on the ROC AUC metric, it appears the both Random Forest and XGBoost perform very well on our validation data."
   ]
  },
  {
   "cell_type": "markdown",
   "metadata": {},
   "source": [
    "<h3>Train in the full train dataset (training and validation) and evaluate on the test data</h3>"
   ]
  },
  {
   "cell_type": "markdown",
   "metadata": {},
   "source": [
    "<h3>XGBoost</h3>"
   ]
  },
  {
   "cell_type": "code",
   "execution_count": 89,
   "metadata": {},
   "outputs": [],
   "source": [
    "dfulltrain = xgb.DMatrix(X_full_train, label=y_full_train,\n",
    "                    feature_names=dv.get_feature_names())\n",
    "\n",
    "dtest = xgb.DMatrix(X_test, feature_names=dv.get_feature_names())"
   ]
  },
  {
   "cell_type": "code",
   "execution_count": 90,
   "metadata": {},
   "outputs": [
    {
     "name": "stdout",
     "output_type": "stream",
     "text": [
      "[13:02:16] WARNING: /Users/runner/miniforge3/conda-bld/xgboost-split_1634712680264/work/src/learner.cc:1115: Starting in XGBoost 1.3.0, the default evaluation metric used with the objective 'binary:logistic' was changed from 'error' to 'logloss'. Explicitly set eval_metric if you'd like to restore the old behavior.\n"
     ]
    }
   ],
   "source": [
    "xgb_params = {'colsample_bytree': 0.5,\n",
    "              'gamma': 1,\n",
    "              'learning_rate': 0.1,\n",
    "              'objective': 'binary:logistic',\n",
    "              'max_depth': 6,\n",
    "              'reg_lambda': 0,\n",
    "              'scale_pos_weight': 3,\n",
    "              'seed': 42,\n",
    "              'subsample': 0.8,\n",
    "              'nthread': 8,\n",
    "              'verbosity': 1}\n",
    "\n",
    "xgb_model = xgb.train(xgb_params, dfulltrain, num_boost_round=10)\n",
    "xgb_pred = xgb_model.predict(dtest)\n",
    "xgb_quit_decision = (xgb_pred >= 0.5)"
   ]
  },
  {
   "cell_type": "code",
   "execution_count": 91,
   "metadata": {},
   "outputs": [
    {
     "data": {
      "text/html": [
       "<div>\n",
       "<style scoped>\n",
       "    .dataframe tbody tr th:only-of-type {\n",
       "        vertical-align: middle;\n",
       "    }\n",
       "\n",
       "    .dataframe tbody tr th {\n",
       "        vertical-align: top;\n",
       "    }\n",
       "\n",
       "    .dataframe thead th {\n",
       "        text-align: right;\n",
       "    }\n",
       "</style>\n",
       "<table border=\"1\" class=\"dataframe\">\n",
       "  <thead>\n",
       "    <tr style=\"text-align: right;\">\n",
       "      <th></th>\n",
       "      <th>Model Name</th>\n",
       "      <th>Accuracy</th>\n",
       "      <th>Balanced Accuracy</th>\n",
       "      <th>Precision</th>\n",
       "      <th>Recall</th>\n",
       "      <th>F1</th>\n",
       "      <th>ROC AUC</th>\n",
       "    </tr>\n",
       "  </thead>\n",
       "  <tbody>\n",
       "    <tr>\n",
       "      <th>0</th>\n",
       "      <td>XGBoost (Full Train)</td>\n",
       "      <td>0.654</td>\n",
       "      <td>0.511806</td>\n",
       "      <td>0.242898</td>\n",
       "      <td>0.252959</td>\n",
       "      <td>0.247826</td>\n",
       "      <td>0.511806</td>\n",
       "    </tr>\n",
       "  </tbody>\n",
       "</table>\n",
       "</div>"
      ],
      "text/plain": [
       "             Model Name  Accuracy  Balanced Accuracy  Precision    Recall  \\\n",
       "0  XGBoost (Full Train)     0.654           0.511806   0.242898  0.252959   \n",
       "\n",
       "         F1   ROC AUC  \n",
       "0  0.247826  0.511806  "
      ]
     },
     "execution_count": 91,
     "metadata": {},
     "output_type": "execute_result"
    }
   ],
   "source": [
    "xgb_f_scores  = pd.DataFrame(data = [['XGBoost (Full Train)',\n",
    "                            accuracy_score(y_val, xgb_quit_decision.astype(int)),\n",
    "                            balanced_accuracy_score(y_val, xgb_quit_decision.astype(int)), \n",
    "                            precision_score(y_val, xgb_quit_decision.astype(int)),\n",
    "                            recall_score(y_val, xgb_quit_decision.astype(int)), \n",
    "                            f1_score(y_val, xgb_quit_decision.astype(int)), \n",
    "                            roc_auc_score(y_val, xgb_quit_decision.astype(int))]],\n",
    "                         columns = ['Model Name','Accuracy','Balanced Accuracy','Precision','Recall','F1','ROC AUC'])\n",
    "xgb_f_scores"
   ]
  },
  {
   "cell_type": "code",
   "execution_count": 92,
   "metadata": {},
   "outputs": [
    {
     "data": {
      "text/plain": [
       "0.5316115476275347"
      ]
     },
     "execution_count": 92,
     "metadata": {},
     "output_type": "execute_result"
    }
   ],
   "source": [
    "roc_auc_score(y_val, xgb_pred)"
   ]
  },
  {
   "cell_type": "markdown",
   "metadata": {},
   "source": [
    "<h3>Random Forest</h3>"
   ]
  },
  {
   "cell_type": "code",
   "execution_count": 93,
   "metadata": {},
   "outputs": [],
   "source": [
    "# random forest parameters\n",
    "max_depth=15\n",
    "min_samples_leaf = 1\n",
    "n_estimators=30\n",
    "bootstrap=False\n",
    "random_state=42"
   ]
  },
  {
   "cell_type": "code",
   "execution_count": 94,
   "metadata": {},
   "outputs": [],
   "source": [
    "rf = RandomForestClassifier(n_estimators=n_estimators,\n",
    "                            max_depth=max_depth,\n",
    "                            min_samples_leaf=min_samples_leaf,\n",
    "                            bootstrap=bootstrap,\n",
    "                            random_state=random_state)\n",
    "rf.fit(X_full_train, y_full_train)\n",
    "rf_pred = rf.predict_proba(X_test)[:, 1]\n",
    "rf_quit_decision = (rf_pred >= 0.5)"
   ]
  },
  {
   "cell_type": "code",
   "execution_count": 95,
   "metadata": {},
   "outputs": [
    {
     "data": {
      "text/html": [
       "<div>\n",
       "<style scoped>\n",
       "    .dataframe tbody tr th:only-of-type {\n",
       "        vertical-align: middle;\n",
       "    }\n",
       "\n",
       "    .dataframe tbody tr th {\n",
       "        vertical-align: top;\n",
       "    }\n",
       "\n",
       "    .dataframe thead th {\n",
       "        text-align: right;\n",
       "    }\n",
       "</style>\n",
       "<table border=\"1\" class=\"dataframe\">\n",
       "  <thead>\n",
       "    <tr style=\"text-align: right;\">\n",
       "      <th></th>\n",
       "      <th>Model Name</th>\n",
       "      <th>Accuracy</th>\n",
       "      <th>Balanced Accuracy</th>\n",
       "      <th>Precision</th>\n",
       "      <th>Recall</th>\n",
       "      <th>F1</th>\n",
       "      <th>ROC AUC</th>\n",
       "    </tr>\n",
       "  </thead>\n",
       "  <tbody>\n",
       "    <tr>\n",
       "      <th>0</th>\n",
       "      <td>Random Forest (Full Train)</td>\n",
       "      <td>0.660333</td>\n",
       "      <td>0.516943</td>\n",
       "      <td>0.251089</td>\n",
       "      <td>0.255917</td>\n",
       "      <td>0.25348</td>\n",
       "      <td>0.516943</td>\n",
       "    </tr>\n",
       "  </tbody>\n",
       "</table>\n",
       "</div>"
      ],
      "text/plain": [
       "                   Model Name  Accuracy  Balanced Accuracy  Precision  \\\n",
       "0  Random Forest (Full Train)  0.660333           0.516943   0.251089   \n",
       "\n",
       "     Recall       F1   ROC AUC  \n",
       "0  0.255917  0.25348  0.516943  "
      ]
     },
     "execution_count": 95,
     "metadata": {},
     "output_type": "execute_result"
    }
   ],
   "source": [
    "rf_f_scores  = pd.DataFrame(data = [['Random Forest (Full Train)',\n",
    "                            accuracy_score(y_val, rf_quit_decision.astype(int)),\n",
    "                            balanced_accuracy_score(y_val, rf_quit_decision.astype(int)), \n",
    "                            precision_score(y_val, rf_quit_decision.astype(int)),\n",
    "                            recall_score(y_val, rf_quit_decision.astype(int)), \n",
    "                            f1_score(y_val, rf_quit_decision.astype(int)), \n",
    "                            roc_auc_score(y_val, rf_quit_decision.astype(int))]],\n",
    "                         columns = ['Model Name','Accuracy','Balanced Accuracy','Precision','Recall','F1','ROC AUC'])\n",
    "rf_f_scores"
   ]
  },
  {
   "cell_type": "code",
   "execution_count": 96,
   "metadata": {},
   "outputs": [
    {
     "data": {
      "text/html": [
       "<div>\n",
       "<style scoped>\n",
       "    .dataframe tbody tr th:only-of-type {\n",
       "        vertical-align: middle;\n",
       "    }\n",
       "\n",
       "    .dataframe tbody tr th {\n",
       "        vertical-align: top;\n",
       "    }\n",
       "\n",
       "    .dataframe thead th {\n",
       "        text-align: right;\n",
       "    }\n",
       "</style>\n",
       "<table border=\"1\" class=\"dataframe\">\n",
       "  <thead>\n",
       "    <tr style=\"text-align: right;\">\n",
       "      <th></th>\n",
       "      <th>Model Name</th>\n",
       "      <th>Accuracy</th>\n",
       "      <th>Balanced Accuracy</th>\n",
       "      <th>Precision</th>\n",
       "      <th>Recall</th>\n",
       "      <th>F1</th>\n",
       "      <th>ROC AUC</th>\n",
       "    </tr>\n",
       "  </thead>\n",
       "  <tbody>\n",
       "    <tr>\n",
       "      <th>0</th>\n",
       "      <td>Random Forest (Full Train)</td>\n",
       "      <td>0.660333</td>\n",
       "      <td>0.516943</td>\n",
       "      <td>0.251089</td>\n",
       "      <td>0.255917</td>\n",
       "      <td>0.253480</td>\n",
       "      <td>0.516943</td>\n",
       "    </tr>\n",
       "    <tr>\n",
       "      <th>0</th>\n",
       "      <td>XGBoost (Full Train)</td>\n",
       "      <td>0.654000</td>\n",
       "      <td>0.511806</td>\n",
       "      <td>0.242898</td>\n",
       "      <td>0.252959</td>\n",
       "      <td>0.247826</td>\n",
       "      <td>0.511806</td>\n",
       "    </tr>\n",
       "  </tbody>\n",
       "</table>\n",
       "</div>"
      ],
      "text/plain": [
       "                   Model Name  Accuracy  Balanced Accuracy  Precision  \\\n",
       "0  Random Forest (Full Train)  0.660333           0.516943   0.251089   \n",
       "0        XGBoost (Full Train)  0.654000           0.511806   0.242898   \n",
       "\n",
       "     Recall        F1   ROC AUC  \n",
       "0  0.255917  0.253480  0.516943  \n",
       "0  0.252959  0.247826  0.511806  "
      ]
     },
     "execution_count": 96,
     "metadata": {},
     "output_type": "execute_result"
    }
   ],
   "source": [
    "final_model_scores = pd.concat([rf_f_scores, xgb_f_scores])\n",
    "final_model_scores.sort_values('ROC AUC', ascending=False)"
   ]
  },
  {
   "cell_type": "markdown",
   "metadata": {},
   "source": [
    "<h3>Observations</h3>\n",
    "Overall, neither model performed well on the test dataset. You want the ROC AUC scores to be > .5. If there were more time, I would experiment more.\n",
    "Since the Random Forest model had slightly higher scores for everything across the board, so we will choose it for deployment."
   ]
  },
  {
   "cell_type": "markdown",
   "metadata": {},
   "source": [
    "<h3>Export the model for deployment</h3>"
   ]
  },
  {
   "cell_type": "code",
   "execution_count": 97,
   "metadata": {},
   "outputs": [],
   "source": [
    "def train(df_train, y_train, n_estimators, max_depth, min_samples_lead, bootstrap, random_state):\n",
    "    dicts = df_train[categorical + numerical].to_dict(orient='records')\n",
    "\n",
    "    dv = DictVectorizer(sparse=False)\n",
    "    X_train = dv.fit_transform(dicts)\n",
    "\n",
    "    rf_model = RandomForestClassifier(n_estimators=n_estimators,\n",
    "                                      max_depth=max_depth,\n",
    "                                      min_samples_leaf=min_samples_leaf,\n",
    "                                      bootstrap=bootstrap,\n",
    "                                      random_state=random_state)\n",
    "    rf_model.fit(X_train, y_train)\n",
    "    \n",
    "    return dv, model"
   ]
  },
  {
   "cell_type": "code",
   "execution_count": 98,
   "metadata": {},
   "outputs": [],
   "source": [
    "def predict(df, dv, model):\n",
    "    dicts = df[categorical + numerical].to_dict(orient='records')\n",
    "\n",
    "    X = dv.transform(dicts)\n",
    "    y_pred = model.predict_proba(X)[:, 1]\n",
    "\n",
    "    return y_pred"
   ]
  },
  {
   "cell_type": "code",
   "execution_count": 99,
   "metadata": {},
   "outputs": [],
   "source": [
    "output_file = 'rf_model.bin'\n",
    "\n",
    "with open(output_file, 'wb') as f_out: \n",
    "    pickle.dump((dv, rf), f_out)"
   ]
  },
  {
   "cell_type": "markdown",
   "metadata": {},
   "source": [
    "<a id='reference'></a>\n",
    "# Reference"
   ]
  },
  {
   "cell_type": "markdown",
   "metadata": {},
   "source": [
    "[HR Retention Prediction dataset by Vincent Tatan](https://github.com/VincentTatan/PythonAnalytics/blob/master/Youtube/dataset/HR_comma_sep.csv) *last updated on github 1/18/17*"
   ]
  },
  {
   "cell_type": "markdown",
   "metadata": {},
   "source": [
    "[The geography of the Great Resignation: First-time data shows where Americans are quitting the most](https://www.washingtonpost.com/business/2021/10/22/states-labor-quitting-turnvoer-jolts/)\n",
    "by Alyssa Fowers and Eli Rosenberg, *published: 10/22/21, accessed: 10/23/21*"
   ]
  },
  {
   "cell_type": "markdown",
   "metadata": {},
   "source": [
    "[The Great Resignation: Why People Are Leaving Their Jobs In Growing Numbers](https://www.npr.org/2021/10/22/1048332481/the-great-resignation-why-people-are-leaving-their-jobs-in-growing-numbers)\n",
    "*published: 10/22/21, accessed: 10/23/21*"
   ]
  },
  {
   "cell_type": "markdown",
   "metadata": {},
   "source": [
    "[Why are so many Americans quitting their jobs?](https://www.npr.org/sections/money/2021/10/19/1047032996/why-are-so-many-americans-quitting-their-jobs)\n",
    "by Greg Rosalsky, *published: 10/19/21, accessed: 10/23/21*"
   ]
  },
  {
   "cell_type": "markdown",
   "metadata": {},
   "source": [
    "[The ‘Great Resignation’ Is A Workers’ Revolution: Here’s What Real Leaders Must Do Right Now](https://www.forbes.com/sites/jackkelly/2021/10/08/the-great-resignation-is-a-workers-revolution-heres-what-real-leaders-must-do-right-now/?sh=5c2b453f514f) by Jack Kelly, *published: 10/8/21; accessed: 10/23/21*"
   ]
  },
  {
   "cell_type": "markdown",
   "metadata": {},
   "source": [
    "[The Great Resignation Update: Limeade Employee Care Report](https://www.limeade.com/resources/resource-center/limeade-employee-care-report-the-great-resignation-update/) *accessed: 10/23/21*"
   ]
  },
  {
   "cell_type": "markdown",
   "metadata": {},
   "source": [
    "[The Great Resignation Is Accelerating: A lasting effect of this pandemic will be a revolution in worker expectations.](https://www.theatlantic.com/ideas/archive/2021/10/great-resignation-accelerating/620382/) by Derek Thompson, *published: 10/15/21, accessed: 10/23/21*"
   ]
  },
  {
   "cell_type": "markdown",
   "metadata": {},
   "source": [
    "[The Great Resignation is no joke](https://fortune.com/2021/10/21/the-great-resignation-is-no-joke/) by Lance Lambert, *published: 10/21/21, accessed: 10/23/21*"
   ]
  },
  {
   "cell_type": "markdown",
   "metadata": {},
   "source": [
    "[US Bureau of Labor Statistics: Table 4. Quits levels and rates by industry and region, seasonally adjusted](https://www.bls.gov/news.release/jolts.t04.htm) *published: 10/12/21, accessed: 10/23/21*"
   ]
  },
  {
   "cell_type": "markdown",
   "metadata": {},
   "source": [
    "[‘Micromanaged and disrespected’: Top reasons workers are quitting their jobs in ‘The Great Resignation’\n",
    "Health concerns, increased workloads, unrealistic manager expectations are pushing many to the breaking point, readers tell me. And those who can afford to quit or take early retirement are leaving. ](https://www.washingtonpost.com/business/2021/10/07/top-reasons-great-resignation-workers-quitting/)\n",
    "by Karla L. Miller, *published: 10/7/21, accessed: 10/23/21*"
   ]
  },
  {
   "cell_type": "markdown",
   "metadata": {},
   "source": [
    "[During the ‘Great Resignation,’ workers refuse to accept the unacceptable\n",
    "People who are used to tolerating bad work situations are increasingly leaving their jobs and demanding better working conditions](https://www.washingtonpost.com/business/2021/09/30/during-great-resignation-workers-refuse-accept-unacceptable/)by Karla L. Miller, *published: 9/30/21, accessed: 10/23/21*"
   ]
  },
  {
   "cell_type": "markdown",
   "metadata": {},
   "source": [
    "[Who Is Driving the Great Resignation?](https://hbr.org/2021/09/who-is-driving-the-great-resignation)\n",
    "by Ian Cook\n",
    "*published: 9/15/21, accessed: 10/23/21*"
   ]
  },
  {
   "cell_type": "markdown",
   "metadata": {},
   "source": [
    "[As The Pandemic Recedes, Millions Of Workers Are Saying 'I Quit'](https://www.npr.org/2021/06/24/1007914455/as-the-pandemic-recedes-millions-of-workers-are-saying-i-quit)\n",
    "by Andrea Hsu, *published: 6/24/21, accessed: 10/23/21*"
   ]
  },
  {
   "cell_type": "markdown",
   "metadata": {},
   "source": [
    "[Wikipedia: The Great Resignation](https://en.wikipedia.org/wiki/Great_Resignation)\n",
    "*accessed: 10/23/21*"
   ]
  },
  {
   "cell_type": "code",
   "execution_count": null,
   "metadata": {},
   "outputs": [],
   "source": []
  }
 ],
 "metadata": {
  "kernelspec": {
   "display_name": "Python 3",
   "language": "python",
   "name": "python3"
  },
  "language_info": {
   "codemirror_mode": {
    "name": "ipython",
    "version": 3
   },
   "file_extension": ".py",
   "mimetype": "text/x-python",
   "name": "python",
   "nbconvert_exporter": "python",
   "pygments_lexer": "ipython3",
   "version": "3.7.4"
  }
 },
 "nbformat": 4,
 "nbformat_minor": 4
}
