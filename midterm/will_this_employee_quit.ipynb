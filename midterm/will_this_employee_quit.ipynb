{
 "cells": [
  {
   "cell_type": "markdown",
   "metadata": {},
   "source": [
    "# Simple way to test if an employee will quit"
   ]
  },
  {
   "cell_type": "code",
   "execution_count": 1,
   "metadata": {},
   "outputs": [],
   "source": [
    "import requests\n",
    "import pandas as pd\n",
    "import numpy as np"
   ]
  },
  {
   "cell_type": "code",
   "execution_count": 2,
   "metadata": {},
   "outputs": [],
   "source": [
    "url = \"http://localhost:9696/predict\""
   ]
  },
  {
   "cell_type": "code",
   "execution_count": 3,
   "metadata": {},
   "outputs": [],
   "source": [
    "employee = {\"satisfaction_level\": 5.8, \n",
    "            \"last_eval\": 0.7, \n",
    "            \"num_projects\": 19,\n",
    "            \"avg_monthly_hrs\": 256,\n",
    "            \"time_spent_at_company\": 4,\n",
    "            \"work_accident\": 0,\n",
    "            \"promotion_last_5_yrs\": 0,\n",
    "            \"job_category\": \"sales\",\n",
    "            \"salary_group\": \"low\"\n",
    "            }"
   ]
  },
  {
   "cell_type": "code",
   "execution_count": 4,
   "metadata": {},
   "outputs": [],
   "source": [
    "employee2 = {\"satisfaction_level\": 0.45, \n",
    "            \"last_eval\": 0.9, \n",
    "            \"num_projects\": 2,\n",
    "            \"avg_monthly_hrs\": 340,\n",
    "            \"time_spent_at_company\": 2,\n",
    "            \"work_accident\": 1,\n",
    "            \"promotion_last_5_yrs\": 0,\n",
    "            \"job_category\": \"accounting\",\n",
    "            \"salary_group\": \"medium\"\n",
    "            }"
   ]
  },
  {
   "cell_type": "code",
   "execution_count": 5,
   "metadata": {},
   "outputs": [],
   "source": [
    "employee3 = {\"satisfaction_level\": 0.11, \n",
    "            \"last_eval\": 0.38, \n",
    "            \"num_projects\": 19,\n",
    "            \"avg_monthly_hrs\": 272,\n",
    "            \"time_spent_at_company\": 4,\n",
    "            \"work_accident\": 0,\n",
    "            \"promotion_last_5_yrs\": 1,\n",
    "            \"job_category\": \"technical\",\n",
    "            \"salary_group\": \"low\"\n",
    "            }"
   ]
  },
  {
   "cell_type": "markdown",
   "metadata": {},
   "source": [
    "### Will Employee 1 quit?"
   ]
  },
  {
   "cell_type": "code",
   "execution_count": 6,
   "metadata": {},
   "outputs": [
    {
     "name": "stdout",
     "output_type": "stream",
     "text": [
      "{'quit': False, 'quit_probability': 0.33735614477578163}\n"
     ]
    }
   ],
   "source": [
    "response = requests.post(url, json=employee).json()\n",
    "print(response)"
   ]
  },
  {
   "cell_type": "markdown",
   "metadata": {},
   "source": [
    "### Will Employee 2 quit?"
   ]
  },
  {
   "cell_type": "code",
   "execution_count": 7,
   "metadata": {},
   "outputs": [
    {
     "name": "stdout",
     "output_type": "stream",
     "text": [
      "{'quit': False, 'quit_probability': 0.45789473684210524}\n"
     ]
    }
   ],
   "source": [
    "response = requests.post(url, json=employee2).json()\n",
    "print(response)"
   ]
  },
  {
   "cell_type": "markdown",
   "metadata": {},
   "source": [
    "### Will Employee 3 quit?"
   ]
  },
  {
   "cell_type": "code",
   "execution_count": 8,
   "metadata": {},
   "outputs": [
    {
     "name": "stdout",
     "output_type": "stream",
     "text": [
      "{'quit': True, 'quit_probability': 0.7526315789473684}\n"
     ]
    }
   ],
   "source": [
    "response = requests.post(url, json=employee3).json()\n",
    "print(response)"
   ]
  },
  {
   "cell_type": "code",
   "execution_count": null,
   "metadata": {},
   "outputs": [],
   "source": []
  }
 ],
 "metadata": {
  "kernelspec": {
   "display_name": "Python 3",
   "language": "python",
   "name": "python3"
  },
  "language_info": {
   "codemirror_mode": {
    "name": "ipython",
    "version": 3
   },
   "file_extension": ".py",
   "mimetype": "text/x-python",
   "name": "python",
   "nbconvert_exporter": "python",
   "pygments_lexer": "ipython3",
   "version": "3.7.4"
  }
 },
 "nbformat": 4,
 "nbformat_minor": 4
}
