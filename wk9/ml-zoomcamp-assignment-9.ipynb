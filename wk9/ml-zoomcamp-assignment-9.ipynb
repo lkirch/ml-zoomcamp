{
 "cells": [
  {
   "cell_type": "markdown",
   "metadata": {},
   "source": [
    "## 9.10 Homework\n",
    "\n",
    "In this homework, we'll deploy the dogs vs cats model we trained in the previous \n",
    "homework.\n",
    "\n",
    "Download the model from here: \n",
    "\n",
    "https://github.com/alexeygrigorev/large-datasets/releases/download/dogs-cats-model/dogs_cats_10_0.687.h5\n"
   ]
  },
  {
   "cell_type": "code",
   "execution_count": 1,
   "metadata": {
    "execution": {
     "iopub.execute_input": "2021-11-25T17:45:16.725130Z",
     "iopub.status.busy": "2021-11-25T17:45:16.724799Z",
     "iopub.status.idle": "2021-11-25T17:45:21.773557Z",
     "shell.execute_reply": "2021-11-25T17:45:21.772706Z",
     "shell.execute_reply.started": "2021-11-25T17:45:16.725094Z"
    }
   },
   "outputs": [],
   "source": [
    "import numpy as np\n",
    "import pandas as pd"
   ]
  },
  {
   "cell_type": "code",
   "execution_count": 2,
   "metadata": {},
   "outputs": [
    {
     "name": "stdout",
     "output_type": "stream",
     "text": [
      "Requirement already satisfied: tensorflow in /Users/lkirch/opt/anaconda3/lib/python3.7/site-packages (2.7.0)\n",
      "Requirement already satisfied: tensorboard~=2.6 in /Users/lkirch/opt/anaconda3/lib/python3.7/site-packages (from tensorflow) (2.7.0)\n",
      "Requirement already satisfied: libclang>=9.0.1 in /Users/lkirch/opt/anaconda3/lib/python3.7/site-packages (from tensorflow) (12.0.0)\n",
      "Requirement already satisfied: h5py>=2.9.0 in /Users/lkirch/opt/anaconda3/lib/python3.7/site-packages (from tensorflow) (2.9.0)\n",
      "Requirement already satisfied: grpcio<2.0,>=1.24.3 in /Users/lkirch/opt/anaconda3/lib/python3.7/site-packages (from tensorflow) (1.42.0)\n",
      "Requirement already satisfied: absl-py>=0.4.0 in /Users/lkirch/opt/anaconda3/lib/python3.7/site-packages (from tensorflow) (1.0.0)\n",
      "Requirement already satisfied: gast<0.5.0,>=0.2.1 in /Users/lkirch/opt/anaconda3/lib/python3.7/site-packages (from tensorflow) (0.4.0)\n",
      "Requirement already satisfied: wrapt>=1.11.0 in /Users/lkirch/opt/anaconda3/lib/python3.7/site-packages (from tensorflow) (1.11.2)\n",
      "Requirement already satisfied: google-pasta>=0.1.1 in /Users/lkirch/opt/anaconda3/lib/python3.7/site-packages (from tensorflow) (0.2.0)\n",
      "Requirement already satisfied: six>=1.12.0 in /Users/lkirch/opt/anaconda3/lib/python3.7/site-packages (from tensorflow) (1.12.0)\n",
      "Requirement already satisfied: keras-preprocessing>=1.1.1 in /Users/lkirch/opt/anaconda3/lib/python3.7/site-packages (from tensorflow) (1.1.2)\n",
      "Requirement already satisfied: opt-einsum>=2.3.2 in /Users/lkirch/opt/anaconda3/lib/python3.7/site-packages (from tensorflow) (3.3.0)\n",
      "Requirement already satisfied: protobuf>=3.9.2 in /Users/lkirch/opt/anaconda3/lib/python3.7/site-packages (from tensorflow) (3.19.1)\n",
      "Requirement already satisfied: keras<2.8,>=2.7.0rc0 in /Users/lkirch/opt/anaconda3/lib/python3.7/site-packages (from tensorflow) (2.7.0)\n",
      "Requirement already satisfied: flatbuffers<3.0,>=1.12 in /Users/lkirch/opt/anaconda3/lib/python3.7/site-packages (from tensorflow) (2.0)\n",
      "Requirement already satisfied: tensorflow-io-gcs-filesystem>=0.21.0 in /Users/lkirch/opt/anaconda3/lib/python3.7/site-packages (from tensorflow) (0.22.0)\n",
      "Requirement already satisfied: numpy>=1.14.5 in /Users/lkirch/opt/anaconda3/lib/python3.7/site-packages (from tensorflow) (1.17.2)\n",
      "Requirement already satisfied: tensorflow-estimator<2.8,~=2.7.0rc0 in /Users/lkirch/opt/anaconda3/lib/python3.7/site-packages (from tensorflow) (2.7.0)\n",
      "Requirement already satisfied: astunparse>=1.6.0 in /Users/lkirch/opt/anaconda3/lib/python3.7/site-packages (from tensorflow) (1.6.3)\n",
      "Requirement already satisfied: termcolor>=1.1.0 in /Users/lkirch/opt/anaconda3/lib/python3.7/site-packages (from tensorflow) (1.1.0)\n",
      "Requirement already satisfied: wheel<1.0,>=0.32.0 in /Users/lkirch/opt/anaconda3/lib/python3.7/site-packages (from tensorflow) (0.33.6)\n",
      "Requirement already satisfied: typing-extensions>=3.6.6 in /Users/lkirch/.local/lib/python3.7/site-packages (from tensorflow) (3.10.0.2)\n",
      "Requirement already satisfied: google-auth<3,>=1.6.3 in /Users/lkirch/opt/anaconda3/lib/python3.7/site-packages (from tensorboard~=2.6->tensorflow) (2.3.3)\n",
      "Requirement already satisfied: tensorboard-plugin-wit>=1.6.0 in /Users/lkirch/opt/anaconda3/lib/python3.7/site-packages (from tensorboard~=2.6->tensorflow) (1.8.0)\n",
      "Requirement already satisfied: requests<3,>=2.21.0 in /Users/lkirch/opt/anaconda3/lib/python3.7/site-packages (from tensorboard~=2.6->tensorflow) (2.22.0)\n",
      "Requirement already satisfied: setuptools>=41.0.0 in /Users/lkirch/opt/anaconda3/lib/python3.7/site-packages (from tensorboard~=2.6->tensorflow) (41.4.0)\n",
      "Requirement already satisfied: markdown>=2.6.8 in /Users/lkirch/opt/anaconda3/lib/python3.7/site-packages (from tensorboard~=2.6->tensorflow) (3.3.6)\n",
      "Requirement already satisfied: werkzeug>=0.11.15 in /Users/lkirch/opt/anaconda3/lib/python3.7/site-packages (from tensorboard~=2.6->tensorflow) (0.16.0)\n",
      "Requirement already satisfied: google-auth-oauthlib<0.5,>=0.4.1 in /Users/lkirch/opt/anaconda3/lib/python3.7/site-packages (from tensorboard~=2.6->tensorflow) (0.4.6)\n",
      "Requirement already satisfied: tensorboard-data-server<0.7.0,>=0.6.0 in /Users/lkirch/opt/anaconda3/lib/python3.7/site-packages (from tensorboard~=2.6->tensorflow) (0.6.1)\n",
      "Requirement already satisfied: pyasn1-modules>=0.2.1 in /Users/lkirch/opt/anaconda3/lib/python3.7/site-packages (from google-auth<3,>=1.6.3->tensorboard~=2.6->tensorflow) (0.2.8)\n",
      "Requirement already satisfied: rsa<5,>=3.1.4; python_version >= \"3.6\" in /Users/lkirch/opt/anaconda3/lib/python3.7/site-packages (from google-auth<3,>=1.6.3->tensorboard~=2.6->tensorflow) (4.8)\n",
      "Requirement already satisfied: cachetools<5.0,>=2.0.0 in /Users/lkirch/opt/anaconda3/lib/python3.7/site-packages (from google-auth<3,>=1.6.3->tensorboard~=2.6->tensorflow) (4.2.4)\n",
      "Requirement already satisfied: idna<2.9,>=2.5 in /Users/lkirch/opt/anaconda3/lib/python3.7/site-packages (from requests<3,>=2.21.0->tensorboard~=2.6->tensorflow) (2.8)\n",
      "Requirement already satisfied: certifi>=2017.4.17 in /Users/lkirch/opt/anaconda3/lib/python3.7/site-packages (from requests<3,>=2.21.0->tensorboard~=2.6->tensorflow) (2021.10.8)\n",
      "Requirement already satisfied: chardet<3.1.0,>=3.0.2 in /Users/lkirch/opt/anaconda3/lib/python3.7/site-packages (from requests<3,>=2.21.0->tensorboard~=2.6->tensorflow) (3.0.4)\n",
      "Requirement already satisfied: urllib3!=1.25.0,!=1.25.1,<1.26,>=1.21.1 in /Users/lkirch/opt/anaconda3/lib/python3.7/site-packages (from requests<3,>=2.21.0->tensorboard~=2.6->tensorflow) (1.24.2)\n",
      "Requirement already satisfied: importlib-metadata>=4.4; python_version < \"3.10\" in /Users/lkirch/.local/lib/python3.7/site-packages (from markdown>=2.6.8->tensorboard~=2.6->tensorflow) (4.8.1)\n",
      "Requirement already satisfied: requests-oauthlib>=0.7.0 in /Users/lkirch/opt/anaconda3/lib/python3.7/site-packages (from google-auth-oauthlib<0.5,>=0.4.1->tensorboard~=2.6->tensorflow) (1.3.0)\n",
      "Requirement already satisfied: pyasn1<0.5.0,>=0.4.6 in /Users/lkirch/opt/anaconda3/lib/python3.7/site-packages (from pyasn1-modules>=0.2.1->google-auth<3,>=1.6.3->tensorboard~=2.6->tensorflow) (0.4.8)\n",
      "Requirement already satisfied: zipp>=0.5 in /Users/lkirch/opt/anaconda3/lib/python3.7/site-packages (from importlib-metadata>=4.4; python_version < \"3.10\"->markdown>=2.6.8->tensorboard~=2.6->tensorflow) (0.6.0)\n",
      "Requirement already satisfied: oauthlib>=3.0.0 in /Users/lkirch/opt/anaconda3/lib/python3.7/site-packages (from requests-oauthlib>=0.7.0->google-auth-oauthlib<0.5,>=0.4.1->tensorboard~=2.6->tensorflow) (3.1.1)\n",
      "Requirement already satisfied: more-itertools in /Users/lkirch/opt/anaconda3/lib/python3.7/site-packages (from zipp>=0.5->importlib-metadata>=4.4; python_version < \"3.10\"->markdown>=2.6.8->tensorboard~=2.6->tensorflow) (7.2.0)\n"
     ]
    }
   ],
   "source": [
    "!pip install tensorflow"
   ]
  },
  {
   "cell_type": "code",
   "execution_count": 21,
   "metadata": {},
   "outputs": [],
   "source": [
    "import tensorflow as tf\n",
    "from tensorflow import keras\n",
    "from tensorflow.keras.preprocessing.image import load_img\n",
    "\n",
    "import tensorflow.lite as tflite\n",
    "\n",
    "from io import BytesIO\n",
    "from urllib import request\n",
    "\n",
    "from PIL import Image"
   ]
  },
  {
   "cell_type": "code",
   "execution_count": 4,
   "metadata": {},
   "outputs": [
    {
     "data": {
      "text/plain": [
       "'2.7.0'"
      ]
     },
     "execution_count": 4,
     "metadata": {},
     "output_type": "execute_result"
    }
   ],
   "source": [
    "tf.__version__"
   ]
  },
  {
   "cell_type": "code",
   "execution_count": 5,
   "metadata": {},
   "outputs": [
    {
     "name": "stdout",
     "output_type": "stream",
     "text": [
      "Python 3.7.4\n"
     ]
    }
   ],
   "source": [
    "!python -V"
   ]
  },
  {
   "cell_type": "code",
   "execution_count": 6,
   "metadata": {
    "execution": {
     "iopub.execute_input": "2021-11-25T17:45:29.770194Z",
     "iopub.status.busy": "2021-11-25T17:45:29.769863Z",
     "iopub.status.idle": "2021-11-25T17:45:31.347364Z",
     "shell.execute_reply": "2021-11-25T17:45:31.346308Z",
     "shell.execute_reply.started": "2021-11-25T17:45:29.770156Z"
    }
   },
   "outputs": [],
   "source": [
    "model = keras.models.load_model('dogs_cats_10_0.687.h5')"
   ]
  },
  {
   "cell_type": "markdown",
   "metadata": {},
   "source": [
    "## Question 1\n",
    "\n",
    "Now convert this model from Keras to TF-Lite format.\n",
    "\n",
    "What's the size of the converted model? "
   ]
  },
  {
   "cell_type": "code",
   "execution_count": 7,
   "metadata": {},
   "outputs": [
    {
     "name": "stdout",
     "output_type": "stream",
     "text": [
      "INFO:tensorflow:Assets written to: /var/folders/my/dfcsq7117_3_f5w7tt517zhw0000gp/T/tmpy7upz8n6/assets\n"
     ]
    },
    {
     "name": "stderr",
     "output_type": "stream",
     "text": [
      "WARNING:absl:Buffer deduplication procedure will be skipped when flatbuffer library is not properly loaded\n"
     ]
    }
   ],
   "source": [
    "converter = tf.lite.TFLiteConverter.from_keras_model(model)\n",
    "\n",
    "tflite_model = converter.convert()\n",
    "\n",
    "with open('dogs_cats_model.tflite', 'wb') as f_out:\n",
    "  f_out.write(tflite_model)"
   ]
  },
  {
   "cell_type": "code",
   "execution_count": 8,
   "metadata": {},
   "outputs": [
    {
     "name": "stdout",
     "output_type": "stream",
     "text": [
      "total 264240\n",
      "-rw-r--r--@  1 lkirch  staff   104K Oct  7 17:24 20211007-Terminal Saved Output.txt\n",
      "-rw-r--r--   1 lkirch  staff   138B Nov 28 09:08 Pipfile\n",
      "-rw-rw-r--@  1 lkirch  staff   6.7K Nov 25 07:44 README.md\n",
      "-rw-rw-r--@  1 lkirch  staff    27K Nov 25 07:44 appendix-b-python.ipynb\n",
      "-rw-rw-r--@  1 lkirch  staff    49K Nov 25 07:44 appendix-c-numpy.ipynb\n",
      "-rw-rw-r--@  1 lkirch  staff   141K Nov 25 07:44 appendix-d-pandas.ipynb\n",
      "drwxrwxr-x@  4 lkirch  staff   128B Nov 25 07:44 \u001b[34mchapter-02-car-price\u001b[m\u001b[m\n",
      "drwxrwxr-x@  5 lkirch  staff   160B Nov 25 07:44 \u001b[34mchapter-03-churn-prediction\u001b[m\u001b[m\n",
      "drwxrwxr-x@ 13 lkirch  staff   416B Nov 25 07:44 \u001b[34mchapter-05-deployment\u001b[m\u001b[m\n",
      "drwxrwxr-x@  4 lkirch  staff   128B Nov 25 07:44 \u001b[34mchapter-06-trees\u001b[m\u001b[m\n",
      "drwxrwxr-x@  5 lkirch  staff   160B Nov 25 07:44 \u001b[34mchapter-07-neural-nets\u001b[m\u001b[m\n",
      "drwxrwxr-x@  8 lkirch  staff   256B Nov 25 07:44 \u001b[34mchapter-08-serverless\u001b[m\u001b[m\n",
      "drwxrwxr-x@  6 lkirch  staff   192B Nov 25 07:44 \u001b[34mchapter-09-kubeflow\u001b[m\u001b[m\n",
      "drwxrwxr-x@ 16 lkirch  staff   512B Nov 25 07:44 \u001b[34mchapter-09-kubernetes\u001b[m\u001b[m\n",
      "drwxr-xr-x   8 lkirch  staff   256B Oct 31 12:24 \u001b[34mcourse-notes\u001b[m\u001b[m\n",
      "drwxrwxr-x@ 16 lkirch  staff   512B Nov 27 12:22 \u001b[34mcourse-zoomcamp\u001b[m\u001b[m\n",
      "drwxr-xr-x   4 lkirch  staff   128B Sep 18 12:15 \u001b[34mdata\u001b[m\u001b[m\n",
      "drwxr-xr-x   2 lkirch  staff    64B Oct 10 14:14 \u001b[34mdocker-test\u001b[m\u001b[m\n",
      "-rw-r--r--@  1 lkirch  staff    86M Nov 26 12:02 dogs_cats_10_0.687.h5\n",
      "-rw-r--r--   1 lkirch  staff    43M Nov 28 09:16 dogs_cats_model.tflite\n",
      "drwxrwxr-x@  5 lkirch  staff   160B Nov 27 06:11 \u001b[34mimages\u001b[m\u001b[m\n",
      "-rw-rw-rw-@  1 lkirch  staff    62K Sep 18 15:38 ml-zoomcamp-assignment-2.ipynb\n",
      "-rw-r--r--@  1 lkirch  staff    46K Sep 26 09:04 ml-zoomcamp-assignment-3.ipynb\n",
      "-rw-r--r--@  1 lkirch  staff    85K Oct  4 11:53 ml-zoomcamp-assignment-4.ipynb\n",
      "-rw-rw-rw-@  1 lkirch  staff    33K Oct 19 17:33 ml-zoomcamp-assignment-6.ipynb\n",
      "-rw-r--r--@  1 lkirch  staff    31K Nov 26 12:12 ml-zoomcamp-assignment-9.ipynb\n",
      "-rw-rw-rw-@  1 lkirch  staff   5.1K Sep  6 19:25 ml_zoocamp_assignment1.ipynb\n",
      "-rw-r--r--@  1 lkirch  staff    23K Nov 26 11:58 ml_zoomcamp_assignment_9.ipynb\n",
      "drwxrwxr-x@ 27 lkirch  staff   864B Oct 16 10:07 \u001b[34mmlbookcamp-code-master\u001b[m\u001b[m\n",
      "-rw-rw-r--@  1 lkirch  staff   163B Nov 25 07:44 useful_code.py\n",
      "drwxrwxr-x@  3 lkirch  staff    96B Nov 25 07:44 \u001b[34mutil\u001b[m\u001b[m\n",
      "drwxr-xr-x  12 lkirch  staff   384B Oct 10 15:32 \u001b[34mwk5\u001b[m\u001b[m\n",
      "drwxr-xr-x  10 lkirch  staff   320B Nov 27 15:32 \u001b[34mwk9\u001b[m\u001b[m\n"
     ]
    }
   ],
   "source": [
    "!ls -lh"
   ]
  },
  {
   "cell_type": "markdown",
   "metadata": {},
   "source": [
    "## Answer 1\n",
    "\n",
    "The size of the converted model is 43MB. "
   ]
  },
  {
   "cell_type": "markdown",
   "metadata": {},
   "source": [
    "## Question 2\n",
    "\n",
    "To be able to use this model, we need to know the index of the input and \n",
    "the index of the output. \n",
    "\n",
    "What's the output index for this model? "
   ]
  },
  {
   "cell_type": "code",
   "execution_count": 9,
   "metadata": {},
   "outputs": [],
   "source": [
    "interpreter = tflite.Interpreter(model_path='dogs_cats_model.tflite')\n",
    "interpreter.allocate_tensors()\n",
    "\n",
    "input_index = interpreter.get_input_details()[0]['index']\n",
    "output_index = interpreter.get_output_details()[0]['index']"
   ]
  },
  {
   "cell_type": "code",
   "execution_count": 10,
   "metadata": {},
   "outputs": [
    {
     "data": {
      "text/plain": [
       "13"
      ]
     },
     "execution_count": 10,
     "metadata": {},
     "output_type": "execute_result"
    }
   ],
   "source": [
    "output_index"
   ]
  },
  {
   "cell_type": "markdown",
   "metadata": {},
   "source": [
    "## Answer 2\n",
    "\n",
    "The output index for this model is 13."
   ]
  },
  {
   "cell_type": "markdown",
   "metadata": {},
   "source": [
    "## Preparing the image\n",
    "\n",
    "You'll need some code for downloading and resizing images. You can use \n",
    "this code:\n",
    "\n",
    "```python\n",
    "from io import BytesIO\n",
    "from urllib import request\n",
    "\n",
    "from PIL import Image\n",
    "\n",
    "def download_image(url):\n",
    "    with request.urlopen(url) as resp:\n",
    "        buffer = resp.read()\n",
    "    stream = BytesIO(buffer)\n",
    "    img = Image.open(stream)\n",
    "    return img\n",
    "\n",
    "\n",
    "def prepare_image(img, target_size):\n",
    "    if img.mode != 'RGB':\n",
    "        img = img.convert('RGB')\n",
    "    img = img.resize(target_size, Image.NEAREST)\n",
    "    return img\n",
    "```\n",
    "\n",
    "For that, you'll need to have pillow installed:\n",
    "\n",
    "```bash\n",
    "pip install pillow\n",
    "```\n",
    "\n",
    "Let's download and resize this image: \n",
    "\n",
    "https://upload.wikimedia.org/wikipedia/commons/9/9a/Pug_600.jpg\n",
    "\n",
    "Based on [the solution of the previous homework](https://github.com/alexeygrigorev/mlbookcamp-code/blob/master/course-zoomcamp/08-deep-learning/CNN_solution.ipynb),\n",
    "what should be the target size for the image? (150, 150)"
   ]
  },
  {
   "cell_type": "code",
   "execution_count": 11,
   "metadata": {},
   "outputs": [],
   "source": [
    "def download_image(url):\n",
    "    with request.urlopen(url) as resp:\n",
    "        buffer = resp.read()\n",
    "    stream = BytesIO(buffer)\n",
    "    img = Image.open(stream)\n",
    "    return img"
   ]
  },
  {
   "cell_type": "code",
   "execution_count": 12,
   "metadata": {},
   "outputs": [],
   "source": [
    "def prepare_image(img, target_size):\n",
    "    if img.mode != 'RGB':\n",
    "        img = img.convert('RGB')\n",
    "    img = img.resize(target_size, Image.NEAREST)\n",
    "    return img"
   ]
  },
  {
   "cell_type": "code",
   "execution_count": 13,
   "metadata": {},
   "outputs": [
    {
     "name": "stdout",
     "output_type": "stream",
     "text": [
      "Requirement already satisfied: pillow in /Users/lkirch/opt/anaconda3/lib/python3.7/site-packages (6.2.0)\n"
     ]
    }
   ],
   "source": [
    "!pip install pillow"
   ]
  },
  {
   "cell_type": "code",
   "execution_count": 14,
   "metadata": {},
   "outputs": [],
   "source": [
    "pug_img = download_image('https://upload.wikimedia.org/wikipedia/commons/9/9a/Pug_600.jpg')"
   ]
  },
  {
   "cell_type": "code",
   "execution_count": 15,
   "metadata": {},
   "outputs": [],
   "source": [
    "pug_img = prepare_image(pug_img, (150,150))"
   ]
  },
  {
   "cell_type": "code",
   "execution_count": 16,
   "metadata": {},
   "outputs": [
    {
     "name": "stdout",
     "output_type": "stream",
     "text": [
      "<class 'PIL.Image.Image'>\n"
     ]
    }
   ],
   "source": [
    "print(type(pug_img))"
   ]
  },
  {
   "cell_type": "markdown",
   "metadata": {},
   "source": [
    "## Question 3\n",
    "\n",
    "Now we need to turn the image into an numpy array and pre-process it. \n",
    "\n",
    "After the pre-processing, what's the value in the first pixel, the R channel?"
   ]
  },
  {
   "cell_type": "code",
   "execution_count": 26,
   "metadata": {},
   "outputs": [
    {
     "data": {
      "text/plain": [
       "(1, 150, 150, 3)"
      ]
     },
     "execution_count": 26,
     "metadata": {},
     "output_type": "execute_result"
    }
   ],
   "source": [
    "x = np.array(pug_img)\n",
    "X = np.array([x])\n",
    "X.shape"
   ]
  },
  {
   "cell_type": "code",
   "execution_count": 27,
   "metadata": {},
   "outputs": [
    {
     "data": {
      "text/plain": [
       "array([0.7058824 , 0.77254903, 0.7490196 ], dtype=float32)"
      ]
     },
     "execution_count": 27,
     "metadata": {},
     "output_type": "execute_result"
    }
   ],
   "source": [
    "# rescale\n",
    "X = np.float32(X*(1./255))\n",
    "X[0][0][0]"
   ]
  },
  {
   "cell_type": "markdown",
   "metadata": {},
   "source": [
    "## Answer 3\n",
    "\n",
    "After the pre-processing, the value in the first pixel, the R channel, is 0.7058824."
   ]
  },
  {
   "cell_type": "markdown",
   "metadata": {},
   "source": [
    "## Question 4\n",
    "\n",
    "Now let's apply this model to this image. What's the output of the model?"
   ]
  },
  {
   "cell_type": "code",
   "execution_count": 28,
   "metadata": {},
   "outputs": [],
   "source": [
    "preds = model.predict(X)"
   ]
  },
  {
   "cell_type": "code",
   "execution_count": 29,
   "metadata": {},
   "outputs": [
    {
     "data": {
      "text/plain": [
       "array([[0.77049136]], dtype=float32)"
      ]
     },
     "execution_count": 29,
     "metadata": {},
     "output_type": "execute_result"
    }
   ],
   "source": [
    "preds"
   ]
  },
  {
   "cell_type": "markdown",
   "metadata": {},
   "source": [
    "## Answer 4\n",
    "\n",
    "The output of the model is 0.77049136.  Indicating a dog."
   ]
  },
  {
   "cell_type": "markdown",
   "metadata": {},
   "source": [
    "## Prepare the lambda code \n",
    "\n",
    "Now you need to copy all the code into a separate python file. You will \n",
    "need to use this file for the next two questions.\n",
    "\n",
    "Tip: you can test this file locally with `ipython` or Jupyter Notebook \n",
    "by importing the file and invoking the function from this file.  \n",
    "\n",
    "\n",
    "## Docker \n",
    "\n",
    "For the next two questions, we'll use a Docker image that I already \n",
    "prepared. This is the Dockerfile that I used for creating the image:\n",
    "\n",
    "```docker\n",
    "FROM public.ecr.aws/lambda/python:3.8\n",
    "COPY cats-dogs-v2.tflite .\n",
    "```\n",
    "\n",
    "And pushed it to [`agrigorev/zoomcamp-cats-dogs-lambda:v2`](https://hub.docker.com/r/agrigorev/zoomcamp-cats-dogs-lambda/tags).\n",
    "\n",
    "\n",
    "> Note: The image already contains a model and it's not the same model\n",
    "> as the one we used for questions 1-4."
   ]
  },
  {
   "cell_type": "markdown",
   "metadata": {},
   "source": [
    "## Question 5\n",
    "\n",
    "Now let's extend this docker image, install all the required libraries\n",
    "and add the code for lambda.\n",
    "\n",
    "You don't need to include the model in the image. It's already included. \n",
    "The name of the file with the model is `cats-dogs-v2.tflite` and it's \n",
    "in the current workdir in the image (see the Dockerfile above for the \n",
    "reference).\n",
    "\n",
    "\n",
    "What's the image id of the base image? \n",
    "\n",
    "In the build logs (on Linux), you'll see a log like that:\n",
    "\n",
    "```\n",
    "$ docker some-command-for-building\n",
    "Sending build context to Docker daemon  2.048kB\n",
    "Step 1/N : FROM agrigorev/zoomcamp-model:3.8.12-slim\n",
    " ---> XXXXXXXXXXXX\n",
    "Step 2/N : ....\n",
    "```\n",
    "\n",
    "You need to get this `XXXXXXXXXXXX`. \n",
    "\n",
    "On MacOS and Windows, the logs for `docker build` are different. \n",
    "To get the image id there, you can use `docker image ls -a`."
   ]
  },
  {
   "cell_type": "markdown",
   "metadata": {},
   "source": [
    "## Answer 5\n",
    "\n",
    "IMAGEID = 322fc756f258"
   ]
  },
  {
   "cell_type": "markdown",
   "metadata": {},
   "source": [
    "## Question 6\n",
    "\n",
    "Now run the container locally.\n",
    "\n",
    "Score this image: https://upload.wikimedia.org/wikipedia/commons/1/18/Vombatus_ursinus_-Maria_Island_National_Park.jpg\n",
    "\n",
    "What's the output from the model? "
   ]
  },
  {
   "cell_type": "markdown",
   "metadata": {},
   "source": [
    "## Answer 6\n",
    "Running the model locally, I get 0.8457329273223877 for the adorable wombat picture.  This is closest to 0.74 in the answer selections."
   ]
  },
  {
   "cell_type": "markdown",
   "metadata": {},
   "source": [
    "## Publishing it to AWS\n",
    "\n",
    "Now you can deploy your model to AWS!\n",
    "\n",
    "* Publish your image to ECR\n",
    "* Create a lambda function in AWS, use the ECR image\n",
    "* Give it more RAM and increase the timeout \n",
    "* Test it\n",
    "* Expose the lambda function using API Gateway"
   ]
  },
  {
   "cell_type": "markdown",
   "metadata": {},
   "source": [
    "## Publishing to Docker hub\n",
    "\n",
    "This is just for reference, this is how I published an image to Docker hub:\n",
    "\n",
    "```bash\n",
    "docker build -t cats-dogs-lambda .\n",
    "docker tag cats-dogs-lambda:latest agrigorev/zoomcamp-cats-dogs-lambda:v2\n",
    "docker push agrigorev/zoomcamp-cats-dogs-lambda:v2\n",
    "```"
   ]
  },
  {
   "cell_type": "code",
   "execution_count": null,
   "metadata": {},
   "outputs": [],
   "source": []
  }
 ],
 "metadata": {
  "kernelspec": {
   "display_name": "Python 3",
   "language": "python",
   "name": "python3"
  },
  "language_info": {
   "codemirror_mode": {
    "name": "ipython",
    "version": 3
   },
   "file_extension": ".py",
   "mimetype": "text/x-python",
   "name": "python",
   "nbconvert_exporter": "python",
   "pygments_lexer": "ipython3",
   "version": "3.7.4"
  }
 },
 "nbformat": 4,
 "nbformat_minor": 4
}
