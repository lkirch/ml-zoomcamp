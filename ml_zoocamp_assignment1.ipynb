{
  "nbformat": 4,
  "nbformat_minor": 0,
  "metadata": {
    "colab": {
      "name": "ml-zoocamp-assignment1.ipynb",
      "provenance": [],
      "collapsed_sections": []
    },
    "kernelspec": {
      "name": "python3",
      "display_name": "Python 3"
    },
    "language_info": {
      "name": "python"
    }
  },
  "cells": [
    {
      "cell_type": "code",
      "metadata": {
        "id": "1hsogUvwCnTJ"
      },
      "source": [
        "import pandas as pd\n",
        "import numpy as np\n",
        "import matplotlib.pyplot as plt\n",
        "import seaborn as sns"
      ],
      "execution_count": 1,
      "outputs": []
    },
    {
      "cell_type": "code",
      "metadata": {
        "colab": {
          "base_uri": "https://localhost:8080/",
          "height": 36
        },
        "id": "lYjeTbsGaGVl",
        "outputId": "42705b2d-2800-4724-e66a-e896a425fa7f"
      },
      "source": [
        "# 1. numpy version\n",
        "np.__version__"
      ],
      "execution_count": 2,
      "outputs": [
        {
          "output_type": "execute_result",
          "data": {
            "application/vnd.google.colaboratory.intrinsic+json": {
              "type": "string"
            },
            "text/plain": [
              "'1.19.5'"
            ]
          },
          "metadata": {},
          "execution_count": 2
        }
      ]
    },
    {
      "cell_type": "code",
      "metadata": {
        "colab": {
          "base_uri": "https://localhost:8080/",
          "height": 36
        },
        "id": "obP8zZKzaJvU",
        "outputId": "1ad15b0b-6e5b-4e91-bb64-0625e00923ec"
      },
      "source": [
        "# 2. pandas version\n",
        "pd.__version__"
      ],
      "execution_count": 3,
      "outputs": [
        {
          "output_type": "execute_result",
          "data": {
            "application/vnd.google.colaboratory.intrinsic+json": {
              "type": "string"
            },
            "text/plain": [
              "'1.1.5'"
            ]
          },
          "metadata": {},
          "execution_count": 3
        }
      ]
    },
    {
      "cell_type": "code",
      "metadata": {
        "colab": {
          "base_uri": "https://localhost:8080/"
        },
        "id": "SygwcutVaPtm",
        "outputId": "a33db670-f6a3-4b11-a003-36a8eb539d0a"
      },
      "source": [
        "# pull in the car price data\n",
        "car_df = pd.read_csv('car_data.csv')\n",
        "car_df.info()"
      ],
      "execution_count": 4,
      "outputs": [
        {
          "output_type": "stream",
          "name": "stdout",
          "text": [
            "<class 'pandas.core.frame.DataFrame'>\n",
            "RangeIndex: 11914 entries, 0 to 11913\n",
            "Data columns (total 16 columns):\n",
            " #   Column             Non-Null Count  Dtype  \n",
            "---  ------             --------------  -----  \n",
            " 0   Make               11914 non-null  object \n",
            " 1   Model              11914 non-null  object \n",
            " 2   Year               11914 non-null  int64  \n",
            " 3   Engine Fuel Type   11911 non-null  object \n",
            " 4   Engine HP          11845 non-null  float64\n",
            " 5   Engine Cylinders   11884 non-null  float64\n",
            " 6   Transmission Type  11914 non-null  object \n",
            " 7   Driven_Wheels      11914 non-null  object \n",
            " 8   Number of Doors    11908 non-null  float64\n",
            " 9   Market Category    8172 non-null   object \n",
            " 10  Vehicle Size       11914 non-null  object \n",
            " 11  Vehicle Style      11914 non-null  object \n",
            " 12  highway MPG        11914 non-null  int64  \n",
            " 13  city mpg           11914 non-null  int64  \n",
            " 14  Popularity         11914 non-null  int64  \n",
            " 15  MSRP               11914 non-null  int64  \n",
            "dtypes: float64(3), int64(5), object(8)\n",
            "memory usage: 1.5+ MB\n"
          ]
        }
      ]
    },
    {
      "cell_type": "code",
      "metadata": {
        "colab": {
          "base_uri": "https://localhost:8080/"
        },
        "id": "GXVeY1xga2vz",
        "outputId": "28d4dbb6-61e7-4759-89d3-4dea908bbaf7"
      },
      "source": [
        "# 3. average price of BMW cars\n",
        "bmws = car_df[car_df['Make'] == 'BMW']\n",
        "print('The average price of BMWs is ${:0.2f}'.format(bmws['MSRP'].mean()))"
      ],
      "execution_count": 5,
      "outputs": [
        {
          "output_type": "stream",
          "name": "stdout",
          "text": [
            "The average price of BMWs is $61546.76\n"
          ]
        }
      ]
    },
    {
      "cell_type": "code",
      "metadata": {
        "colab": {
          "base_uri": "https://localhost:8080/"
        },
        "id": "MbHbzrzebCdO",
        "outputId": "3e942c11-7129-4c5d-8302-a2e616375eef"
      },
      "source": [
        "# 4. in a subset of cars after 2015, how many have missing values?\n",
        "cars_post_2015 = car_df[car_df['Year'] >= 2015]\n",
        "print('{0} cars after 2015 have missing values'.format(cars_post_2015['Engine HP'].isna().sum()))"
      ],
      "execution_count": 6,
      "outputs": [
        {
          "output_type": "stream",
          "name": "stdout",
          "text": [
            "51 cars after 2015 have missing values\n"
          ]
        }
      ]
    },
    {
      "cell_type": "code",
      "metadata": {
        "id": "4XzgN9hQbbse",
        "colab": {
          "base_uri": "https://localhost:8080/"
        },
        "outputId": "83ee9575-959b-4fb7-8897-938e68af8f06"
      },
      "source": [
        "# 5. average Engine HP\n",
        "avg_engine_hp = round(car_df['Engine HP'].mean())\n",
        "print('The average Engine HP is {0}'.format(avg_engine_hp))"
      ],
      "execution_count": 7,
      "outputs": [
        {
          "output_type": "stream",
          "name": "stdout",
          "text": [
            "The average Engine HP is 249\n"
          ]
        }
      ]
    },
    {
      "cell_type": "code",
      "metadata": {
        "id": "dmRRQZSMEBXv",
        "colab": {
          "base_uri": "https://localhost:8080/"
        },
        "outputId": "a0fe6cb7-a7d1-4444-fcbb-ee6fd5f5677c"
      },
      "source": [
        "# using fillna\n",
        "cars_fillna = car_df.copy()\n",
        "cars_fillna['Engine HP'].fillna(value=avg_engine_hp, inplace=True)\n",
        "print('The average Engine HP (with missing data filled) is {0}'.format(round(cars_fillna['Engine HP'].mean())))\n"
      ],
      "execution_count": 8,
      "outputs": [
        {
          "output_type": "stream",
          "name": "stdout",
          "text": [
            "The average Engine HP (with missing data filled) is 249\n"
          ]
        }
      ]
    },
    {
      "cell_type": "code",
      "metadata": {
        "id": "A1NX7No5EDbU",
        "colab": {
          "base_uri": "https://localhost:8080/"
        },
        "outputId": "05b04651-4be3-4393-8f48-e7578069d2b8"
      },
      "source": [
        "# 6. subsetting, removing duplicates, converting to numpy array and matrix multiplication\n",
        "# only Rolls-Royces\n",
        "rr = car_df[car_df['Make'] == 'Rolls-Royce']\n",
        "# keep only these fields\n",
        "rr = rr[['Engine HP','Engine Cylinders','highway MPG']]\n",
        "# remove duplicates\n",
        "rr.drop_duplicates(inplace=True)\n",
        "# convert to a numpy array\n",
        "X = rr.to_numpy()\n",
        "# compute matrix-matrix multiplication of X and X transposed\n",
        "XTX = np.matmul(X.T, X)\n",
        "# invert XTX\n",
        "inverted_xtx = np.linalg.inv(XTX)\n",
        "# sum all the elements\n",
        "print('The sum of the elements of the inverted xtx array is {}'.format(np.sum(inverted_xtx)))"
      ],
      "execution_count": 9,
      "outputs": [
        {
          "output_type": "stream",
          "name": "stdout",
          "text": [
            "The sum of the elements of the inverted xtx array is 0.032212320677486125\n"
          ]
        }
      ]
    },
    {
      "cell_type": "code",
      "metadata": {
        "colab": {
          "base_uri": "https://localhost:8080/"
        },
        "id": "CV27np4gKYCQ",
        "outputId": "17ee4d07-cc74-4362-ce5c-4def4463e42a"
      },
      "source": [
        "print(X.shape)\n",
        "print((X.T).shape)\n",
        "print(XTX.shape)\n",
        "print(inverted_xtx.shape)"
      ],
      "execution_count": 10,
      "outputs": [
        {
          "output_type": "stream",
          "name": "stdout",
          "text": [
            "(7, 3)\n",
            "(3, 7)\n",
            "(3, 3)\n",
            "(3, 3)\n"
          ]
        }
      ]
    },
    {
      "cell_type": "code",
      "metadata": {
        "id": "6yEVekPSEF1y",
        "colab": {
          "base_uri": "https://localhost:8080/"
        },
        "outputId": "c7e4018c-6035-40ac-9097-42489de720c9"
      },
      "source": [
        "# 7. create array y, multiply XTX with X.T, then multiply by the array y\n",
        "y = [1000, 1100, 900, 1200, 1000, 850, 1300]\n",
        "w = np.matmul(np.matmul(inverted_xtx, X.T), y)\n",
        "print(w)\n",
        "print('The first element of w is {0}'.format(w[0]))"
      ],
      "execution_count": 11,
      "outputs": [
        {
          "output_type": "stream",
          "name": "stdout",
          "text": [
            "[ 0.19989598 31.02612262 31.65378877]\n",
            "The first element of w is 0.19989598183188978\n"
          ]
        }
      ]
    }
  ]
}